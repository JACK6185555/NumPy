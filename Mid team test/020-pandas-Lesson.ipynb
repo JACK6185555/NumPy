{
 "cells": [
  {
   "cell_type": "markdown",
   "metadata": {},
   "source": [
    "# CCIT4092 Data Visualization\n",
    "\n",
    "## 03 Pandas Revision\n",
    "\n",
    "Documentation: https://pandas.pydata.org<br>"
   ]
  },
  {
   "cell_type": "markdown",
   "metadata": {},
   "source": [
    "### Data Structure -- Series"
   ]
  },
  {
   "cell_type": "code",
   "execution_count": 1,
   "metadata": {},
   "outputs": [],
   "source": [
    "# Series\n",
    "import pandas as pd\n",
    "from pandas import Series "
   ]
  },
  {
   "cell_type": "code",
   "execution_count": 2,
   "metadata": {},
   "outputs": [
    {
     "name": "stdout",
     "output_type": "stream",
     "text": [
      "0    4\n",
      "1    7\n",
      "2   -5\n",
      "3    3\n",
      "dtype: int64 \n",
      "\n",
      "[ 4  7 -5  3] \n",
      "\n",
      "RangeIndex(start=0, stop=4, step=1) \n",
      "\n"
     ]
    }
   ],
   "source": [
    "# list: [4,7,-5,3]\n",
    "# numpy: numpy array \n",
    "\n",
    "obj = pd.Series([4,7,-5,3])\n",
    "\n",
    "print(obj,'\\n')\n",
    "print(obj.values, '\\n')\n",
    "print(obj.index, '\\n')"
   ]
  },
  {
   "cell_type": "code",
   "execution_count": 3,
   "metadata": {},
   "outputs": [
    {
     "name": "stdout",
     "output_type": "stream",
     "text": [
      "dog    4\n",
      "boy    7\n",
      "a     -5\n",
      "c      3\n",
      "dtype: int64 \n",
      "\n",
      "Index(['dog', 'boy', 'a', 'c'], dtype='object') \n",
      "\n",
      "-5 \n",
      "\n",
      "a   -5\n",
      "dtype: int64 \n",
      "\n",
      "dog     8\n",
      "boy    14\n",
      "a     -10\n",
      "c       6\n",
      "dtype: int64 \n",
      "\n"
     ]
    }
   ],
   "source": [
    "# Series with a label\n",
    "\n",
    "obj2 = pd.Series([4,7,-5,3],index=['dog','boy','a','c'])\n",
    "print(obj2,'\\n')\n",
    "print(obj2.index,'\\n')\n",
    "print(obj2['a'],'\\n')\n",
    "\n",
    "print(obj2[obj2<0],'\\n') # data filtering \n",
    "\n",
    "print(obj2*2,'\\n')"
   ]
  },
  {
   "cell_type": "code",
   "execution_count": 6,
   "metadata": {},
   "outputs": [],
   "source": [
    "# Series\n",
    "# Arithmetic operation\n",
    "\n",
    "fruit_dict = {'apple':35, 'orange':71, 'lemon':16, 'melon':50}\n",
    "obj3 = pd.Series(fruit_dict)"
   ]
  },
  {
   "cell_type": "code",
   "execution_count": 7,
   "metadata": {},
   "outputs": [],
   "source": [
    "# data alignment\n",
    "fruit_label = ['banana','apple','lemon','kiwi']\n",
    "obj4 = pd.Series(fruit_dict,index=fruit_label)"
   ]
  },
  {
   "cell_type": "code",
   "execution_count": 8,
   "metadata": {},
   "outputs": [
    {
     "name": "stdout",
     "output_type": "stream",
     "text": [
      "apple     35\n",
      "orange    71\n",
      "lemon     16\n",
      "melon     50\n",
      "dtype: int64 \n",
      "\n",
      "banana     NaN\n",
      "apple     35.0\n",
      "lemon     16.0\n",
      "kiwi       NaN\n",
      "dtype: float64 \n",
      "\n",
      "apple     70.0\n",
      "banana     NaN\n",
      "kiwi       NaN\n",
      "lemon     32.0\n",
      "melon      NaN\n",
      "orange     NaN\n",
      "dtype: float64 \n",
      "\n"
     ]
    }
   ],
   "source": [
    "print(obj3,'\\n')\n",
    "print(obj4,'\\n')\n",
    "print(obj3+obj4,'\\n')"
   ]
  },
  {
   "cell_type": "code",
   "execution_count": 9,
   "metadata": {
    "scrolled": true
   },
   "outputs": [
    {
     "name": "stdout",
     "output_type": "stream",
     "text": [
      "a    0.0\n",
      "b    1.0\n",
      "c    2.0\n",
      "d    3.0\n",
      "dtype: float64 \n",
      "\n",
      "1.0 \n",
      "\n",
      "0.0 \n",
      "\n",
      "c    2.0\n",
      "d    3.0\n",
      "dtype: float64 \n",
      "\n",
      "b    1.0\n",
      "c    2.0\n",
      "d    3.0\n",
      "dtype: float64 \n",
      "\n",
      "b    1.0\n",
      "d    3.0\n",
      "dtype: float64 \n",
      "\n",
      "a    0.0\n",
      "b    1.0\n",
      "dtype: float64 \n",
      "\n",
      "b    1.0\n",
      "c    2.0\n",
      "dtype: float64 \n",
      "\n",
      "a    0.0\n",
      "b    5.0\n",
      "c    5.0\n",
      "d    3.0\n",
      "dtype: float64 \n",
      "\n"
     ]
    }
   ],
   "source": [
    "# Series - Indexing\n",
    "\n",
    "import numpy as np\n",
    "# index                                0    1    2    3\n",
    "obj = pd.Series(np.arange(4.), index=['a', 'b', 'c', 'd']) # labeled index\n",
    "\n",
    "print(obj,'\\n') \n",
    "\n",
    "print(obj['b'],'\\n')\n",
    "\n",
    "print(obj[0],'\\n')\n",
    "\n",
    "print(obj[2:4],'\\n')\n",
    "\n",
    "print(obj[['b','c','d']],'\\n') # use the index label to extract the columns and group together\n",
    "\n",
    "print(obj[[1,3]],'\\n') # get index 1 and index 3 and display\n",
    "\n",
    "print(obj[obj<2],'\\n')\n",
    "\n",
    "print(obj['b':'c'],'\\n')\n",
    "\n",
    "obj[['b','c']]= 5\n",
    "print(obj,'\\n')"
   ]
  },
  {
   "cell_type": "markdown",
   "metadata": {},
   "source": [
    "### Data Structure -- DataFrame"
   ]
  },
  {
   "cell_type": "code",
   "execution_count": null,
   "metadata": {},
   "outputs": [],
   "source": [
    "# {1,2,3,'A','B'} Set \n",
    "# {Key1:Value1, Key2:Value2, ... KeyN:ValueN} Dictionary\n",
    "# (1,2,3) Tuple\n",
    "# [1,2,4,5] List "
   ]
  },
  {
   "cell_type": "code",
   "execution_count": 11,
   "metadata": {},
   "outputs": [
    {
     "data": {
      "text/html": [
       "<div>\n",
       "<style scoped>\n",
       "    .dataframe tbody tr th:only-of-type {\n",
       "        vertical-align: middle;\n",
       "    }\n",
       "\n",
       "    .dataframe tbody tr th {\n",
       "        vertical-align: top;\n",
       "    }\n",
       "\n",
       "    .dataframe thead th {\n",
       "        text-align: right;\n",
       "    }\n",
       "</style>\n",
       "<table border=\"1\" class=\"dataframe\">\n",
       "  <thead>\n",
       "    <tr style=\"text-align: right;\">\n",
       "      <th></th>\n",
       "      <th>item</th>\n",
       "      <th>quantity</th>\n",
       "      <th>price</th>\n",
       "    </tr>\n",
       "  </thead>\n",
       "  <tbody>\n",
       "    <tr>\n",
       "      <th>0</th>\n",
       "      <td>facemask</td>\n",
       "      <td>0</td>\n",
       "      <td>280.0</td>\n",
       "    </tr>\n",
       "    <tr>\n",
       "      <th>1</th>\n",
       "      <td>toilet paper</td>\n",
       "      <td>1000</td>\n",
       "      <td>30.0</td>\n",
       "    </tr>\n",
       "    <tr>\n",
       "      <th>2</th>\n",
       "      <td>hand sanitizer</td>\n",
       "      <td>580</td>\n",
       "      <td>25.0</td>\n",
       "    </tr>\n",
       "    <tr>\n",
       "      <th>3</th>\n",
       "      <td>dettol</td>\n",
       "      <td>10</td>\n",
       "      <td>30.5</td>\n",
       "    </tr>\n",
       "    <tr>\n",
       "      <th>4</th>\n",
       "      <td>bleach</td>\n",
       "      <td>5</td>\n",
       "      <td>8.9</td>\n",
       "    </tr>\n",
       "    <tr>\n",
       "      <th>5</th>\n",
       "      <td>glove</td>\n",
       "      <td>200</td>\n",
       "      <td>32.5</td>\n",
       "    </tr>\n",
       "  </tbody>\n",
       "</table>\n",
       "</div>"
      ],
      "text/plain": [
       "             item  quantity  price\n",
       "0        facemask         0  280.0\n",
       "1    toilet paper      1000   30.0\n",
       "2  hand sanitizer       580   25.0\n",
       "3          dettol        10   30.5\n",
       "4          bleach         5    8.9\n",
       "5           glove       200   32.5"
      ]
     },
     "metadata": {},
     "output_type": "display_data"
    }
   ],
   "source": [
    "# DataFrame\n",
    "from pandas import DataFrame \n",
    "\n",
    "data = {'item': ['facemask', 'toilet paper', 'hand sanitizer', 'dettol', 'bleach', 'glove'],\n",
    "'quantity': [0, 1000, 580, 10, 5, 200],\n",
    "'price': [280, 30, 25, 30.5, 8.9, 32.5]}\n",
    "\n",
    "frame = pd.DataFrame(data)\n",
    "display(frame)"
   ]
  },
  {
   "cell_type": "code",
   "execution_count": 12,
   "metadata": {},
   "outputs": [
    {
     "data": {
      "text/html": [
       "<div>\n",
       "<style scoped>\n",
       "    .dataframe tbody tr th:only-of-type {\n",
       "        vertical-align: middle;\n",
       "    }\n",
       "\n",
       "    .dataframe tbody tr th {\n",
       "        vertical-align: top;\n",
       "    }\n",
       "\n",
       "    .dataframe thead th {\n",
       "        text-align: right;\n",
       "    }\n",
       "</style>\n",
       "<table border=\"1\" class=\"dataframe\">\n",
       "  <thead>\n",
       "    <tr style=\"text-align: right;\">\n",
       "      <th></th>\n",
       "      <th>item</th>\n",
       "      <th>quantity</th>\n",
       "      <th>price</th>\n",
       "    </tr>\n",
       "  </thead>\n",
       "  <tbody>\n",
       "    <tr>\n",
       "      <th>0</th>\n",
       "      <td>facemask</td>\n",
       "      <td>0</td>\n",
       "      <td>280.0</td>\n",
       "    </tr>\n",
       "    <tr>\n",
       "      <th>1</th>\n",
       "      <td>toilet paper</td>\n",
       "      <td>1000</td>\n",
       "      <td>30.0</td>\n",
       "    </tr>\n",
       "    <tr>\n",
       "      <th>2</th>\n",
       "      <td>hand sanitizer</td>\n",
       "      <td>580</td>\n",
       "      <td>25.0</td>\n",
       "    </tr>\n",
       "  </tbody>\n",
       "</table>\n",
       "</div>"
      ],
      "text/plain": [
       "             item  quantity  price\n",
       "0        facemask         0  280.0\n",
       "1    toilet paper      1000   30.0\n",
       "2  hand sanitizer       580   25.0"
      ]
     },
     "metadata": {},
     "output_type": "display_data"
    }
   ],
   "source": [
    "display(frame.head(3))"
   ]
  },
  {
   "cell_type": "code",
   "execution_count": 15,
   "metadata": {},
   "outputs": [
    {
     "data": {
      "text/plain": [
       "18"
      ]
     },
     "execution_count": 15,
     "metadata": {},
     "output_type": "execute_result"
    }
   ],
   "source": [
    "frame.size"
   ]
  },
  {
   "cell_type": "code",
   "execution_count": 20,
   "metadata": {},
   "outputs": [
    {
     "data": {
      "text/plain": [
       "(6, 3)"
      ]
     },
     "execution_count": 20,
     "metadata": {},
     "output_type": "execute_result"
    }
   ],
   "source": [
    "frame.shape"
   ]
  },
  {
   "cell_type": "code",
   "execution_count": 23,
   "metadata": {},
   "outputs": [
    {
     "data": {
      "text/plain": [
       "2"
      ]
     },
     "execution_count": 23,
     "metadata": {},
     "output_type": "execute_result"
    }
   ],
   "source": [
    "frame.ndim"
   ]
  },
  {
   "cell_type": "code",
   "execution_count": 24,
   "metadata": {},
   "outputs": [
    {
     "data": {
      "text/html": [
       "<div>\n",
       "<style scoped>\n",
       "    .dataframe tbody tr th:only-of-type {\n",
       "        vertical-align: middle;\n",
       "    }\n",
       "\n",
       "    .dataframe tbody tr th {\n",
       "        vertical-align: top;\n",
       "    }\n",
       "\n",
       "    .dataframe thead th {\n",
       "        text-align: right;\n",
       "    }\n",
       "</style>\n",
       "<table border=\"1\" class=\"dataframe\">\n",
       "  <thead>\n",
       "    <tr style=\"text-align: right;\">\n",
       "      <th></th>\n",
       "      <th>item</th>\n",
       "      <th>quantity</th>\n",
       "      <th>price</th>\n",
       "    </tr>\n",
       "  </thead>\n",
       "  <tbody>\n",
       "    <tr>\n",
       "      <th>0</th>\n",
       "      <td>facemask</td>\n",
       "      <td>0</td>\n",
       "      <td>280.0</td>\n",
       "    </tr>\n",
       "    <tr>\n",
       "      <th>1</th>\n",
       "      <td>toilet paper</td>\n",
       "      <td>1000</td>\n",
       "      <td>30.0</td>\n",
       "    </tr>\n",
       "    <tr>\n",
       "      <th>2</th>\n",
       "      <td>hand sanitizer</td>\n",
       "      <td>580</td>\n",
       "      <td>25.0</td>\n",
       "    </tr>\n",
       "    <tr>\n",
       "      <th>3</th>\n",
       "      <td>dettol</td>\n",
       "      <td>10</td>\n",
       "      <td>30.5</td>\n",
       "    </tr>\n",
       "    <tr>\n",
       "      <th>4</th>\n",
       "      <td>bleach</td>\n",
       "      <td>5</td>\n",
       "      <td>8.9</td>\n",
       "    </tr>\n",
       "    <tr>\n",
       "      <th>5</th>\n",
       "      <td>glove</td>\n",
       "      <td>200</td>\n",
       "      <td>32.5</td>\n",
       "    </tr>\n",
       "  </tbody>\n",
       "</table>\n",
       "</div>"
      ],
      "text/plain": [
       "             item  quantity  price\n",
       "0        facemask         0  280.0\n",
       "1    toilet paper      1000   30.0\n",
       "2  hand sanitizer       580   25.0\n",
       "3          dettol        10   30.5\n",
       "4          bleach         5    8.9\n",
       "5           glove       200   32.5"
      ]
     },
     "metadata": {},
     "output_type": "display_data"
    }
   ],
   "source": [
    "display(frame)"
   ]
  },
  {
   "cell_type": "code",
   "execution_count": 21,
   "metadata": {},
   "outputs": [
    {
     "data": {
      "text/html": [
       "<div>\n",
       "<style scoped>\n",
       "    .dataframe tbody tr th:only-of-type {\n",
       "        vertical-align: middle;\n",
       "    }\n",
       "\n",
       "    .dataframe tbody tr th {\n",
       "        vertical-align: top;\n",
       "    }\n",
       "\n",
       "    .dataframe thead th {\n",
       "        text-align: right;\n",
       "    }\n",
       "</style>\n",
       "<table border=\"1\" class=\"dataframe\">\n",
       "  <thead>\n",
       "    <tr style=\"text-align: right;\">\n",
       "      <th></th>\n",
       "      <th>item</th>\n",
       "      <th>price</th>\n",
       "      <th>quantity</th>\n",
       "      <th>shop</th>\n",
       "    </tr>\n",
       "  </thead>\n",
       "  <tbody>\n",
       "    <tr>\n",
       "      <th>one</th>\n",
       "      <td>facemask</td>\n",
       "      <td>280.0</td>\n",
       "      <td>0</td>\n",
       "      <td>NaN</td>\n",
       "    </tr>\n",
       "    <tr>\n",
       "      <th>two</th>\n",
       "      <td>toilet paper</td>\n",
       "      <td>30.0</td>\n",
       "      <td>1000</td>\n",
       "      <td>NaN</td>\n",
       "    </tr>\n",
       "    <tr>\n",
       "      <th>four</th>\n",
       "      <td>hand sanitizer</td>\n",
       "      <td>25.0</td>\n",
       "      <td>580</td>\n",
       "      <td>NaN</td>\n",
       "    </tr>\n",
       "    <tr>\n",
       "      <th>three</th>\n",
       "      <td>dettol</td>\n",
       "      <td>30.5</td>\n",
       "      <td>10</td>\n",
       "      <td>NaN</td>\n",
       "    </tr>\n",
       "    <tr>\n",
       "      <th>five</th>\n",
       "      <td>bleach</td>\n",
       "      <td>8.9</td>\n",
       "      <td>5</td>\n",
       "      <td>NaN</td>\n",
       "    </tr>\n",
       "    <tr>\n",
       "      <th>six</th>\n",
       "      <td>glove</td>\n",
       "      <td>32.5</td>\n",
       "      <td>200</td>\n",
       "      <td>NaN</td>\n",
       "    </tr>\n",
       "  </tbody>\n",
       "</table>\n",
       "</div>"
      ],
      "text/plain": [
       "                 item  price  quantity shop\n",
       "one          facemask  280.0         0  NaN\n",
       "two      toilet paper   30.0      1000  NaN\n",
       "four   hand sanitizer   25.0       580  NaN\n",
       "three          dettol   30.5        10  NaN\n",
       "five           bleach    8.9         5  NaN\n",
       "six             glove   32.5       200  NaN"
      ]
     },
     "execution_count": 21,
     "metadata": {},
     "output_type": "execute_result"
    }
   ],
   "source": [
    "# DataFrame\n",
    "frame2 = pd.DataFrame(data, \n",
    "                      columns=['item', 'price', 'quantity', 'shop'],\n",
    "                      index=['one', 'two', 'four', 'three','five', 'six'])\n",
    "frame2"
   ]
  },
  {
   "cell_type": "code",
   "execution_count": 25,
   "metadata": {},
   "outputs": [
    {
     "name": "stdout",
     "output_type": "stream",
     "text": [
      "one            facemask\n",
      "two        toilet paper\n",
      "four     hand sanitizer\n",
      "three            dettol\n",
      "five             bleach\n",
      "six               glove\n",
      "Name: item, dtype: object \n",
      "\n"
     ]
    }
   ],
   "source": [
    "print(frame2['item'],'\\n')   # column"
   ]
  },
  {
   "cell_type": "code",
   "execution_count": 26,
   "metadata": {},
   "outputs": [
    {
     "name": "stdout",
     "output_type": "stream",
     "text": [
      "one         0\n",
      "two      1000\n",
      "four      580\n",
      "three      10\n",
      "five        5\n",
      "six       200\n",
      "Name: quantity, dtype: int64 \n",
      "\n"
     ]
    }
   ],
   "source": [
    "print(frame2.quantity,'\\n')  # column"
   ]
  },
  {
   "cell_type": "code",
   "execution_count": 28,
   "metadata": {},
   "outputs": [
    {
     "name": "stdout",
     "output_type": "stream",
     "text": [
      "item        dettol\n",
      "price         30.5\n",
      "quantity        10\n",
      "shop           NaN\n",
      "Name: three, dtype: object \n",
      "\n"
     ]
    }
   ],
   "source": [
    "print(frame2.loc['three'],'\\n')   # row"
   ]
  },
  {
   "cell_type": "code",
   "execution_count": 29,
   "metadata": {},
   "outputs": [
    {
     "name": "stdout",
     "output_type": "stream",
     "text": [
      "quantity          10\n",
      "shop        hktvmall\n",
      "Name: three, dtype: object \n",
      "\n"
     ]
    }
   ],
   "source": [
    "frame2['shop'] = 'hktvmall'       # column\n",
    "\n",
    "print(frame2.loc['three',['quantity','shop']],'\\n')   # row"
   ]
  },
  {
   "cell_type": "code",
   "execution_count": 30,
   "metadata": {
    "scrolled": true
   },
   "outputs": [
    {
     "name": "stdout",
     "output_type": "stream",
     "text": [
      "shop           hktvmall\n",
      "item     hand sanitizer\n",
      "price              25.0\n",
      "Name: four, dtype: object \n",
      "\n",
      "item        hand sanitizer\n",
      "price                 25.0\n",
      "quantity               580\n",
      "shop              hktvmall\n",
      "Name: four, dtype: object \n",
      "\n",
      "          shop            item  price\n",
      "two   hktvmall    toilet paper   30.0\n",
      "four  hktvmall  hand sanitizer   25.0 \n",
      "\n"
     ]
    }
   ],
   "source": [
    "# DataFrame - Use the indexes\n",
    "print(frame2.iloc[2,[3,0,1]],'\\n')\n",
    "print(frame2.iloc[2],'\\n')\n",
    "print(frame2.iloc[[1,2],[3,0,1]],'\\n')"
   ]
  },
  {
   "cell_type": "code",
   "execution_count": 33,
   "metadata": {},
   "outputs": [
    {
     "name": "stdout",
     "output_type": "stream",
     "text": [
      "                 item  price  quantity      shop\n",
      "one          facemask  280.0         0  hktvmall\n",
      "two      toilet paper   30.0      1000  hktvmall\n",
      "four   hand sanitizer   25.0       580  hktvmall\n",
      "three          dettol   30.5        10  hktvmall\n",
      "five           bleach    8.9         5  hktvmall\n",
      "six             glove   32.5       200  hktvmall \n",
      "\n",
      "10 \n",
      "\n",
      "toilet paper\n"
     ]
    }
   ],
   "source": [
    "#DataFrame - Get a particular entry\n",
    "print(frame2, '\\n')\n",
    "print(frame2.iat[3,2], '\\n')    #index\n",
    "print(frame2.at['two', 'item']) # name"
   ]
  },
  {
   "cell_type": "code",
   "execution_count": 34,
   "metadata": {},
   "outputs": [
    {
     "data": {
      "text/plain": [
       "['class1', 'class2', 'class3', 'class1', 'class2', 'class4']\n",
       "Categories (4, object): ['class1', 'class2', 'class3', 'class4']"
      ]
     },
     "execution_count": 34,
     "metadata": {},
     "output_type": "execute_result"
    }
   ],
   "source": [
    "# Categorical\n",
    "\n",
    "categories = pd.Categorical(['class1', 'class2', 'class3', 'class1', 'class2', 'class4'])\n",
    "categories"
   ]
  },
  {
   "cell_type": "markdown",
   "metadata": {},
   "source": [
    "### Sorting and Ranking"
   ]
  },
  {
   "cell_type": "code",
   "execution_count": 35,
   "metadata": {
    "scrolled": true
   },
   "outputs": [
    {
     "name": "stdout",
     "output_type": "stream",
     "text": [
      "0    7\n",
      "1   -5\n",
      "2    7\n",
      "3    4\n",
      "4    2\n",
      "5    0\n",
      "6    4\n",
      "dtype: int64 \n",
      "\n",
      "1   -5\n",
      "5    0\n",
      "4    2\n",
      "3    4\n",
      "6    4\n",
      "0    7\n",
      "2    7\n",
      "dtype: int64 \n",
      "\n"
     ]
    }
   ],
   "source": [
    "# Sorting and Ranking\n",
    "\n",
    "obj = pd.Series([7,-5,7,4,2,0,4])\n",
    "\n",
    "print(obj,'\\n')\n",
    "\n",
    "print(obj.sort_values(), '\\n')"
   ]
  },
  {
   "cell_type": "code",
   "execution_count": 36,
   "metadata": {},
   "outputs": [
    {
     "name": "stdout",
     "output_type": "stream",
     "text": [
      "0    6.5\n",
      "1    1.0\n",
      "2    6.5\n",
      "3    4.5\n",
      "4    3.0\n",
      "5    2.0\n",
      "6    4.5\n",
      "dtype: float64 \n",
      "\n",
      "0    6.0\n",
      "1    1.0\n",
      "2    6.0\n",
      "3    4.0\n",
      "4    3.0\n",
      "5    2.0\n",
      "6    4.0\n",
      "dtype: float64 \n",
      "\n",
      "0    2.0\n",
      "1    7.0\n",
      "2    2.0\n",
      "3    4.0\n",
      "4    5.0\n",
      "5    6.0\n",
      "6    4.0\n",
      "dtype: float64 \n",
      "\n"
     ]
    }
   ],
   "source": [
    "print(obj.rank(),'\\n')\n",
    "\n",
    "print(obj.rank(method='min'),'\\n')   # method=average / min / max / first /dense\n",
    "\n",
    "print(obj.rank(ascending=False, method='max'),'\\n')"
   ]
  },
  {
   "cell_type": "code",
   "execution_count": 37,
   "metadata": {},
   "outputs": [
    {
     "data": {
      "text/html": [
       "<div>\n",
       "<style scoped>\n",
       "    .dataframe tbody tr th:only-of-type {\n",
       "        vertical-align: middle;\n",
       "    }\n",
       "\n",
       "    .dataframe tbody tr th {\n",
       "        vertical-align: top;\n",
       "    }\n",
       "\n",
       "    .dataframe thead th {\n",
       "        text-align: right;\n",
       "    }\n",
       "</style>\n",
       "<table border=\"1\" class=\"dataframe\">\n",
       "  <thead>\n",
       "    <tr style=\"text-align: right;\">\n",
       "      <th></th>\n",
       "      <th>item</th>\n",
       "      <th>price</th>\n",
       "      <th>quantity</th>\n",
       "      <th>shop</th>\n",
       "    </tr>\n",
       "  </thead>\n",
       "  <tbody>\n",
       "    <tr>\n",
       "      <th>five</th>\n",
       "      <td>bleach</td>\n",
       "      <td>8.9</td>\n",
       "      <td>5</td>\n",
       "      <td>hktvmall</td>\n",
       "    </tr>\n",
       "    <tr>\n",
       "      <th>three</th>\n",
       "      <td>dettol</td>\n",
       "      <td>30.5</td>\n",
       "      <td>10</td>\n",
       "      <td>hktvmall</td>\n",
       "    </tr>\n",
       "    <tr>\n",
       "      <th>one</th>\n",
       "      <td>facemask</td>\n",
       "      <td>280.0</td>\n",
       "      <td>0</td>\n",
       "      <td>hktvmall</td>\n",
       "    </tr>\n",
       "    <tr>\n",
       "      <th>six</th>\n",
       "      <td>glove</td>\n",
       "      <td>32.5</td>\n",
       "      <td>200</td>\n",
       "      <td>hktvmall</td>\n",
       "    </tr>\n",
       "    <tr>\n",
       "      <th>four</th>\n",
       "      <td>hand sanitizer</td>\n",
       "      <td>25.0</td>\n",
       "      <td>580</td>\n",
       "      <td>hktvmall</td>\n",
       "    </tr>\n",
       "    <tr>\n",
       "      <th>two</th>\n",
       "      <td>toilet paper</td>\n",
       "      <td>30.0</td>\n",
       "      <td>1000</td>\n",
       "      <td>hktvmall</td>\n",
       "    </tr>\n",
       "  </tbody>\n",
       "</table>\n",
       "</div>"
      ],
      "text/plain": [
       "                 item  price  quantity      shop\n",
       "five           bleach    8.9         5  hktvmall\n",
       "three          dettol   30.5        10  hktvmall\n",
       "one          facemask  280.0         0  hktvmall\n",
       "six             glove   32.5       200  hktvmall\n",
       "four   hand sanitizer   25.0       580  hktvmall\n",
       "two      toilet paper   30.0      1000  hktvmall"
      ]
     },
     "execution_count": 37,
     "metadata": {},
     "output_type": "execute_result"
    }
   ],
   "source": [
    "# Sorting - DataFrame\n",
    "\n",
    "frame2.sort_values(by='item', inplace=True)\n",
    "frame2"
   ]
  },
  {
   "cell_type": "code",
   "execution_count": 40,
   "metadata": {},
   "outputs": [
    {
     "data": {
      "text/html": [
       "<div>\n",
       "<style scoped>\n",
       "    .dataframe tbody tr th:only-of-type {\n",
       "        vertical-align: middle;\n",
       "    }\n",
       "\n",
       "    .dataframe tbody tr th {\n",
       "        vertical-align: top;\n",
       "    }\n",
       "\n",
       "    .dataframe thead th {\n",
       "        text-align: right;\n",
       "    }\n",
       "</style>\n",
       "<table border=\"1\" class=\"dataframe\">\n",
       "  <thead>\n",
       "    <tr style=\"text-align: right;\">\n",
       "      <th></th>\n",
       "      <th>item</th>\n",
       "      <th>price</th>\n",
       "      <th>quantity</th>\n",
       "      <th>shop</th>\n",
       "    </tr>\n",
       "  </thead>\n",
       "  <tbody>\n",
       "    <tr>\n",
       "      <th>five</th>\n",
       "      <td>bleach</td>\n",
       "      <td>8.9</td>\n",
       "      <td>5</td>\n",
       "      <td>hktvmall</td>\n",
       "    </tr>\n",
       "    <tr>\n",
       "      <th>three</th>\n",
       "      <td>dettol</td>\n",
       "      <td>30.5</td>\n",
       "      <td>10</td>\n",
       "      <td>hktvmall</td>\n",
       "    </tr>\n",
       "    <tr>\n",
       "      <th>one</th>\n",
       "      <td>facemask</td>\n",
       "      <td>280.0</td>\n",
       "      <td>10</td>\n",
       "      <td>hktvmall</td>\n",
       "    </tr>\n",
       "    <tr>\n",
       "      <th>six</th>\n",
       "      <td>glove</td>\n",
       "      <td>32.5</td>\n",
       "      <td>200</td>\n",
       "      <td>hktvmall</td>\n",
       "    </tr>\n",
       "    <tr>\n",
       "      <th>four</th>\n",
       "      <td>hand sanitizer</td>\n",
       "      <td>25.0</td>\n",
       "      <td>580</td>\n",
       "      <td>hktvmall</td>\n",
       "    </tr>\n",
       "    <tr>\n",
       "      <th>two</th>\n",
       "      <td>toilet paper</td>\n",
       "      <td>30.0</td>\n",
       "      <td>1000</td>\n",
       "      <td>hktvmall</td>\n",
       "    </tr>\n",
       "  </tbody>\n",
       "</table>\n",
       "</div>"
      ],
      "text/plain": [
       "                 item  price  quantity      shop\n",
       "five           bleach    8.9         5  hktvmall\n",
       "three          dettol   30.5        10  hktvmall\n",
       "one          facemask  280.0        10  hktvmall\n",
       "six             glove   32.5       200  hktvmall\n",
       "four   hand sanitizer   25.0       580  hktvmall\n",
       "two      toilet paper   30.0      1000  hktvmall"
      ]
     },
     "execution_count": 40,
     "metadata": {},
     "output_type": "execute_result"
    }
   ],
   "source": [
    "frame2.at['one', 'quantity']=10\n",
    "frame2.sort_values(by=['quantity','item'], inplace=True)\n",
    "frame2"
   ]
  },
  {
   "cell_type": "code",
   "execution_count": 41,
   "metadata": {},
   "outputs": [
    {
     "name": "stdout",
     "output_type": "stream",
     "text": [
      "['c' 'a' 'd' 'b'] \n",
      "\n",
      "['a' 'b' 'c' 'd'] \n",
      "\n"
     ]
    }
   ],
   "source": [
    "# Unique Values, Value Counts, and Membership\n",
    "\n",
    "obj = pd.Series(['c', 'a', 'd', 'a', 'a', 'b', 'b', 'c', 'c'])\n",
    "uniques = obj.unique()\n",
    "print(uniques,'\\n')\n",
    "uniques.sort() # inplace\n",
    "print(uniques,'\\n')"
   ]
  },
  {
   "cell_type": "code",
   "execution_count": 42,
   "metadata": {},
   "outputs": [
    {
     "name": "stdout",
     "output_type": "stream",
     "text": [
      "    one  two\n",
      "a  1.40  NaN\n",
      "b  7.10 -4.5\n",
      "c   NaN  NaN\n",
      "d  0.75 -1.3 \n",
      "\n",
      "one    9.25\n",
      "two   -5.80\n",
      "dtype: float64 \n",
      "\n",
      "a    1.40\n",
      "b    2.60\n",
      "c    0.00\n",
      "d   -0.55\n",
      "dtype: float64 \n",
      "\n",
      "a     NaN\n",
      "b    2.60\n",
      "c     NaN\n",
      "d   -0.55\n",
      "dtype: float64 \n",
      "\n"
     ]
    }
   ],
   "source": [
    "# Summarizing and Computing Descriptive Statistics \n",
    "\n",
    "df = pd.DataFrame([[1.4, np.nan], [7.1, -4.5],\n",
    "                   [np.nan, np.nan], [0.75, -1.3]],\n",
    "                  index=['a', 'b', 'c', 'd'],\n",
    "                  columns=['one', 'two'])\n",
    "print(df,'\\n')\n",
    "\n",
    "print(df.sum(),'\\n')\n",
    "\n",
    "print(df.sum(axis='columns'),'\\n')\n",
    "\n",
    "print(df.sum(axis='columns',skipna=False),'\\n')"
   ]
  },
  {
   "cell_type": "code",
   "execution_count": 43,
   "metadata": {},
   "outputs": [
    {
     "data": {
      "text/html": [
       "<div>\n",
       "<style scoped>\n",
       "    .dataframe tbody tr th:only-of-type {\n",
       "        vertical-align: middle;\n",
       "    }\n",
       "\n",
       "    .dataframe tbody tr th {\n",
       "        vertical-align: top;\n",
       "    }\n",
       "\n",
       "    .dataframe thead th {\n",
       "        text-align: right;\n",
       "    }\n",
       "</style>\n",
       "<table border=\"1\" class=\"dataframe\">\n",
       "  <thead>\n",
       "    <tr style=\"text-align: right;\">\n",
       "      <th></th>\n",
       "      <th>one</th>\n",
       "      <th>two</th>\n",
       "    </tr>\n",
       "  </thead>\n",
       "  <tbody>\n",
       "    <tr>\n",
       "      <th>count</th>\n",
       "      <td>3.000000</td>\n",
       "      <td>2.000000</td>\n",
       "    </tr>\n",
       "    <tr>\n",
       "      <th>mean</th>\n",
       "      <td>3.083333</td>\n",
       "      <td>-2.900000</td>\n",
       "    </tr>\n",
       "    <tr>\n",
       "      <th>std</th>\n",
       "      <td>3.493685</td>\n",
       "      <td>2.262742</td>\n",
       "    </tr>\n",
       "    <tr>\n",
       "      <th>min</th>\n",
       "      <td>0.750000</td>\n",
       "      <td>-4.500000</td>\n",
       "    </tr>\n",
       "    <tr>\n",
       "      <th>25%</th>\n",
       "      <td>1.075000</td>\n",
       "      <td>-3.700000</td>\n",
       "    </tr>\n",
       "    <tr>\n",
       "      <th>50%</th>\n",
       "      <td>1.400000</td>\n",
       "      <td>-2.900000</td>\n",
       "    </tr>\n",
       "    <tr>\n",
       "      <th>75%</th>\n",
       "      <td>4.250000</td>\n",
       "      <td>-2.100000</td>\n",
       "    </tr>\n",
       "    <tr>\n",
       "      <th>max</th>\n",
       "      <td>7.100000</td>\n",
       "      <td>-1.300000</td>\n",
       "    </tr>\n",
       "  </tbody>\n",
       "</table>\n",
       "</div>"
      ],
      "text/plain": [
       "            one       two\n",
       "count  3.000000  2.000000\n",
       "mean   3.083333 -2.900000\n",
       "std    3.493685  2.262742\n",
       "min    0.750000 -4.500000\n",
       "25%    1.075000 -3.700000\n",
       "50%    1.400000 -2.900000\n",
       "75%    4.250000 -2.100000\n",
       "max    7.100000 -1.300000"
      ]
     },
     "execution_count": 43,
     "metadata": {},
     "output_type": "execute_result"
    }
   ],
   "source": [
    "# Create a statistic summary \n",
    "df.describe() "
   ]
  },
  {
   "cell_type": "markdown",
   "metadata": {},
   "source": [
    "### Data Loading"
   ]
  },
  {
   "cell_type": "code",
   "execution_count": 44,
   "metadata": {
    "scrolled": true
   },
   "outputs": [
    {
     "data": {
      "text/html": [
       "<div>\n",
       "<style scoped>\n",
       "    .dataframe tbody tr th:only-of-type {\n",
       "        vertical-align: middle;\n",
       "    }\n",
       "\n",
       "    .dataframe tbody tr th {\n",
       "        vertical-align: top;\n",
       "    }\n",
       "\n",
       "    .dataframe thead th {\n",
       "        text-align: right;\n",
       "    }\n",
       "</style>\n",
       "<table border=\"1\" class=\"dataframe\">\n",
       "  <thead>\n",
       "    <tr style=\"text-align: right;\">\n",
       "      <th></th>\n",
       "      <th>a</th>\n",
       "      <th>b</th>\n",
       "      <th>c</th>\n",
       "      <th>d</th>\n",
       "      <th>message</th>\n",
       "    </tr>\n",
       "  </thead>\n",
       "  <tbody>\n",
       "    <tr>\n",
       "      <th>0</th>\n",
       "      <td>1</td>\n",
       "      <td>2</td>\n",
       "      <td>3</td>\n",
       "      <td>4</td>\n",
       "      <td>hello</td>\n",
       "    </tr>\n",
       "    <tr>\n",
       "      <th>1</th>\n",
       "      <td>5</td>\n",
       "      <td>6</td>\n",
       "      <td>7</td>\n",
       "      <td>8</td>\n",
       "      <td>world</td>\n",
       "    </tr>\n",
       "    <tr>\n",
       "      <th>2</th>\n",
       "      <td>9</td>\n",
       "      <td>10</td>\n",
       "      <td>11</td>\n",
       "      <td>12</td>\n",
       "      <td>apple</td>\n",
       "    </tr>\n",
       "  </tbody>\n",
       "</table>\n",
       "</div>"
      ],
      "text/plain": [
       "   a   b   c   d message\n",
       "0  1   2   3   4   hello\n",
       "1  5   6   7   8   world\n",
       "2  9  10  11  12   apple"
      ]
     },
     "execution_count": 44,
     "metadata": {},
     "output_type": "execute_result"
    }
   ],
   "source": [
    "import pandas as pd\n",
    "df = pd.read_csv('data/ex1.csv') # Header=None\n",
    "df"
   ]
  },
  {
   "cell_type": "code",
   "execution_count": 45,
   "metadata": {},
   "outputs": [
    {
     "data": {
      "text/plain": [
       "array([[1, 2, 3, 4, 'hello'],\n",
       "       [5, 6, 7, 8, 'world'],\n",
       "       [9, 10, 11, 12, 'apple']], dtype=object)"
      ]
     },
     "execution_count": 45,
     "metadata": {},
     "output_type": "execute_result"
    }
   ],
   "source": [
    "# Converting pandas data structure to numpy\n",
    "\n",
    "arr=df.to_numpy()\n",
    "arr"
   ]
  },
  {
   "cell_type": "markdown",
   "metadata": {},
   "source": [
    "### Basic data visualization with pandas"
   ]
  },
  {
   "cell_type": "code",
   "execution_count": 46,
   "metadata": {},
   "outputs": [
    {
     "data": {
      "text/plain": [
       "<Axes: >"
      ]
     },
     "execution_count": 46,
     "metadata": {},
     "output_type": "execute_result"
    },
    {
     "data": {
      "image/png": "[encoded data removed]",
      "text/plain": [
       "<Figure size 640x480 with 1 Axes>"
      ]
     },
     "metadata": {},
     "output_type": "display_data"
    }
   ],
   "source": [
    "arr = pd.Series([1,2,4,5,7,8,6,7,8])\n",
    "arr.plot()"
   ]
  },
  {
   "cell_type": "code",
   "execution_count": 47,
   "metadata": {
    "scrolled": true
   },
   "outputs": [
    {
     "data": {
      "text/html": [
       "<div>\n",
       "<style scoped>\n",
       "    .dataframe tbody tr th:only-of-type {\n",
       "        vertical-align: middle;\n",
       "    }\n",
       "\n",
       "    .dataframe tbody tr th {\n",
       "        vertical-align: top;\n",
       "    }\n",
       "\n",
       "    .dataframe thead th {\n",
       "        text-align: right;\n",
       "    }\n",
       "</style>\n",
       "<table border=\"1\" class=\"dataframe\">\n",
       "  <thead>\n",
       "    <tr style=\"text-align: right;\">\n",
       "      <th></th>\n",
       "      <th>a</th>\n",
       "      <th>b</th>\n",
       "      <th>c</th>\n",
       "      <th>d</th>\n",
       "      <th>message</th>\n",
       "    </tr>\n",
       "  </thead>\n",
       "  <tbody>\n",
       "    <tr>\n",
       "      <th>0</th>\n",
       "      <td>1</td>\n",
       "      <td>2</td>\n",
       "      <td>3</td>\n",
       "      <td>4</td>\n",
       "      <td>hello</td>\n",
       "    </tr>\n",
       "    <tr>\n",
       "      <th>1</th>\n",
       "      <td>5</td>\n",
       "      <td>6</td>\n",
       "      <td>7</td>\n",
       "      <td>8</td>\n",
       "      <td>world</td>\n",
       "    </tr>\n",
       "    <tr>\n",
       "      <th>2</th>\n",
       "      <td>9</td>\n",
       "      <td>10</td>\n",
       "      <td>11</td>\n",
       "      <td>12</td>\n",
       "      <td>apple</td>\n",
       "    </tr>\n",
       "  </tbody>\n",
       "</table>\n",
       "</div>"
      ],
      "text/plain": [
       "   a   b   c   d message\n",
       "0  1   2   3   4   hello\n",
       "1  5   6   7   8   world\n",
       "2  9  10  11  12   apple"
      ]
     },
     "execution_count": 47,
     "metadata": {},
     "output_type": "execute_result"
    }
   ],
   "source": [
    "import pandas as pd\n",
    "df = pd.read_csv('data/ex1.csv') # Header=None\n",
    "df"
   ]
  },
  {
   "cell_type": "code",
   "execution_count": 49,
   "metadata": {},
   "outputs": [
    {
     "data": {
      "text/plain": [
       "<Axes: >"
      ]
     },
     "execution_count": 49,
     "metadata": {},
     "output_type": "execute_result"
    },
    {
     "data": {
      "image/png": "[encoded data removed]",
      "text/plain": [
       "<Figure size 640x480 with 1 Axes>"
      ]
     },
     "metadata": {},
     "output_type": "display_data"
    }
   ],
   "source": [
    "df['c'].plot(kind='bar') # kind=bar, line, barh, pie, box, area, hist"
   ]
  },
  {
   "cell_type": "code",
   "execution_count": 52,
   "metadata": {},
   "outputs": [
    {
     "data": {
      "text/plain": [
       "<Axes: >"
      ]
     },
     "execution_count": 52,
     "metadata": {},
     "output_type": "execute_result"
    },
    {
     "data": {
      "image/png": "[encoded data removed]",
      "text/plain": [
       "<Figure size 640x480 with 1 Axes>"
      ]
     },
     "metadata": {},
     "output_type": "display_data"
    }
   ],
   "source": [
    "df['c'].plot(kind='box')"
   ]
  },
  {
   "cell_type": "code",
   "execution_count": 50,
   "metadata": {},
   "outputs": [
    {
     "data": {
      "text/plain": [
       "<Axes: ylabel='c'>"
      ]
     },
     "execution_count": 50,
     "metadata": {},
     "output_type": "execute_result"
    },
    {
     "data": {
      "image/png": "[encoded data removed]",
      "text/plain": [
       "<Figure size 640x480 with 1 Axes>"
      ]
     },
     "metadata": {},
     "output_type": "display_data"
    }
   ],
   "source": [
    "# visualizing a column in data frame\n",
    "# https://pandas.pydata.org/pandas-docs/version/0.23.4/generated/pandas.DataFrame.plot.html\n",
    "df['c'].plot(kind='pie')"
   ]
  },
  {
   "cell_type": "markdown",
   "metadata": {},
   "source": [
    "### More complex data processing and cleaning"
   ]
  },
  {
   "cell_type": "code",
   "execution_count": 53,
   "metadata": {},
   "outputs": [
    {
     "data": {
      "text/html": [
       "<div>\n",
       "<style scoped>\n",
       "    .dataframe tbody tr th:only-of-type {\n",
       "        vertical-align: middle;\n",
       "    }\n",
       "\n",
       "    .dataframe tbody tr th {\n",
       "        vertical-align: top;\n",
       "    }\n",
       "\n",
       "    .dataframe thead th {\n",
       "        text-align: right;\n",
       "    }\n",
       "</style>\n",
       "<table border=\"1\" class=\"dataframe\">\n",
       "  <thead>\n",
       "    <tr style=\"text-align: right;\">\n",
       "      <th></th>\n",
       "      <th>Staff ID</th>\n",
       "      <th>Name</th>\n",
       "      <th>Position</th>\n",
       "      <th>Department</th>\n",
       "      <th>Hire Date</th>\n",
       "      <th>IT Skills</th>\n",
       "    </tr>\n",
       "  </thead>\n",
       "  <tbody>\n",
       "    <tr>\n",
       "      <th>0</th>\n",
       "      <td>1</td>\n",
       "      <td>Alice Smith</td>\n",
       "      <td>IT Manager</td>\n",
       "      <td>IT</td>\n",
       "      <td>1/15/20</td>\n",
       "      <td>Cloud Computing, Python</td>\n",
       "    </tr>\n",
       "    <tr>\n",
       "      <th>1</th>\n",
       "      <td>2</td>\n",
       "      <td>Bob Johnson</td>\n",
       "      <td>Software Engineer</td>\n",
       "      <td>IT</td>\n",
       "      <td>3/22/19</td>\n",
       "      <td>Python, Java, C</td>\n",
       "    </tr>\n",
       "    <tr>\n",
       "      <th>2</th>\n",
       "      <td>3</td>\n",
       "      <td>Charlie Brown</td>\n",
       "      <td>System Administrator</td>\n",
       "      <td>IT</td>\n",
       "      <td>6/30/21</td>\n",
       "      <td>Linux, Networking, Security, Python</td>\n",
       "    </tr>\n",
       "    <tr>\n",
       "      <th>3</th>\n",
       "      <td>4</td>\n",
       "      <td>David Wilson</td>\n",
       "      <td>Data Scientist</td>\n",
       "      <td>IT</td>\n",
       "      <td>11/12/18</td>\n",
       "      <td>R, SQL, Machine Learning, Data Visualization, ...</td>\n",
       "    </tr>\n",
       "    <tr>\n",
       "      <th>4</th>\n",
       "      <td>5</td>\n",
       "      <td>Eva Green</td>\n",
       "      <td>DevOps Engineer</td>\n",
       "      <td>IT</td>\n",
       "      <td>2/1/22</td>\n",
       "      <td>Python, Java, R</td>\n",
       "    </tr>\n",
       "  </tbody>\n",
       "</table>\n",
       "</div>"
      ],
      "text/plain": [
       "   Staff ID           Name              Position Department Hire Date  \\\n",
       "0         1    Alice Smith            IT Manager         IT   1/15/20   \n",
       "1         2    Bob Johnson     Software Engineer         IT   3/22/19   \n",
       "2         3  Charlie Brown  System Administrator         IT   6/30/21   \n",
       "3         4   David Wilson        Data Scientist         IT  11/12/18   \n",
       "4         5      Eva Green       DevOps Engineer         IT    2/1/22   \n",
       "\n",
       "                                           IT Skills  \n",
       "0                            Cloud Computing, Python  \n",
       "1                                    Python, Java, C  \n",
       "2                Linux, Networking, Security, Python  \n",
       "3  R, SQL, Machine Learning, Data Visualization, ...  \n",
       "4                                    Python, Java, R  "
      ]
     },
     "execution_count": 53,
     "metadata": {},
     "output_type": "execute_result"
    }
   ],
   "source": [
    "import pandas as pd\n",
    "\n",
    "df = pd.read_csv('data/staff.csv')\n",
    "df"
   ]
  },
  {
   "cell_type": "code",
   "execution_count": 54,
   "metadata": {},
   "outputs": [
    {
     "name": "stdout",
     "output_type": "stream",
     "text": [
      "<class 'pandas.core.frame.DataFrame'>\n",
      "RangeIndex: 5 entries, 0 to 4\n",
      "Data columns (total 6 columns):\n",
      " #   Column      Non-Null Count  Dtype \n",
      "---  ------      --------------  ----- \n",
      " 0   Staff ID    5 non-null      int64 \n",
      " 1   Name        5 non-null      object\n",
      " 2   Position    5 non-null      object\n",
      " 3   Department  5 non-null      object\n",
      " 4   Hire Date   5 non-null      object\n",
      " 5   IT Skills   5 non-null      object\n",
      "dtypes: int64(1), object(5)\n",
      "memory usage: 372.0+ bytes\n"
     ]
    }
   ],
   "source": [
    "df.info()"
   ]
  },
  {
   "cell_type": "code",
   "execution_count": 57,
   "metadata": {
    "scrolled": true
   },
   "outputs": [
    {
     "data": {
      "text/html": [
       "<div>\n",
       "<style scoped>\n",
       "    .dataframe tbody tr th:only-of-type {\n",
       "        vertical-align: middle;\n",
       "    }\n",
       "\n",
       "    .dataframe tbody tr th {\n",
       "        vertical-align: top;\n",
       "    }\n",
       "\n",
       "    .dataframe thead th {\n",
       "        text-align: right;\n",
       "    }\n",
       "</style>\n",
       "<table border=\"1\" class=\"dataframe\">\n",
       "  <thead>\n",
       "    <tr style=\"text-align: right;\">\n",
       "      <th></th>\n",
       "      <th>Staff ID</th>\n",
       "      <th>Name</th>\n",
       "      <th>Position</th>\n",
       "      <th>Department</th>\n",
       "      <th>Hire Date</th>\n",
       "      <th>IT Skills</th>\n",
       "    </tr>\n",
       "  </thead>\n",
       "  <tbody>\n",
       "    <tr>\n",
       "      <th>0</th>\n",
       "      <td>1</td>\n",
       "      <td>Alice Smith</td>\n",
       "      <td>IT Manager</td>\n",
       "      <td>IT</td>\n",
       "      <td>2020-01-15</td>\n",
       "      <td>Cloud Computing, Python</td>\n",
       "    </tr>\n",
       "    <tr>\n",
       "      <th>1</th>\n",
       "      <td>2</td>\n",
       "      <td>Bob Johnson</td>\n",
       "      <td>Software Engineer</td>\n",
       "      <td>IT</td>\n",
       "      <td>2019-03-22</td>\n",
       "      <td>Python, Java, C</td>\n",
       "    </tr>\n",
       "    <tr>\n",
       "      <th>2</th>\n",
       "      <td>3</td>\n",
       "      <td>Charlie Brown</td>\n",
       "      <td>System Administrator</td>\n",
       "      <td>IT</td>\n",
       "      <td>2021-06-30</td>\n",
       "      <td>Linux, Networking, Security, Python</td>\n",
       "    </tr>\n",
       "    <tr>\n",
       "      <th>3</th>\n",
       "      <td>4</td>\n",
       "      <td>David Wilson</td>\n",
       "      <td>Data Scientist</td>\n",
       "      <td>IT</td>\n",
       "      <td>2018-11-12</td>\n",
       "      <td>R, SQL, Machine Learning, Data Visualization, ...</td>\n",
       "    </tr>\n",
       "    <tr>\n",
       "      <th>4</th>\n",
       "      <td>5</td>\n",
       "      <td>Eva Green</td>\n",
       "      <td>DevOps Engineer</td>\n",
       "      <td>IT</td>\n",
       "      <td>2022-02-01</td>\n",
       "      <td>Python, Java, R</td>\n",
       "    </tr>\n",
       "  </tbody>\n",
       "</table>\n",
       "</div>"
      ],
      "text/plain": [
       "   Staff ID           Name              Position Department  Hire Date  \\\n",
       "0         1    Alice Smith            IT Manager         IT 2020-01-15   \n",
       "1         2    Bob Johnson     Software Engineer         IT 2019-03-22   \n",
       "2         3  Charlie Brown  System Administrator         IT 2021-06-30   \n",
       "3         4   David Wilson        Data Scientist         IT 2018-11-12   \n",
       "4         5      Eva Green       DevOps Engineer         IT 2022-02-01   \n",
       "\n",
       "                                           IT Skills  \n",
       "0                            Cloud Computing, Python  \n",
       "1                                    Python, Java, C  \n",
       "2                Linux, Networking, Security, Python  \n",
       "3  R, SQL, Machine Learning, Data Visualization, ...  \n",
       "4                                    Python, Java, R  "
      ]
     },
     "execution_count": 57,
     "metadata": {},
     "output_type": "execute_result"
    }
   ],
   "source": [
    "df['Hire Date'] = pd.to_datetime(df['Hire Date'], format='mixed')\n",
    "df"
   ]
  },
  {
   "cell_type": "code",
   "execution_count": 59,
   "metadata": {
    "scrolled": true
   },
   "outputs": [
    {
     "data": {
      "text/plain": [
       "0       Cloud Computing\n",
       "0                Python\n",
       "1                Python\n",
       "1                  Java\n",
       "1                     C\n",
       "2                 Linux\n",
       "2            Networking\n",
       "2              Security\n",
       "2                Python\n",
       "3                     R\n",
       "3                   SQL\n",
       "3      Machine Learning\n",
       "3    Data Visualization\n",
       "3                Python\n",
       "4                Python\n",
       "4                  Java\n",
       "4                     R\n",
       "Name: IT Skills, dtype: object"
      ]
     },
     "execution_count": 59,
     "metadata": {},
     "output_type": "execute_result"
    }
   ],
   "source": [
    "skills_list = df['IT Skills'].str.split(', ').explode()\n",
    "skills_list"
   ]
  },
  {
   "cell_type": "code",
   "execution_count": 60,
   "metadata": {},
   "outputs": [
    {
     "data": {
      "text/plain": [
       "array(['Cloud Computing', 'Python', 'Java', 'C', 'Linux', 'Networking',\n",
       "       'Security', 'R', 'SQL', 'Machine Learning', 'Data Visualization'],\n",
       "      dtype=object)"
      ]
     },
     "execution_count": 60,
     "metadata": {},
     "output_type": "execute_result"
    }
   ],
   "source": [
    "skills_list.unique()"
   ]
  },
  {
   "cell_type": "code",
   "execution_count": 61,
   "metadata": {},
   "outputs": [
    {
     "data": {
      "text/plain": [
       "IT Skills\n",
       "Python                5\n",
       "Java                  2\n",
       "R                     2\n",
       "Cloud Computing       1\n",
       "C                     1\n",
       "Linux                 1\n",
       "Networking            1\n",
       "Security              1\n",
       "SQL                   1\n",
       "Machine Learning      1\n",
       "Data Visualization    1\n",
       "Name: count, dtype: int64"
      ]
     },
     "execution_count": 61,
     "metadata": {},
     "output_type": "execute_result"
    }
   ],
   "source": [
    "skills_list.value_counts()"
   ]
  },
  {
   "cell_type": "code",
   "execution_count": 62,
   "metadata": {},
   "outputs": [
    {
     "data": {
      "text/html": [
       "<div>\n",
       "<style scoped>\n",
       "    .dataframe tbody tr th:only-of-type {\n",
       "        vertical-align: middle;\n",
       "    }\n",
       "\n",
       "    .dataframe tbody tr th {\n",
       "        vertical-align: top;\n",
       "    }\n",
       "\n",
       "    .dataframe thead th {\n",
       "        text-align: right;\n",
       "    }\n",
       "</style>\n",
       "<table border=\"1\" class=\"dataframe\">\n",
       "  <thead>\n",
       "    <tr style=\"text-align: right;\">\n",
       "      <th></th>\n",
       "      <th>Staff ID</th>\n",
       "      <th>Name</th>\n",
       "      <th>Position</th>\n",
       "      <th>Department</th>\n",
       "      <th>Hire Date</th>\n",
       "      <th>IT Skills</th>\n",
       "      <th>Has Python Skill</th>\n",
       "    </tr>\n",
       "  </thead>\n",
       "  <tbody>\n",
       "    <tr>\n",
       "      <th>0</th>\n",
       "      <td>1</td>\n",
       "      <td>Alice Smith</td>\n",
       "      <td>IT Manager</td>\n",
       "      <td>IT</td>\n",
       "      <td>2020-01-15</td>\n",
       "      <td>Cloud Computing, Python</td>\n",
       "      <td>True</td>\n",
       "    </tr>\n",
       "    <tr>\n",
       "      <th>1</th>\n",
       "      <td>2</td>\n",
       "      <td>Bob Johnson</td>\n",
       "      <td>Software Engineer</td>\n",
       "      <td>IT</td>\n",
       "      <td>2019-03-22</td>\n",
       "      <td>Python, Java, C</td>\n",
       "      <td>True</td>\n",
       "    </tr>\n",
       "    <tr>\n",
       "      <th>2</th>\n",
       "      <td>3</td>\n",
       "      <td>Charlie Brown</td>\n",
       "      <td>System Administrator</td>\n",
       "      <td>IT</td>\n",
       "      <td>2021-06-30</td>\n",
       "      <td>Linux, Networking, Security, Python</td>\n",
       "      <td>True</td>\n",
       "    </tr>\n",
       "    <tr>\n",
       "      <th>3</th>\n",
       "      <td>4</td>\n",
       "      <td>David Wilson</td>\n",
       "      <td>Data Scientist</td>\n",
       "      <td>IT</td>\n",
       "      <td>2018-11-12</td>\n",
       "      <td>R, SQL, Machine Learning, Data Visualization, ...</td>\n",
       "      <td>True</td>\n",
       "    </tr>\n",
       "    <tr>\n",
       "      <th>4</th>\n",
       "      <td>5</td>\n",
       "      <td>Eva Green</td>\n",
       "      <td>DevOps Engineer</td>\n",
       "      <td>IT</td>\n",
       "      <td>2022-02-01</td>\n",
       "      <td>Python, Java, R</td>\n",
       "      <td>True</td>\n",
       "    </tr>\n",
       "  </tbody>\n",
       "</table>\n",
       "</div>"
      ],
      "text/plain": [
       "   Staff ID           Name              Position Department  Hire Date  \\\n",
       "0         1    Alice Smith            IT Manager         IT 2020-01-15   \n",
       "1         2    Bob Johnson     Software Engineer         IT 2019-03-22   \n",
       "2         3  Charlie Brown  System Administrator         IT 2021-06-30   \n",
       "3         4   David Wilson        Data Scientist         IT 2018-11-12   \n",
       "4         5      Eva Green       DevOps Engineer         IT 2022-02-01   \n",
       "\n",
       "                                           IT Skills  Has Python Skill  \n",
       "0                            Cloud Computing, Python              True  \n",
       "1                                    Python, Java, C              True  \n",
       "2                Linux, Networking, Security, Python              True  \n",
       "3  R, SQL, Machine Learning, Data Visualization, ...              True  \n",
       "4                                    Python, Java, R              True  "
      ]
     },
     "execution_count": 62,
     "metadata": {},
     "output_type": "execute_result"
    }
   ],
   "source": [
    "# checks if 'Python' is present in the \"IT Skills\" column\n",
    "# case=False - not case-senstive; na fill in False\n",
    "df['Has Python Skill'] = df['IT Skills'].str.contains('Python', case=False, na=False)\n",
    "df"
   ]
  },
  {
   "cell_type": "code",
   "execution_count": 63,
   "metadata": {},
   "outputs": [
    {
     "data": {
      "text/html": [
       "<div>\n",
       "<style scoped>\n",
       "    .dataframe tbody tr th:only-of-type {\n",
       "        vertical-align: middle;\n",
       "    }\n",
       "\n",
       "    .dataframe tbody tr th {\n",
       "        vertical-align: top;\n",
       "    }\n",
       "\n",
       "    .dataframe thead th {\n",
       "        text-align: right;\n",
       "    }\n",
       "</style>\n",
       "<table border=\"1\" class=\"dataframe\">\n",
       "  <thead>\n",
       "    <tr style=\"text-align: right;\">\n",
       "      <th></th>\n",
       "      <th>Staff ID</th>\n",
       "      <th>Name</th>\n",
       "      <th>Position</th>\n",
       "      <th>Department</th>\n",
       "      <th>Hire Date</th>\n",
       "      <th>IT Skills</th>\n",
       "      <th>Has Python Skill</th>\n",
       "      <th>Has Java Skill</th>\n",
       "    </tr>\n",
       "  </thead>\n",
       "  <tbody>\n",
       "    <tr>\n",
       "      <th>0</th>\n",
       "      <td>1</td>\n",
       "      <td>Alice Smith</td>\n",
       "      <td>IT Manager</td>\n",
       "      <td>IT</td>\n",
       "      <td>2020-01-15</td>\n",
       "      <td>Cloud Computing, Python</td>\n",
       "      <td>True</td>\n",
       "      <td>False</td>\n",
       "    </tr>\n",
       "    <tr>\n",
       "      <th>1</th>\n",
       "      <td>2</td>\n",
       "      <td>Bob Johnson</td>\n",
       "      <td>Software Engineer</td>\n",
       "      <td>IT</td>\n",
       "      <td>2019-03-22</td>\n",
       "      <td>Python, Java, C</td>\n",
       "      <td>True</td>\n",
       "      <td>True</td>\n",
       "    </tr>\n",
       "    <tr>\n",
       "      <th>2</th>\n",
       "      <td>3</td>\n",
       "      <td>Charlie Brown</td>\n",
       "      <td>System Administrator</td>\n",
       "      <td>IT</td>\n",
       "      <td>2021-06-30</td>\n",
       "      <td>Linux, Networking, Security, Python</td>\n",
       "      <td>True</td>\n",
       "      <td>False</td>\n",
       "    </tr>\n",
       "    <tr>\n",
       "      <th>3</th>\n",
       "      <td>4</td>\n",
       "      <td>David Wilson</td>\n",
       "      <td>Data Scientist</td>\n",
       "      <td>IT</td>\n",
       "      <td>2018-11-12</td>\n",
       "      <td>R, SQL, Machine Learning, Data Visualization, ...</td>\n",
       "      <td>True</td>\n",
       "      <td>False</td>\n",
       "    </tr>\n",
       "    <tr>\n",
       "      <th>4</th>\n",
       "      <td>5</td>\n",
       "      <td>Eva Green</td>\n",
       "      <td>DevOps Engineer</td>\n",
       "      <td>IT</td>\n",
       "      <td>2022-02-01</td>\n",
       "      <td>Python, Java, R</td>\n",
       "      <td>True</td>\n",
       "      <td>True</td>\n",
       "    </tr>\n",
       "  </tbody>\n",
       "</table>\n",
       "</div>"
      ],
      "text/plain": [
       "   Staff ID           Name              Position Department  Hire Date  \\\n",
       "0         1    Alice Smith            IT Manager         IT 2020-01-15   \n",
       "1         2    Bob Johnson     Software Engineer         IT 2019-03-22   \n",
       "2         3  Charlie Brown  System Administrator         IT 2021-06-30   \n",
       "3         4   David Wilson        Data Scientist         IT 2018-11-12   \n",
       "4         5      Eva Green       DevOps Engineer         IT 2022-02-01   \n",
       "\n",
       "                                           IT Skills  Has Python Skill  \\\n",
       "0                            Cloud Computing, Python              True   \n",
       "1                                    Python, Java, C              True   \n",
       "2                Linux, Networking, Security, Python              True   \n",
       "3  R, SQL, Machine Learning, Data Visualization, ...              True   \n",
       "4                                    Python, Java, R              True   \n",
       "\n",
       "   Has Java Skill  \n",
       "0           False  \n",
       "1            True  \n",
       "2           False  \n",
       "3           False  \n",
       "4            True  "
      ]
     },
     "execution_count": 63,
     "metadata": {},
     "output_type": "execute_result"
    }
   ],
   "source": [
    "df['Has Java Skill'] = df['IT Skills'].str.contains('Java', case=False, na=False)\n",
    "df"
   ]
  },
  {
   "cell_type": "code",
   "execution_count": 64,
   "metadata": {},
   "outputs": [
    {
     "data": {
      "text/html": [
       "<div>\n",
       "<style scoped>\n",
       "    .dataframe tbody tr th:only-of-type {\n",
       "        vertical-align: middle;\n",
       "    }\n",
       "\n",
       "    .dataframe tbody tr th {\n",
       "        vertical-align: top;\n",
       "    }\n",
       "\n",
       "    .dataframe thead th {\n",
       "        text-align: right;\n",
       "    }\n",
       "</style>\n",
       "<table border=\"1\" class=\"dataframe\">\n",
       "  <thead>\n",
       "    <tr style=\"text-align: right;\">\n",
       "      <th></th>\n",
       "      <th>Staff ID</th>\n",
       "      <th>Name</th>\n",
       "      <th>Position</th>\n",
       "      <th>Department</th>\n",
       "      <th>Hire Date</th>\n",
       "      <th>IT Skills</th>\n",
       "      <th>Has Python Skill</th>\n",
       "      <th>Has Java Skill</th>\n",
       "    </tr>\n",
       "  </thead>\n",
       "  <tbody>\n",
       "    <tr>\n",
       "      <th>0</th>\n",
       "      <td>1</td>\n",
       "      <td>Alice Smith</td>\n",
       "      <td>IT Manager</td>\n",
       "      <td>IT</td>\n",
       "      <td>2020-01-15</td>\n",
       "      <td>[Cloud Computing,  Python]</td>\n",
       "      <td>True</td>\n",
       "      <td>False</td>\n",
       "    </tr>\n",
       "    <tr>\n",
       "      <th>1</th>\n",
       "      <td>2</td>\n",
       "      <td>Bob Johnson</td>\n",
       "      <td>Software Engineer</td>\n",
       "      <td>IT</td>\n",
       "      <td>2019-03-22</td>\n",
       "      <td>[Python,  Java,  C]</td>\n",
       "      <td>True</td>\n",
       "      <td>True</td>\n",
       "    </tr>\n",
       "    <tr>\n",
       "      <th>2</th>\n",
       "      <td>3</td>\n",
       "      <td>Charlie Brown</td>\n",
       "      <td>System Administrator</td>\n",
       "      <td>IT</td>\n",
       "      <td>2021-06-30</td>\n",
       "      <td>[Linux,  Networking,  Security,  Python]</td>\n",
       "      <td>True</td>\n",
       "      <td>False</td>\n",
       "    </tr>\n",
       "    <tr>\n",
       "      <th>3</th>\n",
       "      <td>4</td>\n",
       "      <td>David Wilson</td>\n",
       "      <td>Data Scientist</td>\n",
       "      <td>IT</td>\n",
       "      <td>2018-11-12</td>\n",
       "      <td>[R,  SQL,  Machine Learning,  Data Visualizati...</td>\n",
       "      <td>True</td>\n",
       "      <td>False</td>\n",
       "    </tr>\n",
       "    <tr>\n",
       "      <th>4</th>\n",
       "      <td>5</td>\n",
       "      <td>Eva Green</td>\n",
       "      <td>DevOps Engineer</td>\n",
       "      <td>IT</td>\n",
       "      <td>2022-02-01</td>\n",
       "      <td>[Python,  Java,  R]</td>\n",
       "      <td>True</td>\n",
       "      <td>True</td>\n",
       "    </tr>\n",
       "  </tbody>\n",
       "</table>\n",
       "</div>"
      ],
      "text/plain": [
       "   Staff ID           Name              Position Department  Hire Date  \\\n",
       "0         1    Alice Smith            IT Manager         IT 2020-01-15   \n",
       "1         2    Bob Johnson     Software Engineer         IT 2019-03-22   \n",
       "2         3  Charlie Brown  System Administrator         IT 2021-06-30   \n",
       "3         4   David Wilson        Data Scientist         IT 2018-11-12   \n",
       "4         5      Eva Green       DevOps Engineer         IT 2022-02-01   \n",
       "\n",
       "                                           IT Skills  Has Python Skill  \\\n",
       "0                         [Cloud Computing,  Python]              True   \n",
       "1                                [Python,  Java,  C]              True   \n",
       "2           [Linux,  Networking,  Security,  Python]              True   \n",
       "3  [R,  SQL,  Machine Learning,  Data Visualizati...              True   \n",
       "4                                [Python,  Java,  R]              True   \n",
       "\n",
       "   Has Java Skill  \n",
       "0           False  \n",
       "1            True  \n",
       "2           False  \n",
       "3           False  \n",
       "4            True  "
      ]
     },
     "execution_count": 64,
     "metadata": {},
     "output_type": "execute_result"
    }
   ],
   "source": [
    "# Split the 'IT Skills' column into separate categories\n",
    "df['IT Skills'] = df['IT Skills'].str.split(',')\n",
    "df"
   ]
  },
  {
   "cell_type": "code",
   "execution_count": 65,
   "metadata": {},
   "outputs": [
    {
     "data": {
      "text/html": [
       "<div>\n",
       "<style scoped>\n",
       "    .dataframe tbody tr th:only-of-type {\n",
       "        vertical-align: middle;\n",
       "    }\n",
       "\n",
       "    .dataframe tbody tr th {\n",
       "        vertical-align: top;\n",
       "    }\n",
       "\n",
       "    .dataframe thead th {\n",
       "        text-align: right;\n",
       "    }\n",
       "</style>\n",
       "<table border=\"1\" class=\"dataframe\">\n",
       "  <thead>\n",
       "    <tr style=\"text-align: right;\">\n",
       "      <th></th>\n",
       "      <th>Staff ID</th>\n",
       "      <th>Name</th>\n",
       "      <th>Position</th>\n",
       "      <th>Department</th>\n",
       "      <th>Hire Date</th>\n",
       "      <th>IT Skills</th>\n",
       "      <th>Has Python Skill</th>\n",
       "      <th>Has Java Skill</th>\n",
       "    </tr>\n",
       "  </thead>\n",
       "  <tbody>\n",
       "    <tr>\n",
       "      <th>0</th>\n",
       "      <td>1</td>\n",
       "      <td>Alice Smith</td>\n",
       "      <td>IT Manager</td>\n",
       "      <td>IT</td>\n",
       "      <td>2020-01-15</td>\n",
       "      <td>Cloud Computing</td>\n",
       "      <td>True</td>\n",
       "      <td>False</td>\n",
       "    </tr>\n",
       "    <tr>\n",
       "      <th>0</th>\n",
       "      <td>1</td>\n",
       "      <td>Alice Smith</td>\n",
       "      <td>IT Manager</td>\n",
       "      <td>IT</td>\n",
       "      <td>2020-01-15</td>\n",
       "      <td>Python</td>\n",
       "      <td>True</td>\n",
       "      <td>False</td>\n",
       "    </tr>\n",
       "    <tr>\n",
       "      <th>1</th>\n",
       "      <td>2</td>\n",
       "      <td>Bob Johnson</td>\n",
       "      <td>Software Engineer</td>\n",
       "      <td>IT</td>\n",
       "      <td>2019-03-22</td>\n",
       "      <td>Python</td>\n",
       "      <td>True</td>\n",
       "      <td>True</td>\n",
       "    </tr>\n",
       "    <tr>\n",
       "      <th>1</th>\n",
       "      <td>2</td>\n",
       "      <td>Bob Johnson</td>\n",
       "      <td>Software Engineer</td>\n",
       "      <td>IT</td>\n",
       "      <td>2019-03-22</td>\n",
       "      <td>Java</td>\n",
       "      <td>True</td>\n",
       "      <td>True</td>\n",
       "    </tr>\n",
       "    <tr>\n",
       "      <th>1</th>\n",
       "      <td>2</td>\n",
       "      <td>Bob Johnson</td>\n",
       "      <td>Software Engineer</td>\n",
       "      <td>IT</td>\n",
       "      <td>2019-03-22</td>\n",
       "      <td>C</td>\n",
       "      <td>True</td>\n",
       "      <td>True</td>\n",
       "    </tr>\n",
       "    <tr>\n",
       "      <th>2</th>\n",
       "      <td>3</td>\n",
       "      <td>Charlie Brown</td>\n",
       "      <td>System Administrator</td>\n",
       "      <td>IT</td>\n",
       "      <td>2021-06-30</td>\n",
       "      <td>Linux</td>\n",
       "      <td>True</td>\n",
       "      <td>False</td>\n",
       "    </tr>\n",
       "    <tr>\n",
       "      <th>2</th>\n",
       "      <td>3</td>\n",
       "      <td>Charlie Brown</td>\n",
       "      <td>System Administrator</td>\n",
       "      <td>IT</td>\n",
       "      <td>2021-06-30</td>\n",
       "      <td>Networking</td>\n",
       "      <td>True</td>\n",
       "      <td>False</td>\n",
       "    </tr>\n",
       "    <tr>\n",
       "      <th>2</th>\n",
       "      <td>3</td>\n",
       "      <td>Charlie Brown</td>\n",
       "      <td>System Administrator</td>\n",
       "      <td>IT</td>\n",
       "      <td>2021-06-30</td>\n",
       "      <td>Security</td>\n",
       "      <td>True</td>\n",
       "      <td>False</td>\n",
       "    </tr>\n",
       "    <tr>\n",
       "      <th>2</th>\n",
       "      <td>3</td>\n",
       "      <td>Charlie Brown</td>\n",
       "      <td>System Administrator</td>\n",
       "      <td>IT</td>\n",
       "      <td>2021-06-30</td>\n",
       "      <td>Python</td>\n",
       "      <td>True</td>\n",
       "      <td>False</td>\n",
       "    </tr>\n",
       "    <tr>\n",
       "      <th>3</th>\n",
       "      <td>4</td>\n",
       "      <td>David Wilson</td>\n",
       "      <td>Data Scientist</td>\n",
       "      <td>IT</td>\n",
       "      <td>2018-11-12</td>\n",
       "      <td>R</td>\n",
       "      <td>True</td>\n",
       "      <td>False</td>\n",
       "    </tr>\n",
       "    <tr>\n",
       "      <th>3</th>\n",
       "      <td>4</td>\n",
       "      <td>David Wilson</td>\n",
       "      <td>Data Scientist</td>\n",
       "      <td>IT</td>\n",
       "      <td>2018-11-12</td>\n",
       "      <td>SQL</td>\n",
       "      <td>True</td>\n",
       "      <td>False</td>\n",
       "    </tr>\n",
       "    <tr>\n",
       "      <th>3</th>\n",
       "      <td>4</td>\n",
       "      <td>David Wilson</td>\n",
       "      <td>Data Scientist</td>\n",
       "      <td>IT</td>\n",
       "      <td>2018-11-12</td>\n",
       "      <td>Machine Learning</td>\n",
       "      <td>True</td>\n",
       "      <td>False</td>\n",
       "    </tr>\n",
       "    <tr>\n",
       "      <th>3</th>\n",
       "      <td>4</td>\n",
       "      <td>David Wilson</td>\n",
       "      <td>Data Scientist</td>\n",
       "      <td>IT</td>\n",
       "      <td>2018-11-12</td>\n",
       "      <td>Data Visualization</td>\n",
       "      <td>True</td>\n",
       "      <td>False</td>\n",
       "    </tr>\n",
       "    <tr>\n",
       "      <th>3</th>\n",
       "      <td>4</td>\n",
       "      <td>David Wilson</td>\n",
       "      <td>Data Scientist</td>\n",
       "      <td>IT</td>\n",
       "      <td>2018-11-12</td>\n",
       "      <td>Python</td>\n",
       "      <td>True</td>\n",
       "      <td>False</td>\n",
       "    </tr>\n",
       "    <tr>\n",
       "      <th>4</th>\n",
       "      <td>5</td>\n",
       "      <td>Eva Green</td>\n",
       "      <td>DevOps Engineer</td>\n",
       "      <td>IT</td>\n",
       "      <td>2022-02-01</td>\n",
       "      <td>Python</td>\n",
       "      <td>True</td>\n",
       "      <td>True</td>\n",
       "    </tr>\n",
       "    <tr>\n",
       "      <th>4</th>\n",
       "      <td>5</td>\n",
       "      <td>Eva Green</td>\n",
       "      <td>DevOps Engineer</td>\n",
       "      <td>IT</td>\n",
       "      <td>2022-02-01</td>\n",
       "      <td>Java</td>\n",
       "      <td>True</td>\n",
       "      <td>True</td>\n",
       "    </tr>\n",
       "    <tr>\n",
       "      <th>4</th>\n",
       "      <td>5</td>\n",
       "      <td>Eva Green</td>\n",
       "      <td>DevOps Engineer</td>\n",
       "      <td>IT</td>\n",
       "      <td>2022-02-01</td>\n",
       "      <td>R</td>\n",
       "      <td>True</td>\n",
       "      <td>True</td>\n",
       "    </tr>\n",
       "  </tbody>\n",
       "</table>\n",
       "</div>"
      ],
      "text/plain": [
       "   Staff ID           Name              Position Department  Hire Date  \\\n",
       "0         1    Alice Smith            IT Manager         IT 2020-01-15   \n",
       "0         1    Alice Smith            IT Manager         IT 2020-01-15   \n",
       "1         2    Bob Johnson     Software Engineer         IT 2019-03-22   \n",
       "1         2    Bob Johnson     Software Engineer         IT 2019-03-22   \n",
       "1         2    Bob Johnson     Software Engineer         IT 2019-03-22   \n",
       "2         3  Charlie Brown  System Administrator         IT 2021-06-30   \n",
       "2         3  Charlie Brown  System Administrator         IT 2021-06-30   \n",
       "2         3  Charlie Brown  System Administrator         IT 2021-06-30   \n",
       "2         3  Charlie Brown  System Administrator         IT 2021-06-30   \n",
       "3         4   David Wilson        Data Scientist         IT 2018-11-12   \n",
       "3         4   David Wilson        Data Scientist         IT 2018-11-12   \n",
       "3         4   David Wilson        Data Scientist         IT 2018-11-12   \n",
       "3         4   David Wilson        Data Scientist         IT 2018-11-12   \n",
       "3         4   David Wilson        Data Scientist         IT 2018-11-12   \n",
       "4         5      Eva Green       DevOps Engineer         IT 2022-02-01   \n",
       "4         5      Eva Green       DevOps Engineer         IT 2022-02-01   \n",
       "4         5      Eva Green       DevOps Engineer         IT 2022-02-01   \n",
       "\n",
       "            IT Skills  Has Python Skill  Has Java Skill  \n",
       "0     Cloud Computing              True           False  \n",
       "0              Python              True           False  \n",
       "1              Python              True            True  \n",
       "1                Java              True            True  \n",
       "1                   C              True            True  \n",
       "2               Linux              True           False  \n",
       "2          Networking              True           False  \n",
       "2            Security              True           False  \n",
       "2              Python              True           False  \n",
       "3                   R              True           False  \n",
       "3                 SQL              True           False  \n",
       "3    Machine Learning              True           False  \n",
       "3  Data Visualization              True           False  \n",
       "3              Python              True           False  \n",
       "4              Python              True            True  \n",
       "4                Java              True            True  \n",
       "4                   R              True            True  "
      ]
     },
     "execution_count": 65,
     "metadata": {},
     "output_type": "execute_result"
    }
   ],
   "source": [
    "# Explode the lists into separate rows\n",
    "exploded_skills = df.explode('IT Skills')\n",
    "\n",
    "# Strip whitespace\n",
    "exploded_skills['IT Skills'] = exploded_skills['IT Skills'].str.strip()\n",
    "exploded_skills"
   ]
  },
  {
   "cell_type": "code",
   "execution_count": null,
   "metadata": {
    "scrolled": true
   },
   "outputs": [],
   "source": [
    "df"
   ]
  },
  {
   "cell_type": "code",
   "execution_count": null,
   "metadata": {},
   "outputs": [],
   "source": []
  }
 ],
 "metadata": {
  "kernelspec": {
   "display_name": "Python 3 (ipykernel)",
   "language": "python",
   "name": "python3"
  },
  "language_info": {
   "codemirror_mode": {
    "name": "ipython",
    "version": 3
   },
   "file_extension": ".py",
   "mimetype": "text/x-python",
   "name": "python",
   "nbconvert_exporter": "python",
   "pygments_lexer": "ipython3",
   "version": "3.11.5"
  }
 },
 "nbformat": 4,
 "nbformat_minor": 4
}
