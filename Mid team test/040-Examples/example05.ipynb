{
 "cells": [
  {
   "cell_type": "markdown",
   "metadata": {},
   "source": [
    "#### Reference: Mario Dobler and Tim Gromann (2019): “Data Visualization with Python: Create an impact with meaningful data insights using interactive and engaging visuals”, Packt Publishing\n",
    "\n",
    "## Example 05: Intelligent quotient"
   ]
  },
  {
   "cell_type": "markdown",
   "metadata": {},
   "source": [
    "In this activity, we will visualize the intelligent quotient (IQ) using a histogram and box plots."
   ]
  },
  {
   "cell_type": "code",
   "execution_count": 11,
   "metadata": {},
   "outputs": [],
   "source": [
    "# Import statements\n",
    "import numpy as np\n",
    "import matplotlib.pyplot as plt\n",
    "\n",
    "%matplotlib inline"
   ]
  },
  {
   "cell_type": "code",
   "execution_count": 12,
   "metadata": {},
   "outputs": [],
   "source": [
    "# IQ samples\n",
    "iq_scores = [126,  89,  90, 101, 102,  74,  93, 101,  66, 120, 108,  97,  98,\n",
    "            105, 119,  92, 113,  81, 104, 108,  83, 102, 105, 111, 102, 107,\n",
    "            103,  89,  89, 110,  71, 110, 120,  85, 111,  83, 122, 120, 102,\n",
    "            84, 118, 100, 100, 114,  81, 109,  69,  97,  95, 106, 116, 109,\n",
    "            114,  98,  90,  92,  98,  91,  81,  85,  86, 102,  93, 112,  76,\n",
    "            89, 110,  75, 100,  90,  96,  94, 107, 108,  95,  96,  96, 114,\n",
    "            93,  95, 117, 141, 115,  95,  86, 100, 121, 103,  66,  99,  96,\n",
    "            111, 110, 105, 110,  91, 112, 102, 112, 105]"
   ]
  },
  {
   "cell_type": "code",
   "execution_count": 13,
   "metadata": {},
   "outputs": [
    {
     "data": {
      "text/plain": [
       "100"
      ]
     },
     "execution_count": 13,
     "metadata": {},
     "output_type": "execute_result"
    }
   ],
   "source": [
    "len(iq_scores)"
   ]
  },
  {
   "cell_type": "code",
   "execution_count": 14,
   "metadata": {},
   "outputs": [
    {
     "data": {
      "text/plain": [
       "141"
      ]
     },
     "execution_count": 14,
     "metadata": {},
     "output_type": "execute_result"
    }
   ],
   "source": [
    "np.max(iq_scores)"
   ]
  },
  {
   "cell_type": "code",
   "execution_count": 15,
   "metadata": {},
   "outputs": [
    {
     "data": {
      "text/plain": [
       "99.83"
      ]
     },
     "execution_count": 15,
     "metadata": {},
     "output_type": "execute_result"
    }
   ],
   "source": [
    "np.mean(iq_scores)"
   ]
  },
  {
   "cell_type": "code",
   "execution_count": 19,
   "metadata": {},
   "outputs": [
    {
     "data": {
      "text/plain": [
       "13.72447084590149"
      ]
     },
     "execution_count": 19,
     "metadata": {},
     "output_type": "execute_result"
    }
   ],
   "source": [
    "np.std(iq_scores)"
   ]
  },
  {
   "cell_type": "code",
   "execution_count": 20,
   "metadata": {
    "scrolled": true
   },
   "outputs": [
    {
     "data": {
      "text/plain": [
       "86.1055291540985"
      ]
     },
     "execution_count": 20,
     "metadata": {},
     "output_type": "execute_result"
    }
   ],
   "source": [
    "np.mean(iq_scores)-np.std(iq_scores)"
   ]
  },
  {
   "cell_type": "code",
   "execution_count": 21,
   "metadata": {},
   "outputs": [
    {
     "data": {
      "text/plain": [
       "113.55447084590149"
      ]
     },
     "execution_count": 21,
     "metadata": {},
     "output_type": "execute_result"
    }
   ],
   "source": [
    "np.mean(iq_scores)+np.std(iq_scores)"
   ]
  },
  {
   "cell_type": "markdown",
   "metadata": {},
   "source": [
    "Plot a histogram with ten bins for the given IQ scores. IQ scores are normally distributed with a mean of 100 and a standard deviation of 15. Visualize the mean as a vertical solid red line, and the standard deviation using dashed vertical lines. Add labels and a title."
   ]
  },
  {
   "cell_type": "code",
   "execution_count": 26,
   "metadata": {},
   "outputs": [
    {
     "data": {
      "image/png": "[encoded data removed]",
      "text/plain": [
       "<Figure size 576x432 with 1 Axes>"
      ]
     },
     "metadata": {
      "needs_background": "light"
     },
     "output_type": "display_data"
    }
   ],
   "source": [
    "# Create figure\n",
    "plt.figure(figsize=(8, 6), dpi=72)\n",
    "\n",
    "# Create histogram\n",
    "plt.hist(iq_scores, bins=10)\n",
    "\n",
    "plt.axvline(x=100, color='r') # np.mean(iq_scores)\n",
    "plt.axvline(x=115, color='r', linestyle= '--') # 100+15\n",
    "plt.axvline(x=85, color='r', linestyle= '--')  # 100-15\n",
    "\n",
    "# Add labels and title\n",
    "plt.xlabel('IQ score')\n",
    "plt.ylabel('Frequency')\n",
    "plt.title('IQ scores for a test group of a hundred adults')\n",
    "# Show plot\n",
    "plt.show()"
   ]
  },
  {
   "cell_type": "markdown",
   "metadata": {},
   "source": [
    "Create a box plot to visualize the same IQ scores. Add labels and a title."
   ]
  },
  {
   "cell_type": "code",
   "execution_count": 30,
   "metadata": {},
   "outputs": [
    {
     "data": {
      "image/png": "[encoded data removed]",
      "text/plain": [
       "<Figure size 432x288 with 1 Axes>"
      ]
     },
     "metadata": {
      "needs_background": "light"
     },
     "output_type": "display_data"
    }
   ],
   "source": [
    "# Create figure\n",
    "plt.figure(figsize=(6, 4), dpi=72)\n",
    "\n",
    "# Create boxplot\n",
    "plt.boxplot(iq_scores, showmeans=False)\n",
    "\n",
    "# Add labels and title\n",
    "ax = plt.gca() # get the axes \n",
    "ax.set_xticklabels(['Test group'])\n",
    "plt.ylabel('IQ score')\n",
    "plt.title('IQ scores for a test group of a hundred adults')\n",
    "# Show plot\n",
    "plt.show()"
   ]
  },
  {
   "cell_type": "code",
   "execution_count": 31,
   "metadata": {},
   "outputs": [],
   "source": [
    "group_a = [118, 103, 125, 107, 111,  96, 104,  97,  96, 114,  96,  75, 114,\n",
    "       107,  87, 117, 117, 114, 117, 112, 107, 133,  94,  91, 118, 110,\n",
    "       117,  86, 143,  83, 106,  86,  98, 126, 109,  91, 112, 120, 108,\n",
    "       111, 107,  98,  89, 113, 117,  81, 113, 112,  84, 115,  96,  93,\n",
    "       128, 115, 138, 121,  87, 112, 110,  79, 100,  84, 115,  93, 108,\n",
    "       130, 107, 106, 106, 101, 117,  93,  94, 103, 112,  98, 103,  70,\n",
    "       139,  94, 110, 105, 122,  94,  94, 105, 129, 110, 112,  97, 109,\n",
    "       121, 106, 118, 131,  88, 122, 125,  93,  78]\n",
    "group_b = [126,  89,  90, 101, 102,  74,  93, 101,  66, 120, 108,  97,  98,\n",
    "            105, 119,  92, 113,  81, 104, 108,  83, 102, 105, 111, 102, 107,\n",
    "            103,  89,  89, 110,  71, 110, 120,  85, 111,  83, 122, 120, 102,\n",
    "            84, 118, 100, 100, 114,  81, 109,  69,  97,  95, 106, 116, 109,\n",
    "            114,  98,  90,  92,  98,  91,  81,  85,  86, 102,  93, 112,  76,\n",
    "            89, 110,  75, 100,  90,  96,  94, 107, 108,  95,  96,  96, 114,\n",
    "            93,  95, 117, 141, 115,  95,  86, 100, 121, 103,  66,  99,  96,\n",
    "            111, 110, 105, 110,  91, 112, 102, 112,  75]\n",
    "group_c = [108,  89, 114, 116, 126, 104, 113,  96,  69, 121, 109, 102, 107,\n",
    "       122, 104, 107, 108, 137, 107, 116,  98, 132, 108, 114,  82,  93,\n",
    "        89,  90,  86,  91,  99,  98,  83,  93, 114,  96,  95, 113, 103,\n",
    "        81, 107,  85, 116,  85, 107, 125, 126, 123, 122, 124, 115, 114,\n",
    "        93,  93, 114, 107, 107,  84, 131,  91, 108, 127, 112, 106, 115,\n",
    "        82,  90, 117, 108, 115, 113, 108, 104, 103,  90, 110, 114,  92,\n",
    "       101,  72, 109,  94, 122,  90, 102,  86, 119, 103, 110,  96,  90,\n",
    "       110,  96,  69,  85, 102,  69,  96, 101,  90]\n",
    "group_d = [ 93,  99,  91, 110,  80, 113, 111, 115,  98,  74,  96,  80,  83,\n",
    "       102,  60,  91,  82,  90,  97, 101,  89,  89, 117,  91, 104, 104,\n",
    "       102, 128, 106, 111,  79,  92,  97, 101, 106, 110,  93,  93, 106,\n",
    "       108,  85,  83, 108,  94,  79,  87, 113, 112, 111, 111,  79, 116,\n",
    "       104,  84, 116, 111, 103, 103, 112,  68,  54,  80,  86, 119,  81,\n",
    "        84,  91,  96, 116, 125,  99,  58, 102,  77,  98, 100,  90, 106,\n",
    "       109, 114, 102, 102, 112, 103,  98,  96,  85,  97, 110, 131,  92,\n",
    "        79, 115, 122,  95, 105,  74,  85,  85,  95]"
   ]
  },
  {
   "cell_type": "code",
   "execution_count": 9,
   "metadata": {},
   "outputs": [
    {
     "data": {
      "text/plain": [
       "14.653067938148652"
      ]
     },
     "execution_count": 9,
     "metadata": {},
     "output_type": "execute_result"
    }
   ],
   "source": [
    "group_a = np.array(group_a)\n",
    "np.median(group_a)\n",
    "np.mean(group_a)\n",
    "np.min(group_a)\n",
    "np.max(group_a)\n",
    "np.std(group_a)"
   ]
  },
  {
   "cell_type": "markdown",
   "metadata": {},
   "source": [
    "Create a box plot for each of the IQ scores of different test groups. Add labels and a title."
   ]
  },
  {
   "cell_type": "code",
   "execution_count": 32,
   "metadata": {},
   "outputs": [
    {
     "data": {
      "image/png": "[encoded data removed]",
      "text/plain": [
       "<Figure size 432x288 with 1 Axes>"
      ]
     },
     "metadata": {
      "needs_background": "light"
     },
     "output_type": "display_data"
    }
   ],
   "source": [
    "# Create figure\n",
    "plt.figure(figsize=(6, 4), dpi=72)\n",
    "# Create histogram\n",
    "plt.boxplot([group_a, group_b, group_c, group_d])\n",
    "# Add labels and title\n",
    "ax = plt.gca()\n",
    "ax.set_xticklabels(['Group A', 'Group B', 'Group C', 'Group D'])\n",
    "plt.ylabel('IQ score')\n",
    "plt.title('IQ scores for different test groups')\n",
    "# Show plot\n",
    "plt.show()"
   ]
  },
  {
   "cell_type": "code",
   "execution_count": null,
   "metadata": {},
   "outputs": [],
   "source": []
  }
 ],
 "metadata": {
  "kernelspec": {
   "display_name": "Python 3 (ipykernel)",
   "language": "python",
   "name": "python3"
  },
  "language_info": {
   "codemirror_mode": {
    "name": "ipython",
    "version": 3
   },
   "file_extension": ".py",
   "mimetype": "text/x-python",
   "name": "python",
   "nbconvert_exporter": "python",
   "pygments_lexer": "ipython3",
   "version": "3.9.13"
  }
 },
 "nbformat": 4,
 "nbformat_minor": 2
}
