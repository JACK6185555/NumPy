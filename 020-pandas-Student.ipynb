{
 "cells": [
  {
   "cell_type": "markdown",
   "metadata": {},
   "source": [
    "# CCIT4092 Data Visualization\n",
    "\n",
    "## 03 Pandas Revision\n",
    "\n",
    "Documentation: https://pandas.pydata.org<br>"
   ]
  },
  {
   "cell_type": "markdown",
   "metadata": {},
   "source": [
    "<p style=\"color:transparent\">Prepared by Dr. Ivy Wong for CCIT4092 2020/21 cohort only. Redistribution prohibited.</p>"
   ]
  },
  {
   "cell_type": "markdown",
   "metadata": {},
   "source": [
    "### Data Structure -- Series"
   ]
  },
  {
   "cell_type": "code",
   "execution_count": 1,
   "metadata": {},
   "outputs": [],
   "source": [
    "# Series\n",
    "import pandas as pd\n",
    "from pandas import Series "
   ]
  },
  {
   "cell_type": "code",
   "execution_count": 2,
   "metadata": {},
   "outputs": [
    {
     "name": "stdout",
     "output_type": "stream",
     "text": [
      "0    4\n",
      "1    7\n",
      "2   -5\n",
      "3    3\n",
      "dtype: int64 \n",
      "\n",
      "[ 4  7 -5  3] \n",
      "\n",
      "RangeIndex(start=0, stop=4, step=1) \n",
      "\n"
     ]
    }
   ],
   "source": [
    "# list: [4,7,-5,3]\n",
    "# numpy: numpy array \n",
    "\n",
    "obj = pd.Series([4,7,-5,3])\n",
    "\n",
    "print(obj,'\\n')\n",
    "print(obj.values, '\\n')\n",
    "print(obj.index, '\\n')"
   ]
  },
  {
   "cell_type": "code",
   "execution_count": 3,
   "metadata": {},
   "outputs": [
    {
     "name": "stdout",
     "output_type": "stream",
     "text": [
      "dog    4\n",
      "boy    7\n",
      "a     -5\n",
      "c      3\n",
      "dtype: int64 \n",
      "\n",
      "Index(['dog', 'boy', 'a', 'c'], dtype='object') \n",
      "\n",
      "-5 \n",
      "\n",
      "a   -5\n",
      "dtype: int64 \n",
      "\n",
      "dog     8\n",
      "boy    14\n",
      "a     -10\n",
      "c       6\n",
      "dtype: int64 \n",
      "\n"
     ]
    }
   ],
   "source": [
    "# Series with a label\n",
    "\n",
    "obj2 = pd.Series([4,7,-5,3],index=['dog','boy','a','c'])\n",
    "print(obj2,'\\n')\n",
    "print(obj2.index,'\\n')\n",
    "print(obj2['a'],'\\n')\n",
    "\n",
    "print(obj2[obj2<0],'\\n') # data filtering \n",
    "\n",
    "print(obj2*2,'\\n')"
   ]
  },
  {
   "cell_type": "code",
   "execution_count": 4,
   "metadata": {},
   "outputs": [
    {
     "name": "stdout",
     "output_type": "stream",
     "text": [
      "apple     35\n",
      "orange    71\n",
      "lemon     16\n",
      "melon     50\n",
      "dtype: int64 \n",
      "\n",
      "banana     NaN\n",
      "apple     35.0\n",
      "lemon     16.0\n",
      "kiwi       NaN\n",
      "dtype: float64 \n",
      "\n",
      "apple     70.0\n",
      "banana     NaN\n",
      "kiwi       NaN\n",
      "lemon     32.0\n",
      "melon      NaN\n",
      "orange     NaN\n",
      "dtype: float64 \n",
      "\n"
     ]
    }
   ],
   "source": [
    "# Series\n",
    "# Arithmetic operation\n",
    "\n",
    "fruit_dict = {'apple':35, 'orange':71, 'lemon':16, 'melon':50}\n",
    "obj3 = pd.Series(fruit_dict)\n",
    "\n",
    "# data alignment\n",
    "fruit_label = ['banana','apple','lemon','kiwi']\n",
    "obj4 = pd.Series(fruit_dict,index=fruit_label)\n",
    "\n",
    "print(obj3,'\\n')\n",
    "print(obj4,'\\n')\n",
    "print(obj3+obj4,'\\n')"
   ]
  },
  {
   "cell_type": "code",
   "execution_count": 5,
   "metadata": {
    "scrolled": true
   },
   "outputs": [
    {
     "name": "stdout",
     "output_type": "stream",
     "text": [
      "a    0.0\n",
      "b    1.0\n",
      "c    2.0\n",
      "d    3.0\n",
      "dtype: float64 \n",
      "\n",
      "1.0 \n",
      "\n",
      "0.0 \n",
      "\n",
      "c    2.0\n",
      "d    3.0\n",
      "dtype: float64 \n",
      "\n",
      "b    1.0\n",
      "c    2.0\n",
      "d    3.0\n",
      "dtype: float64 \n",
      "\n",
      "b    1.0\n",
      "d    3.0\n",
      "dtype: float64 \n",
      "\n",
      "a    0.0\n",
      "b    1.0\n",
      "dtype: float64 \n",
      "\n",
      "b    1.0\n",
      "c    2.0\n",
      "dtype: float64 \n",
      "\n",
      "a    0.0\n",
      "b    5.0\n",
      "c    5.0\n",
      "d    3.0\n",
      "dtype: float64 \n",
      "\n"
     ]
    },
    {
     "name": "stderr",
     "output_type": "stream",
     "text": [
      "C:\\Users\\kalok\\AppData\\Local\\Temp\\ipykernel_14304\\3686757050.py:11: FutureWarning: Series.__getitem__ treating keys as positions is deprecated. In a future version, integer keys will always be treated as labels (consistent with DataFrame behavior). To access a value by position, use `ser.iloc[pos]`\n",
      "  print(obj[0],'\\n')\n",
      "C:\\Users\\kalok\\AppData\\Local\\Temp\\ipykernel_14304\\3686757050.py:17: FutureWarning: Series.__getitem__ treating keys as positions is deprecated. In a future version, integer keys will always be treated as labels (consistent with DataFrame behavior). To access a value by position, use `ser.iloc[pos]`\n",
      "  print(obj[[1,3]],'\\n')\n"
     ]
    }
   ],
   "source": [
    "# Series - Indexing\n",
    "\n",
    "import numpy as np\n",
    "\n",
    "obj = pd.Series(np.arange(4.), index=['a', 'b', 'c', 'd'])\n",
    "\n",
    "print(obj,'\\n')\n",
    "\n",
    "print(obj['b'],'\\n')\n",
    "\n",
    "print(obj[0],'\\n')\n",
    "\n",
    "print(obj[2:4],'\\n')\n",
    "\n",
    "print(obj[['b','c','d']],'\\n')\n",
    "\n",
    "print(obj[[1,3]],'\\n')\n",
    "\n",
    "print(obj[obj<2],'\\n')\n",
    "\n",
    "print(obj['b':'c'],'\\n')\n",
    "\n",
    "obj[['b','c']]= 5\n",
    "print(obj,'\\n')"
   ]
  },
  {
   "cell_type": "markdown",
   "metadata": {},
   "source": [
    "### Data Structure -- DataFrame"
   ]
  },
  {
   "cell_type": "code",
   "execution_count": 6,
   "metadata": {},
   "outputs": [],
   "source": [
    "# {1,2,3,'A','B'} Set \n",
    "# {Key1:Value1, Key2:Value2, ... KeyN:ValueN} Dictionary\n",
    "# (1,2,3) Tuple\n",
    "# [1,2,4,5] List "
   ]
  },
  {
   "cell_type": "code",
   "execution_count": 7,
   "metadata": {},
   "outputs": [
    {
     "name": "stdout",
     "output_type": "stream",
     "text": [
      "             item  quantity  price\n",
      "0        facemask         0  280.0\n",
      "1    toilet paper      1000   30.0\n",
      "2  hand sanitizer       580   25.0\n",
      "3          dettol        10   30.5\n",
      "4          bleach         5    8.9\n",
      "5           glove       200   32.5 \n",
      "\n",
      "             item  quantity  price\n",
      "0        facemask         0  280.0\n",
      "1    toilet paper      1000   30.0\n",
      "2  hand sanitizer       580   25.0 \n",
      "\n",
      "18\n"
     ]
    }
   ],
   "source": [
    "# DataFrame\n",
    "from pandas import DataFrame \n",
    "\n",
    "data = {'item': ['facemask', 'toilet paper', 'hand sanitizer', 'dettol', 'bleach', 'glove'],\n",
    "'quantity': [0, 1000, 580, 10, 5, 200],\n",
    "'price': [280, 30, 25, 30.5, 8.9, 32.5]}\n",
    "\n",
    "frame = pd.DataFrame(data)\n",
    "\n",
    "print(frame,'\\n')\n",
    "print(frame.head(3),'\\n')\n",
    "print(frame.size)"
   ]
  },
  {
   "cell_type": "code",
   "execution_count": 8,
   "metadata": {},
   "outputs": [
    {
     "data": {
      "text/html": [
       "<div>\n",
       "<style scoped>\n",
       "    .dataframe tbody tr th:only-of-type {\n",
       "        vertical-align: middle;\n",
       "    }\n",
       "\n",
       "    .dataframe tbody tr th {\n",
       "        vertical-align: top;\n",
       "    }\n",
       "\n",
       "    .dataframe thead th {\n",
       "        text-align: right;\n",
       "    }\n",
       "</style>\n",
       "<table border=\"1\" class=\"dataframe\">\n",
       "  <thead>\n",
       "    <tr style=\"text-align: right;\">\n",
       "      <th></th>\n",
       "      <th>item</th>\n",
       "      <th>price</th>\n",
       "      <th>quantity</th>\n",
       "      <th>shop</th>\n",
       "    </tr>\n",
       "  </thead>\n",
       "  <tbody>\n",
       "    <tr>\n",
       "      <th>one</th>\n",
       "      <td>facemask</td>\n",
       "      <td>280.0</td>\n",
       "      <td>0</td>\n",
       "      <td>NaN</td>\n",
       "    </tr>\n",
       "    <tr>\n",
       "      <th>two</th>\n",
       "      <td>toilet paper</td>\n",
       "      <td>30.0</td>\n",
       "      <td>1000</td>\n",
       "      <td>NaN</td>\n",
       "    </tr>\n",
       "    <tr>\n",
       "      <th>four</th>\n",
       "      <td>hand sanitizer</td>\n",
       "      <td>25.0</td>\n",
       "      <td>580</td>\n",
       "      <td>NaN</td>\n",
       "    </tr>\n",
       "    <tr>\n",
       "      <th>three</th>\n",
       "      <td>dettol</td>\n",
       "      <td>30.5</td>\n",
       "      <td>10</td>\n",
       "      <td>NaN</td>\n",
       "    </tr>\n",
       "    <tr>\n",
       "      <th>five</th>\n",
       "      <td>bleach</td>\n",
       "      <td>8.9</td>\n",
       "      <td>5</td>\n",
       "      <td>NaN</td>\n",
       "    </tr>\n",
       "    <tr>\n",
       "      <th>six</th>\n",
       "      <td>glove</td>\n",
       "      <td>32.5</td>\n",
       "      <td>200</td>\n",
       "      <td>NaN</td>\n",
       "    </tr>\n",
       "  </tbody>\n",
       "</table>\n",
       "</div>"
      ],
      "text/plain": [
       "                 item  price  quantity shop\n",
       "one          facemask  280.0         0  NaN\n",
       "two      toilet paper   30.0      1000  NaN\n",
       "four   hand sanitizer   25.0       580  NaN\n",
       "three          dettol   30.5        10  NaN\n",
       "five           bleach    8.9         5  NaN\n",
       "six             glove   32.5       200  NaN"
      ]
     },
     "execution_count": 8,
     "metadata": {},
     "output_type": "execute_result"
    }
   ],
   "source": [
    "# DataFrame\n",
    "frame2 = pd.DataFrame(data, \n",
    "                      columns=['item', 'price', 'quantity', 'shop'],\n",
    "                      index=['one', 'two', 'four', 'three','five', 'six'])\n",
    "frame2"
   ]
  },
  {
   "cell_type": "code",
   "execution_count": 9,
   "metadata": {},
   "outputs": [
    {
     "name": "stdout",
     "output_type": "stream",
     "text": [
      "one            facemask\n",
      "two        toilet paper\n",
      "four     hand sanitizer\n",
      "three            dettol\n",
      "five             bleach\n",
      "six               glove\n",
      "Name: item, dtype: object \n",
      "\n",
      "one         0\n",
      "two      1000\n",
      "four      580\n",
      "three      10\n",
      "five        5\n",
      "six       200\n",
      "Name: quantity, dtype: int64 \n",
      "\n",
      "item        dettol\n",
      "price         30.5\n",
      "quantity        10\n",
      "shop           NaN\n",
      "Name: three, dtype: object \n",
      "\n",
      "quantity          10\n",
      "shop        hktvmall\n",
      "Name: three, dtype: object \n",
      "\n"
     ]
    }
   ],
   "source": [
    "# DataFrame - Access a particular row / column\n",
    "\n",
    "print(frame2['item'],'\\n')   # column\n",
    "print(frame2.quantity,'\\n')  # column\n",
    "\n",
    "print(frame2.loc['three'],'\\n')   # row\n",
    "frame2['shop'] = 'hktvmall'       # column\n",
    "\n",
    "print(frame2.loc['three',['quantity','shop']],'\\n')   # row"
   ]
  },
  {
   "cell_type": "code",
   "execution_count": 10,
   "metadata": {
    "scrolled": true
   },
   "outputs": [
    {
     "name": "stdout",
     "output_type": "stream",
     "text": [
      "shop           hktvmall\n",
      "item     hand sanitizer\n",
      "price              25.0\n",
      "Name: four, dtype: object \n",
      "\n",
      "item        hand sanitizer\n",
      "price                 25.0\n",
      "quantity               580\n",
      "shop              hktvmall\n",
      "Name: four, dtype: object \n",
      "\n",
      "          shop            item  price\n",
      "two   hktvmall    toilet paper   30.0\n",
      "four  hktvmall  hand sanitizer   25.0 \n",
      "\n"
     ]
    }
   ],
   "source": [
    "# DataFrame - Use the indexes\n",
    "print(frame2.iloc[2,[3,0,1]],'\\n')\n",
    "print(frame2.iloc[2],'\\n')\n",
    "print(frame2.iloc[[1,2],[3,0,1]],'\\n')"
   ]
  },
  {
   "cell_type": "code",
   "execution_count": 11,
   "metadata": {},
   "outputs": [
    {
     "name": "stdout",
     "output_type": "stream",
     "text": [
      "                 item  price  quantity      shop\n",
      "one          facemask  280.0         0  hktvmall\n",
      "two      toilet paper   30.0      1000  hktvmall\n",
      "four   hand sanitizer   25.0       580  hktvmall\n",
      "three          dettol   30.5        10  hktvmall\n",
      "five           bleach    8.9         5  hktvmall\n",
      "six             glove   32.5       200  hktvmall \n",
      "\n",
      "hktvmall \n",
      "\n",
      "toilet paper\n"
     ]
    }
   ],
   "source": [
    "#DataFrame - Get a particular entry\n",
    "print(frame2, '\\n')\n",
    "print(frame2.iat[2,3], '\\n')    #index\n",
    "print(frame2.at['two', 'item']) # name"
   ]
  },
  {
   "cell_type": "code",
   "execution_count": 12,
   "metadata": {},
   "outputs": [
    {
     "data": {
      "text/plain": [
       "['class1', 'class2', 'class3', 'class1', 'class2', 'class4']\n",
       "Categories (4, object): ['class1', 'class2', 'class3', 'class4']"
      ]
     },
     "execution_count": 12,
     "metadata": {},
     "output_type": "execute_result"
    }
   ],
   "source": [
    "# Categorical\n",
    "\n",
    "categories = pd.Categorical(['class1', 'class2', 'class3', 'class1', 'class2', 'class4'])\n",
    "categories"
   ]
  },
  {
   "cell_type": "markdown",
   "metadata": {},
   "source": [
    "### Sorting and Ranking"
   ]
  },
  {
   "cell_type": "code",
   "execution_count": 13,
   "metadata": {
    "scrolled": true
   },
   "outputs": [
    {
     "name": "stdout",
     "output_type": "stream",
     "text": [
      "0    7\n",
      "1   -5\n",
      "2    7\n",
      "3    4\n",
      "4    2\n",
      "5    0\n",
      "6    4\n",
      "dtype: int64 \n",
      "\n",
      "1   -5\n",
      "5    0\n",
      "4    2\n",
      "3    4\n",
      "6    4\n",
      "0    7\n",
      "2    7\n",
      "dtype: int64 \n",
      "\n",
      "0    6.5\n",
      "1    1.0\n",
      "2    6.5\n",
      "3    4.5\n",
      "4    3.0\n",
      "5    2.0\n",
      "6    4.5\n",
      "dtype: float64 \n",
      "\n",
      "0    6.0\n",
      "1    1.0\n",
      "2    6.0\n",
      "3    4.0\n",
      "4    3.0\n",
      "5    2.0\n",
      "6    4.0\n",
      "dtype: float64 \n",
      "\n",
      "0    2.0\n",
      "1    7.0\n",
      "2    2.0\n",
      "3    4.0\n",
      "4    5.0\n",
      "5    6.0\n",
      "6    4.0\n",
      "dtype: float64 \n",
      "\n"
     ]
    }
   ],
   "source": [
    "# Sorting and Ranking\n",
    "\n",
    "obj = pd.Series([7,-5,7,4,2,0,4])\n",
    "\n",
    "print(obj,'\\n')\n",
    "\n",
    "print(obj.sort_values(), '\\n')\n",
    "\n",
    "\n",
    "print(obj.rank(),'\\n')\n",
    "\n",
    "print(obj.rank(method='min'),'\\n')   # method=average / min / max / first /dense\n",
    "\n",
    "print(obj.rank(ascending=False, method='max'),'\\n')"
   ]
  },
  {
   "cell_type": "code",
   "execution_count": 14,
   "metadata": {},
   "outputs": [
    {
     "data": {
      "text/html": [
       "<div>\n",
       "<style scoped>\n",
       "    .dataframe tbody tr th:only-of-type {\n",
       "        vertical-align: middle;\n",
       "    }\n",
       "\n",
       "    .dataframe tbody tr th {\n",
       "        vertical-align: top;\n",
       "    }\n",
       "\n",
       "    .dataframe thead th {\n",
       "        text-align: right;\n",
       "    }\n",
       "</style>\n",
       "<table border=\"1\" class=\"dataframe\">\n",
       "  <thead>\n",
       "    <tr style=\"text-align: right;\">\n",
       "      <th></th>\n",
       "      <th>item</th>\n",
       "      <th>price</th>\n",
       "      <th>quantity</th>\n",
       "      <th>shop</th>\n",
       "    </tr>\n",
       "  </thead>\n",
       "  <tbody>\n",
       "    <tr>\n",
       "      <th>five</th>\n",
       "      <td>bleach</td>\n",
       "      <td>8.9</td>\n",
       "      <td>5</td>\n",
       "      <td>hktvmall</td>\n",
       "    </tr>\n",
       "    <tr>\n",
       "      <th>three</th>\n",
       "      <td>dettol</td>\n",
       "      <td>30.5</td>\n",
       "      <td>10</td>\n",
       "      <td>hktvmall</td>\n",
       "    </tr>\n",
       "    <tr>\n",
       "      <th>one</th>\n",
       "      <td>facemask</td>\n",
       "      <td>280.0</td>\n",
       "      <td>0</td>\n",
       "      <td>hktvmall</td>\n",
       "    </tr>\n",
       "    <tr>\n",
       "      <th>six</th>\n",
       "      <td>glove</td>\n",
       "      <td>32.5</td>\n",
       "      <td>200</td>\n",
       "      <td>hktvmall</td>\n",
       "    </tr>\n",
       "    <tr>\n",
       "      <th>four</th>\n",
       "      <td>hand sanitizer</td>\n",
       "      <td>25.0</td>\n",
       "      <td>580</td>\n",
       "      <td>hktvmall</td>\n",
       "    </tr>\n",
       "    <tr>\n",
       "      <th>two</th>\n",
       "      <td>toilet paper</td>\n",
       "      <td>30.0</td>\n",
       "      <td>1000</td>\n",
       "      <td>hktvmall</td>\n",
       "    </tr>\n",
       "  </tbody>\n",
       "</table>\n",
       "</div>"
      ],
      "text/plain": [
       "                 item  price  quantity      shop\n",
       "five           bleach    8.9         5  hktvmall\n",
       "three          dettol   30.5        10  hktvmall\n",
       "one          facemask  280.0         0  hktvmall\n",
       "six             glove   32.5       200  hktvmall\n",
       "four   hand sanitizer   25.0       580  hktvmall\n",
       "two      toilet paper   30.0      1000  hktvmall"
      ]
     },
     "execution_count": 14,
     "metadata": {},
     "output_type": "execute_result"
    }
   ],
   "source": [
    "# Sorting - DataFrame\n",
    "\n",
    "frame2.sort_values(by='item', inplace=True)\n",
    "frame2"
   ]
  },
  {
   "cell_type": "code",
   "execution_count": 15,
   "metadata": {},
   "outputs": [
    {
     "name": "stdout",
     "output_type": "stream",
     "text": [
      "['c' 'a' 'd' 'b'] \n",
      "\n",
      "['a' 'b' 'c' 'd'] \n",
      "\n"
     ]
    }
   ],
   "source": [
    "# Unique Values, Value Counts, and Membership\n",
    "\n",
    "obj = pd.Series(['c', 'a', 'd', 'a', 'a', 'b', 'b', 'c', 'c'])\n",
    "uniques = obj.unique()\n",
    "print(uniques,'\\n')\n",
    "uniques.sort() # inplace\n",
    "print(uniques,'\\n')"
   ]
  },
  {
   "cell_type": "code",
   "execution_count": 16,
   "metadata": {},
   "outputs": [
    {
     "name": "stdout",
     "output_type": "stream",
     "text": [
      "    one  two\n",
      "a  1.40  NaN\n",
      "b  7.10 -4.5\n",
      "c   NaN  NaN\n",
      "d  0.75 -1.3 \n",
      "\n",
      "one    9.25\n",
      "two   -5.80\n",
      "dtype: float64 \n",
      "\n",
      "a    1.40\n",
      "b    2.60\n",
      "c    0.00\n",
      "d   -0.55\n",
      "dtype: float64 \n",
      "\n",
      "a     NaN\n",
      "b    2.60\n",
      "c     NaN\n",
      "d   -0.55\n",
      "dtype: float64 \n",
      "\n"
     ]
    }
   ],
   "source": [
    "# Summarizing and Computing Descriptive Statistics \n",
    "\n",
    "df = pd.DataFrame([[1.4, np.nan], [7.1, -4.5],\n",
    "                   [np.nan, np.nan], [0.75, -1.3]],\n",
    "                  index=['a', 'b', 'c', 'd'],\n",
    "                  columns=['one', 'two'])\n",
    "print(df,'\\n')\n",
    "\n",
    "print(df.sum(),'\\n')\n",
    "\n",
    "print(df.sum(axis='columns'),'\\n')\n",
    "\n",
    "print(df.sum(axis='columns',skipna=False),'\\n')"
   ]
  },
  {
   "cell_type": "code",
   "execution_count": 17,
   "metadata": {},
   "outputs": [
    {
     "data": {
      "text/html": [
       "<div>\n",
       "<style scoped>\n",
       "    .dataframe tbody tr th:only-of-type {\n",
       "        vertical-align: middle;\n",
       "    }\n",
       "\n",
       "    .dataframe tbody tr th {\n",
       "        vertical-align: top;\n",
       "    }\n",
       "\n",
       "    .dataframe thead th {\n",
       "        text-align: right;\n",
       "    }\n",
       "</style>\n",
       "<table border=\"1\" class=\"dataframe\">\n",
       "  <thead>\n",
       "    <tr style=\"text-align: right;\">\n",
       "      <th></th>\n",
       "      <th>one</th>\n",
       "      <th>two</th>\n",
       "    </tr>\n",
       "  </thead>\n",
       "  <tbody>\n",
       "    <tr>\n",
       "      <th>count</th>\n",
       "      <td>3.000000</td>\n",
       "      <td>2.000000</td>\n",
       "    </tr>\n",
       "    <tr>\n",
       "      <th>mean</th>\n",
       "      <td>3.083333</td>\n",
       "      <td>-2.900000</td>\n",
       "    </tr>\n",
       "    <tr>\n",
       "      <th>std</th>\n",
       "      <td>3.493685</td>\n",
       "      <td>2.262742</td>\n",
       "    </tr>\n",
       "    <tr>\n",
       "      <th>min</th>\n",
       "      <td>0.750000</td>\n",
       "      <td>-4.500000</td>\n",
       "    </tr>\n",
       "    <tr>\n",
       "      <th>25%</th>\n",
       "      <td>1.075000</td>\n",
       "      <td>-3.700000</td>\n",
       "    </tr>\n",
       "    <tr>\n",
       "      <th>50%</th>\n",
       "      <td>1.400000</td>\n",
       "      <td>-2.900000</td>\n",
       "    </tr>\n",
       "    <tr>\n",
       "      <th>75%</th>\n",
       "      <td>4.250000</td>\n",
       "      <td>-2.100000</td>\n",
       "    </tr>\n",
       "    <tr>\n",
       "      <th>max</th>\n",
       "      <td>7.100000</td>\n",
       "      <td>-1.300000</td>\n",
       "    </tr>\n",
       "  </tbody>\n",
       "</table>\n",
       "</div>"
      ],
      "text/plain": [
       "            one       two\n",
       "count  3.000000  2.000000\n",
       "mean   3.083333 -2.900000\n",
       "std    3.493685  2.262742\n",
       "min    0.750000 -4.500000\n",
       "25%    1.075000 -3.700000\n",
       "50%    1.400000 -2.900000\n",
       "75%    4.250000 -2.100000\n",
       "max    7.100000 -1.300000"
      ]
     },
     "execution_count": 17,
     "metadata": {},
     "output_type": "execute_result"
    }
   ],
   "source": [
    "# Create a statistic summary \n",
    "df.describe() "
   ]
  },
  {
   "cell_type": "markdown",
   "metadata": {},
   "source": [
    "### Data Loading"
   ]
  },
  {
   "cell_type": "code",
   "execution_count": 18,
   "metadata": {
    "scrolled": true
   },
   "outputs": [
    {
     "ename": "FileNotFoundError",
     "evalue": "[Errno 2] No such file or directory: 'data/ex1.csv'",
     "output_type": "error",
     "traceback": [
      "\u001b[1;31m---------------------------------------------------------------------------\u001b[0m",
      "\u001b[1;31mFileNotFoundError\u001b[0m                         Traceback (most recent call last)",
      "Cell \u001b[1;32mIn[18], line 2\u001b[0m\n\u001b[0;32m      1\u001b[0m \u001b[38;5;28;01mimport\u001b[39;00m \u001b[38;5;21;01mpandas\u001b[39;00m \u001b[38;5;28;01mas\u001b[39;00m \u001b[38;5;21;01mpd\u001b[39;00m\n\u001b[1;32m----> 2\u001b[0m df \u001b[38;5;241m=\u001b[39m \u001b[43mpd\u001b[49m\u001b[38;5;241;43m.\u001b[39;49m\u001b[43mread_csv\u001b[49m\u001b[43m(\u001b[49m\u001b[38;5;124;43m'\u001b[39;49m\u001b[38;5;124;43mdata/ex1.csv\u001b[39;49m\u001b[38;5;124;43m'\u001b[39;49m\u001b[43m)\u001b[49m \u001b[38;5;66;03m# Header=None\u001b[39;00m\n\u001b[0;32m      3\u001b[0m df\n",
      "File \u001b[1;32m~\\AppData\\Local\\Packages\\PythonSoftwareFoundation.Python.3.12_qbz5n2kfra8p0\\LocalCache\\local-packages\\Python312\\site-packages\\pandas\\io\\parsers\\readers.py:948\u001b[0m, in \u001b[0;36mread_csv\u001b[1;34m(filepath_or_buffer, sep, delimiter, header, names, index_col, usecols, dtype, engine, converters, true_values, false_values, skipinitialspace, skiprows, skipfooter, nrows, na_values, keep_default_na, na_filter, verbose, skip_blank_lines, parse_dates, infer_datetime_format, keep_date_col, date_parser, date_format, dayfirst, cache_dates, iterator, chunksize, compression, thousands, decimal, lineterminator, quotechar, quoting, doublequote, escapechar, comment, encoding, encoding_errors, dialect, on_bad_lines, delim_whitespace, low_memory, memory_map, float_precision, storage_options, dtype_backend)\u001b[0m\n\u001b[0;32m    935\u001b[0m kwds_defaults \u001b[38;5;241m=\u001b[39m _refine_defaults_read(\n\u001b[0;32m    936\u001b[0m     dialect,\n\u001b[0;32m    937\u001b[0m     delimiter,\n\u001b[1;32m   (...)\u001b[0m\n\u001b[0;32m    944\u001b[0m     dtype_backend\u001b[38;5;241m=\u001b[39mdtype_backend,\n\u001b[0;32m    945\u001b[0m )\n\u001b[0;32m    946\u001b[0m kwds\u001b[38;5;241m.\u001b[39mupdate(kwds_defaults)\n\u001b[1;32m--> 948\u001b[0m \u001b[38;5;28;01mreturn\u001b[39;00m \u001b[43m_read\u001b[49m\u001b[43m(\u001b[49m\u001b[43mfilepath_or_buffer\u001b[49m\u001b[43m,\u001b[49m\u001b[43m \u001b[49m\u001b[43mkwds\u001b[49m\u001b[43m)\u001b[49m\n",
      "File \u001b[1;32m~\\AppData\\Local\\Packages\\PythonSoftwareFoundation.Python.3.12_qbz5n2kfra8p0\\LocalCache\\local-packages\\Python312\\site-packages\\pandas\\io\\parsers\\readers.py:611\u001b[0m, in \u001b[0;36m_read\u001b[1;34m(filepath_or_buffer, kwds)\u001b[0m\n\u001b[0;32m    608\u001b[0m _validate_names(kwds\u001b[38;5;241m.\u001b[39mget(\u001b[38;5;124m\"\u001b[39m\u001b[38;5;124mnames\u001b[39m\u001b[38;5;124m\"\u001b[39m, \u001b[38;5;28;01mNone\u001b[39;00m))\n\u001b[0;32m    610\u001b[0m \u001b[38;5;66;03m# Create the parser.\u001b[39;00m\n\u001b[1;32m--> 611\u001b[0m parser \u001b[38;5;241m=\u001b[39m \u001b[43mTextFileReader\u001b[49m\u001b[43m(\u001b[49m\u001b[43mfilepath_or_buffer\u001b[49m\u001b[43m,\u001b[49m\u001b[43m \u001b[49m\u001b[38;5;241;43m*\u001b[39;49m\u001b[38;5;241;43m*\u001b[39;49m\u001b[43mkwds\u001b[49m\u001b[43m)\u001b[49m\n\u001b[0;32m    613\u001b[0m \u001b[38;5;28;01mif\u001b[39;00m chunksize \u001b[38;5;129;01mor\u001b[39;00m iterator:\n\u001b[0;32m    614\u001b[0m     \u001b[38;5;28;01mreturn\u001b[39;00m parser\n",
      "File \u001b[1;32m~\\AppData\\Local\\Packages\\PythonSoftwareFoundation.Python.3.12_qbz5n2kfra8p0\\LocalCache\\local-packages\\Python312\\site-packages\\pandas\\io\\parsers\\readers.py:1448\u001b[0m, in \u001b[0;36mTextFileReader.__init__\u001b[1;34m(self, f, engine, **kwds)\u001b[0m\n\u001b[0;32m   1445\u001b[0m     \u001b[38;5;28mself\u001b[39m\u001b[38;5;241m.\u001b[39moptions[\u001b[38;5;124m\"\u001b[39m\u001b[38;5;124mhas_index_names\u001b[39m\u001b[38;5;124m\"\u001b[39m] \u001b[38;5;241m=\u001b[39m kwds[\u001b[38;5;124m\"\u001b[39m\u001b[38;5;124mhas_index_names\u001b[39m\u001b[38;5;124m\"\u001b[39m]\n\u001b[0;32m   1447\u001b[0m \u001b[38;5;28mself\u001b[39m\u001b[38;5;241m.\u001b[39mhandles: IOHandles \u001b[38;5;241m|\u001b[39m \u001b[38;5;28;01mNone\u001b[39;00m \u001b[38;5;241m=\u001b[39m \u001b[38;5;28;01mNone\u001b[39;00m\n\u001b[1;32m-> 1448\u001b[0m \u001b[38;5;28mself\u001b[39m\u001b[38;5;241m.\u001b[39m_engine \u001b[38;5;241m=\u001b[39m \u001b[38;5;28;43mself\u001b[39;49m\u001b[38;5;241;43m.\u001b[39;49m\u001b[43m_make_engine\u001b[49m\u001b[43m(\u001b[49m\u001b[43mf\u001b[49m\u001b[43m,\u001b[49m\u001b[43m \u001b[49m\u001b[38;5;28;43mself\u001b[39;49m\u001b[38;5;241;43m.\u001b[39;49m\u001b[43mengine\u001b[49m\u001b[43m)\u001b[49m\n",
      "File \u001b[1;32m~\\AppData\\Local\\Packages\\PythonSoftwareFoundation.Python.3.12_qbz5n2kfra8p0\\LocalCache\\local-packages\\Python312\\site-packages\\pandas\\io\\parsers\\readers.py:1705\u001b[0m, in \u001b[0;36mTextFileReader._make_engine\u001b[1;34m(self, f, engine)\u001b[0m\n\u001b[0;32m   1703\u001b[0m     \u001b[38;5;28;01mif\u001b[39;00m \u001b[38;5;124m\"\u001b[39m\u001b[38;5;124mb\u001b[39m\u001b[38;5;124m\"\u001b[39m \u001b[38;5;129;01mnot\u001b[39;00m \u001b[38;5;129;01min\u001b[39;00m mode:\n\u001b[0;32m   1704\u001b[0m         mode \u001b[38;5;241m+\u001b[39m\u001b[38;5;241m=\u001b[39m \u001b[38;5;124m\"\u001b[39m\u001b[38;5;124mb\u001b[39m\u001b[38;5;124m\"\u001b[39m\n\u001b[1;32m-> 1705\u001b[0m \u001b[38;5;28mself\u001b[39m\u001b[38;5;241m.\u001b[39mhandles \u001b[38;5;241m=\u001b[39m \u001b[43mget_handle\u001b[49m\u001b[43m(\u001b[49m\n\u001b[0;32m   1706\u001b[0m \u001b[43m    \u001b[49m\u001b[43mf\u001b[49m\u001b[43m,\u001b[49m\n\u001b[0;32m   1707\u001b[0m \u001b[43m    \u001b[49m\u001b[43mmode\u001b[49m\u001b[43m,\u001b[49m\n\u001b[0;32m   1708\u001b[0m \u001b[43m    \u001b[49m\u001b[43mencoding\u001b[49m\u001b[38;5;241;43m=\u001b[39;49m\u001b[38;5;28;43mself\u001b[39;49m\u001b[38;5;241;43m.\u001b[39;49m\u001b[43moptions\u001b[49m\u001b[38;5;241;43m.\u001b[39;49m\u001b[43mget\u001b[49m\u001b[43m(\u001b[49m\u001b[38;5;124;43m\"\u001b[39;49m\u001b[38;5;124;43mencoding\u001b[39;49m\u001b[38;5;124;43m\"\u001b[39;49m\u001b[43m,\u001b[49m\u001b[43m \u001b[49m\u001b[38;5;28;43;01mNone\u001b[39;49;00m\u001b[43m)\u001b[49m\u001b[43m,\u001b[49m\n\u001b[0;32m   1709\u001b[0m \u001b[43m    \u001b[49m\u001b[43mcompression\u001b[49m\u001b[38;5;241;43m=\u001b[39;49m\u001b[38;5;28;43mself\u001b[39;49m\u001b[38;5;241;43m.\u001b[39;49m\u001b[43moptions\u001b[49m\u001b[38;5;241;43m.\u001b[39;49m\u001b[43mget\u001b[49m\u001b[43m(\u001b[49m\u001b[38;5;124;43m\"\u001b[39;49m\u001b[38;5;124;43mcompression\u001b[39;49m\u001b[38;5;124;43m\"\u001b[39;49m\u001b[43m,\u001b[49m\u001b[43m \u001b[49m\u001b[38;5;28;43;01mNone\u001b[39;49;00m\u001b[43m)\u001b[49m\u001b[43m,\u001b[49m\n\u001b[0;32m   1710\u001b[0m \u001b[43m    \u001b[49m\u001b[43mmemory_map\u001b[49m\u001b[38;5;241;43m=\u001b[39;49m\u001b[38;5;28;43mself\u001b[39;49m\u001b[38;5;241;43m.\u001b[39;49m\u001b[43moptions\u001b[49m\u001b[38;5;241;43m.\u001b[39;49m\u001b[43mget\u001b[49m\u001b[43m(\u001b[49m\u001b[38;5;124;43m\"\u001b[39;49m\u001b[38;5;124;43mmemory_map\u001b[39;49m\u001b[38;5;124;43m\"\u001b[39;49m\u001b[43m,\u001b[49m\u001b[43m \u001b[49m\u001b[38;5;28;43;01mFalse\u001b[39;49;00m\u001b[43m)\u001b[49m\u001b[43m,\u001b[49m\n\u001b[0;32m   1711\u001b[0m \u001b[43m    \u001b[49m\u001b[43mis_text\u001b[49m\u001b[38;5;241;43m=\u001b[39;49m\u001b[43mis_text\u001b[49m\u001b[43m,\u001b[49m\n\u001b[0;32m   1712\u001b[0m \u001b[43m    \u001b[49m\u001b[43merrors\u001b[49m\u001b[38;5;241;43m=\u001b[39;49m\u001b[38;5;28;43mself\u001b[39;49m\u001b[38;5;241;43m.\u001b[39;49m\u001b[43moptions\u001b[49m\u001b[38;5;241;43m.\u001b[39;49m\u001b[43mget\u001b[49m\u001b[43m(\u001b[49m\u001b[38;5;124;43m\"\u001b[39;49m\u001b[38;5;124;43mencoding_errors\u001b[39;49m\u001b[38;5;124;43m\"\u001b[39;49m\u001b[43m,\u001b[49m\u001b[43m \u001b[49m\u001b[38;5;124;43m\"\u001b[39;49m\u001b[38;5;124;43mstrict\u001b[39;49m\u001b[38;5;124;43m\"\u001b[39;49m\u001b[43m)\u001b[49m\u001b[43m,\u001b[49m\n\u001b[0;32m   1713\u001b[0m \u001b[43m    \u001b[49m\u001b[43mstorage_options\u001b[49m\u001b[38;5;241;43m=\u001b[39;49m\u001b[38;5;28;43mself\u001b[39;49m\u001b[38;5;241;43m.\u001b[39;49m\u001b[43moptions\u001b[49m\u001b[38;5;241;43m.\u001b[39;49m\u001b[43mget\u001b[49m\u001b[43m(\u001b[49m\u001b[38;5;124;43m\"\u001b[39;49m\u001b[38;5;124;43mstorage_options\u001b[39;49m\u001b[38;5;124;43m\"\u001b[39;49m\u001b[43m,\u001b[49m\u001b[43m \u001b[49m\u001b[38;5;28;43;01mNone\u001b[39;49;00m\u001b[43m)\u001b[49m\u001b[43m,\u001b[49m\n\u001b[0;32m   1714\u001b[0m \u001b[43m\u001b[49m\u001b[43m)\u001b[49m\n\u001b[0;32m   1715\u001b[0m \u001b[38;5;28;01massert\u001b[39;00m \u001b[38;5;28mself\u001b[39m\u001b[38;5;241m.\u001b[39mhandles \u001b[38;5;129;01mis\u001b[39;00m \u001b[38;5;129;01mnot\u001b[39;00m \u001b[38;5;28;01mNone\u001b[39;00m\n\u001b[0;32m   1716\u001b[0m f \u001b[38;5;241m=\u001b[39m \u001b[38;5;28mself\u001b[39m\u001b[38;5;241m.\u001b[39mhandles\u001b[38;5;241m.\u001b[39mhandle\n",
      "File \u001b[1;32m~\\AppData\\Local\\Packages\\PythonSoftwareFoundation.Python.3.12_qbz5n2kfra8p0\\LocalCache\\local-packages\\Python312\\site-packages\\pandas\\io\\common.py:863\u001b[0m, in \u001b[0;36mget_handle\u001b[1;34m(path_or_buf, mode, encoding, compression, memory_map, is_text, errors, storage_options)\u001b[0m\n\u001b[0;32m    858\u001b[0m \u001b[38;5;28;01melif\u001b[39;00m \u001b[38;5;28misinstance\u001b[39m(handle, \u001b[38;5;28mstr\u001b[39m):\n\u001b[0;32m    859\u001b[0m     \u001b[38;5;66;03m# Check whether the filename is to be opened in binary mode.\u001b[39;00m\n\u001b[0;32m    860\u001b[0m     \u001b[38;5;66;03m# Binary mode does not support 'encoding' and 'newline'.\u001b[39;00m\n\u001b[0;32m    861\u001b[0m     \u001b[38;5;28;01mif\u001b[39;00m ioargs\u001b[38;5;241m.\u001b[39mencoding \u001b[38;5;129;01mand\u001b[39;00m \u001b[38;5;124m\"\u001b[39m\u001b[38;5;124mb\u001b[39m\u001b[38;5;124m\"\u001b[39m \u001b[38;5;129;01mnot\u001b[39;00m \u001b[38;5;129;01min\u001b[39;00m ioargs\u001b[38;5;241m.\u001b[39mmode:\n\u001b[0;32m    862\u001b[0m         \u001b[38;5;66;03m# Encoding\u001b[39;00m\n\u001b[1;32m--> 863\u001b[0m         handle \u001b[38;5;241m=\u001b[39m \u001b[38;5;28;43mopen\u001b[39;49m\u001b[43m(\u001b[49m\n\u001b[0;32m    864\u001b[0m \u001b[43m            \u001b[49m\u001b[43mhandle\u001b[49m\u001b[43m,\u001b[49m\n\u001b[0;32m    865\u001b[0m \u001b[43m            \u001b[49m\u001b[43mioargs\u001b[49m\u001b[38;5;241;43m.\u001b[39;49m\u001b[43mmode\u001b[49m\u001b[43m,\u001b[49m\n\u001b[0;32m    866\u001b[0m \u001b[43m            \u001b[49m\u001b[43mencoding\u001b[49m\u001b[38;5;241;43m=\u001b[39;49m\u001b[43mioargs\u001b[49m\u001b[38;5;241;43m.\u001b[39;49m\u001b[43mencoding\u001b[49m\u001b[43m,\u001b[49m\n\u001b[0;32m    867\u001b[0m \u001b[43m            \u001b[49m\u001b[43merrors\u001b[49m\u001b[38;5;241;43m=\u001b[39;49m\u001b[43merrors\u001b[49m\u001b[43m,\u001b[49m\n\u001b[0;32m    868\u001b[0m \u001b[43m            \u001b[49m\u001b[43mnewline\u001b[49m\u001b[38;5;241;43m=\u001b[39;49m\u001b[38;5;124;43m\"\u001b[39;49m\u001b[38;5;124;43m\"\u001b[39;49m\u001b[43m,\u001b[49m\n\u001b[0;32m    869\u001b[0m \u001b[43m        \u001b[49m\u001b[43m)\u001b[49m\n\u001b[0;32m    870\u001b[0m     \u001b[38;5;28;01melse\u001b[39;00m:\n\u001b[0;32m    871\u001b[0m         \u001b[38;5;66;03m# Binary mode\u001b[39;00m\n\u001b[0;32m    872\u001b[0m         handle \u001b[38;5;241m=\u001b[39m \u001b[38;5;28mopen\u001b[39m(handle, ioargs\u001b[38;5;241m.\u001b[39mmode)\n",
      "\u001b[1;31mFileNotFoundError\u001b[0m: [Errno 2] No such file or directory: 'data/ex1.csv'"
     ]
    }
   ],
   "source": [
    "import pandas as pd\n",
    "df = pd.read_csv('data/ex1.csv') # Header=None\n",
    "df"
   ]
  },
  {
   "cell_type": "code",
   "execution_count": 68,
   "metadata": {},
   "outputs": [
    {
     "data": {
      "text/plain": [
       "array([[1, 2, 3, 4, 'hello'],\n",
       "       [5, 6, 7, 8, 'world'],\n",
       "       [9, 10, 11, 12, 'apple']], dtype=object)"
      ]
     },
     "execution_count": 68,
     "metadata": {},
     "output_type": "execute_result"
    }
   ],
   "source": [
    "# Converting pandas data structure to numpy\n",
    "\n",
    "arr=df.to_numpy()\n",
    "arr"
   ]
  },
  {
   "cell_type": "markdown",
   "metadata": {},
   "source": [
    "### Basic data visualization with pandas"
   ]
  },
  {
   "cell_type": "code",
   "execution_count": 70,
   "metadata": {},
   "outputs": [
    {
     "data": {
      "text/plain": [
       "<Axes: >"
      ]
     },
     "execution_count": 70,
     "metadata": {},
     "output_type": "execute_result"
    },
    {
     "data": {
      "image/png": "[encoded data removed]",
      "text/plain": [
       "<Figure size 640x480 with 1 Axes>"
      ]
     },
     "metadata": {},
     "output_type": "display_data"
    }
   ],
   "source": [
    "arr = pd.Series([1,2,4,5,7,8,6,7,8])\n",
    "arr.plot()"
   ]
  },
  {
   "cell_type": "code",
   "execution_count": 71,
   "metadata": {},
   "outputs": [
    {
     "data": {
      "text/html": [
       "<div>\n",
       "<style scoped>\n",
       "    .dataframe tbody tr th:only-of-type {\n",
       "        vertical-align: middle;\n",
       "    }\n",
       "\n",
       "    .dataframe tbody tr th {\n",
       "        vertical-align: top;\n",
       "    }\n",
       "\n",
       "    .dataframe thead th {\n",
       "        text-align: right;\n",
       "    }\n",
       "</style>\n",
       "<table border=\"1\" class=\"dataframe\">\n",
       "  <thead>\n",
       "    <tr style=\"text-align: right;\">\n",
       "      <th></th>\n",
       "      <th>a</th>\n",
       "      <th>b</th>\n",
       "      <th>c</th>\n",
       "      <th>d</th>\n",
       "      <th>message</th>\n",
       "    </tr>\n",
       "  </thead>\n",
       "  <tbody>\n",
       "    <tr>\n",
       "      <th>0</th>\n",
       "      <td>1</td>\n",
       "      <td>2</td>\n",
       "      <td>3</td>\n",
       "      <td>4</td>\n",
       "      <td>hello</td>\n",
       "    </tr>\n",
       "    <tr>\n",
       "      <th>1</th>\n",
       "      <td>5</td>\n",
       "      <td>6</td>\n",
       "      <td>7</td>\n",
       "      <td>8</td>\n",
       "      <td>world</td>\n",
       "    </tr>\n",
       "    <tr>\n",
       "      <th>2</th>\n",
       "      <td>9</td>\n",
       "      <td>10</td>\n",
       "      <td>11</td>\n",
       "      <td>12</td>\n",
       "      <td>apple</td>\n",
       "    </tr>\n",
       "  </tbody>\n",
       "</table>\n",
       "</div>"
      ],
      "text/plain": [
       "   a   b   c   d message\n",
       "0  1   2   3   4   hello\n",
       "1  5   6   7   8   world\n",
       "2  9  10  11  12   apple"
      ]
     },
     "execution_count": 71,
     "metadata": {},
     "output_type": "execute_result"
    }
   ],
   "source": [
    "import pandas as pd\n",
    "df = pd.read_csv('data/ex1.csv') # Header=None\n",
    "df"
   ]
  },
  {
   "cell_type": "code",
   "execution_count": 72,
   "metadata": {},
   "outputs": [
    {
     "data": {
      "text/plain": [
       "<Axes: ylabel='c'>"
      ]
     },
     "execution_count": 72,
     "metadata": {},
     "output_type": "execute_result"
    },
    {
     "data": {
      "image/png": "[encoded data removed]",
      "text/plain": [
       "<Figure size 640x480 with 1 Axes>"
      ]
     },
     "metadata": {},
     "output_type": "display_data"
    }
   ],
   "source": [
    "# visualizing a column in data frame\n",
    "# https://pandas.pydata.org/pandas-docs/version/0.23.4/generated/pandas.DataFrame.plot.html\n",
    "df['c'].plot(kind='pie')"
   ]
  },
  {
   "cell_type": "markdown",
   "metadata": {},
   "source": [
    "### More complex data processing and cleaning"
   ]
  },
  {
   "cell_type": "code",
   "execution_count": 67,
   "metadata": {},
   "outputs": [
    {
     "data": {
      "text/html": [
       "<div>\n",
       "<style scoped>\n",
       "    .dataframe tbody tr th:only-of-type {\n",
       "        vertical-align: middle;\n",
       "    }\n",
       "\n",
       "    .dataframe tbody tr th {\n",
       "        vertical-align: top;\n",
       "    }\n",
       "\n",
       "    .dataframe thead th {\n",
       "        text-align: right;\n",
       "    }\n",
       "</style>\n",
       "<table border=\"1\" class=\"dataframe\">\n",
       "  <thead>\n",
       "    <tr style=\"text-align: right;\">\n",
       "      <th></th>\n",
       "      <th>Staff ID</th>\n",
       "      <th>Name</th>\n",
       "      <th>Position</th>\n",
       "      <th>Department</th>\n",
       "      <th>Hire Date</th>\n",
       "      <th>IT Skills</th>\n",
       "    </tr>\n",
       "  </thead>\n",
       "  <tbody>\n",
       "    <tr>\n",
       "      <th>0</th>\n",
       "      <td>1</td>\n",
       "      <td>Alice Smith</td>\n",
       "      <td>IT Manager</td>\n",
       "      <td>IT</td>\n",
       "      <td>1/15/20</td>\n",
       "      <td>Cloud Computing, Python</td>\n",
       "    </tr>\n",
       "    <tr>\n",
       "      <th>1</th>\n",
       "      <td>2</td>\n",
       "      <td>Bob Johnson</td>\n",
       "      <td>Software Engineer</td>\n",
       "      <td>IT</td>\n",
       "      <td>3/22/19</td>\n",
       "      <td>Python, Java, C</td>\n",
       "    </tr>\n",
       "    <tr>\n",
       "      <th>2</th>\n",
       "      <td>3</td>\n",
       "      <td>Charlie Brown</td>\n",
       "      <td>System Administrator</td>\n",
       "      <td>IT</td>\n",
       "      <td>6/30/21</td>\n",
       "      <td>Linux, Networking, Security, Python</td>\n",
       "    </tr>\n",
       "    <tr>\n",
       "      <th>3</th>\n",
       "      <td>4</td>\n",
       "      <td>David Wilson</td>\n",
       "      <td>Data Scientist</td>\n",
       "      <td>IT</td>\n",
       "      <td>11/12/18</td>\n",
       "      <td>R, SQL, Machine Learning, Data Visualization, ...</td>\n",
       "    </tr>\n",
       "    <tr>\n",
       "      <th>4</th>\n",
       "      <td>5</td>\n",
       "      <td>Eva Green</td>\n",
       "      <td>DevOps Engineer</td>\n",
       "      <td>IT</td>\n",
       "      <td>2/1/22</td>\n",
       "      <td>Python, Java, R</td>\n",
       "    </tr>\n",
       "  </tbody>\n",
       "</table>\n",
       "</div>"
      ],
      "text/plain": [
       "   Staff ID           Name              Position Department Hire Date  \\\n",
       "0         1    Alice Smith            IT Manager         IT   1/15/20   \n",
       "1         2    Bob Johnson     Software Engineer         IT   3/22/19   \n",
       "2         3  Charlie Brown  System Administrator         IT   6/30/21   \n",
       "3         4   David Wilson        Data Scientist         IT  11/12/18   \n",
       "4         5      Eva Green       DevOps Engineer         IT    2/1/22   \n",
       "\n",
       "                                           IT Skills  \n",
       "0                            Cloud Computing, Python  \n",
       "1                                    Python, Java, C  \n",
       "2                Linux, Networking, Security, Python  \n",
       "3  R, SQL, Machine Learning, Data Visualization, ...  \n",
       "4                                    Python, Java, R  "
      ]
     },
     "execution_count": 67,
     "metadata": {},
     "output_type": "execute_result"
    }
   ],
   "source": [
    "import pandas as pd\n",
    "\n",
    "df = pd.read_csv('data/staff.csv')\n",
    "df"
   ]
  },
  {
   "cell_type": "code",
   "execution_count": 68,
   "metadata": {},
   "outputs": [
    {
     "name": "stdout",
     "output_type": "stream",
     "text": [
      "<class 'pandas.core.frame.DataFrame'>\n",
      "RangeIndex: 5 entries, 0 to 4\n",
      "Data columns (total 6 columns):\n",
      " #   Column      Non-Null Count  Dtype \n",
      "---  ------      --------------  ----- \n",
      " 0   Staff ID    5 non-null      int64 \n",
      " 1   Name        5 non-null      object\n",
      " 2   Position    5 non-null      object\n",
      " 3   Department  5 non-null      object\n",
      " 4   Hire Date   5 non-null      object\n",
      " 5   IT Skills   5 non-null      object\n",
      "dtypes: int64(1), object(5)\n",
      "memory usage: 372.0+ bytes\n"
     ]
    }
   ],
   "source": [
    "df.info()"
   ]
  },
  {
   "cell_type": "code",
   "execution_count": 69,
   "metadata": {
    "scrolled": true
   },
   "outputs": [
    {
     "data": {
      "text/html": [
       "<div>\n",
       "<style scoped>\n",
       "    .dataframe tbody tr th:only-of-type {\n",
       "        vertical-align: middle;\n",
       "    }\n",
       "\n",
       "    .dataframe tbody tr th {\n",
       "        vertical-align: top;\n",
       "    }\n",
       "\n",
       "    .dataframe thead th {\n",
       "        text-align: right;\n",
       "    }\n",
       "</style>\n",
       "<table border=\"1\" class=\"dataframe\">\n",
       "  <thead>\n",
       "    <tr style=\"text-align: right;\">\n",
       "      <th></th>\n",
       "      <th>Staff ID</th>\n",
       "      <th>Name</th>\n",
       "      <th>Position</th>\n",
       "      <th>Department</th>\n",
       "      <th>Hire Date</th>\n",
       "      <th>IT Skills</th>\n",
       "    </tr>\n",
       "  </thead>\n",
       "  <tbody>\n",
       "    <tr>\n",
       "      <th>0</th>\n",
       "      <td>1</td>\n",
       "      <td>Alice Smith</td>\n",
       "      <td>IT Manager</td>\n",
       "      <td>IT</td>\n",
       "      <td>2020-01-15</td>\n",
       "      <td>Cloud Computing, Python</td>\n",
       "    </tr>\n",
       "    <tr>\n",
       "      <th>1</th>\n",
       "      <td>2</td>\n",
       "      <td>Bob Johnson</td>\n",
       "      <td>Software Engineer</td>\n",
       "      <td>IT</td>\n",
       "      <td>2019-03-22</td>\n",
       "      <td>Python, Java, C</td>\n",
       "    </tr>\n",
       "    <tr>\n",
       "      <th>2</th>\n",
       "      <td>3</td>\n",
       "      <td>Charlie Brown</td>\n",
       "      <td>System Administrator</td>\n",
       "      <td>IT</td>\n",
       "      <td>2021-06-30</td>\n",
       "      <td>Linux, Networking, Security, Python</td>\n",
       "    </tr>\n",
       "    <tr>\n",
       "      <th>3</th>\n",
       "      <td>4</td>\n",
       "      <td>David Wilson</td>\n",
       "      <td>Data Scientist</td>\n",
       "      <td>IT</td>\n",
       "      <td>2018-11-12</td>\n",
       "      <td>R, SQL, Machine Learning, Data Visualization, ...</td>\n",
       "    </tr>\n",
       "    <tr>\n",
       "      <th>4</th>\n",
       "      <td>5</td>\n",
       "      <td>Eva Green</td>\n",
       "      <td>DevOps Engineer</td>\n",
       "      <td>IT</td>\n",
       "      <td>2022-02-01</td>\n",
       "      <td>Python, Java, R</td>\n",
       "    </tr>\n",
       "  </tbody>\n",
       "</table>\n",
       "</div>"
      ],
      "text/plain": [
       "   Staff ID           Name              Position Department  Hire Date  \\\n",
       "0         1    Alice Smith            IT Manager         IT 2020-01-15   \n",
       "1         2    Bob Johnson     Software Engineer         IT 2019-03-22   \n",
       "2         3  Charlie Brown  System Administrator         IT 2021-06-30   \n",
       "3         4   David Wilson        Data Scientist         IT 2018-11-12   \n",
       "4         5      Eva Green       DevOps Engineer         IT 2022-02-01   \n",
       "\n",
       "                                           IT Skills  \n",
       "0                            Cloud Computing, Python  \n",
       "1                                    Python, Java, C  \n",
       "2                Linux, Networking, Security, Python  \n",
       "3  R, SQL, Machine Learning, Data Visualization, ...  \n",
       "4                                    Python, Java, R  "
      ]
     },
     "execution_count": 69,
     "metadata": {},
     "output_type": "execute_result"
    }
   ],
   "source": [
    "df['Hire Date'] = pd.to_datetime(df['Hire Date'], format='mixed')\n",
    "df"
   ]
  },
  {
   "cell_type": "code",
   "execution_count": 70,
   "metadata": {},
   "outputs": [
    {
     "data": {
      "text/plain": [
       "array(['Cloud Computing', 'Python', 'Java', 'C', 'Linux', 'Networking',\n",
       "       'Security', 'R', 'SQL', 'Machine Learning', 'Data Visualization'],\n",
       "      dtype=object)"
      ]
     },
     "execution_count": 70,
     "metadata": {},
     "output_type": "execute_result"
    }
   ],
   "source": [
    "skills_list = df['IT Skills'].str.split(', ').explode()\n",
    "skills_list.unique()"
   ]
  },
  {
   "cell_type": "code",
   "execution_count": 71,
   "metadata": {},
   "outputs": [
    {
     "data": {
      "text/plain": [
       "IT Skills\n",
       "Python                5\n",
       "Java                  2\n",
       "R                     2\n",
       "Cloud Computing       1\n",
       "C                     1\n",
       "Linux                 1\n",
       "Networking            1\n",
       "Security              1\n",
       "SQL                   1\n",
       "Machine Learning      1\n",
       "Data Visualization    1\n",
       "Name: count, dtype: int64"
      ]
     },
     "execution_count": 71,
     "metadata": {},
     "output_type": "execute_result"
    }
   ],
   "source": [
    "skills_list.value_counts()"
   ]
  },
  {
   "cell_type": "code",
   "execution_count": 72,
   "metadata": {},
   "outputs": [
    {
     "data": {
      "text/html": [
       "<div>\n",
       "<style scoped>\n",
       "    .dataframe tbody tr th:only-of-type {\n",
       "        vertical-align: middle;\n",
       "    }\n",
       "\n",
       "    .dataframe tbody tr th {\n",
       "        vertical-align: top;\n",
       "    }\n",
       "\n",
       "    .dataframe thead th {\n",
       "        text-align: right;\n",
       "    }\n",
       "</style>\n",
       "<table border=\"1\" class=\"dataframe\">\n",
       "  <thead>\n",
       "    <tr style=\"text-align: right;\">\n",
       "      <th></th>\n",
       "      <th>Staff ID</th>\n",
       "      <th>Name</th>\n",
       "      <th>Position</th>\n",
       "      <th>Department</th>\n",
       "      <th>Hire Date</th>\n",
       "      <th>IT Skills</th>\n",
       "      <th>Has Python Skill</th>\n",
       "    </tr>\n",
       "  </thead>\n",
       "  <tbody>\n",
       "    <tr>\n",
       "      <th>0</th>\n",
       "      <td>1</td>\n",
       "      <td>Alice Smith</td>\n",
       "      <td>IT Manager</td>\n",
       "      <td>IT</td>\n",
       "      <td>2020-01-15</td>\n",
       "      <td>Cloud Computing, Python</td>\n",
       "      <td>True</td>\n",
       "    </tr>\n",
       "    <tr>\n",
       "      <th>1</th>\n",
       "      <td>2</td>\n",
       "      <td>Bob Johnson</td>\n",
       "      <td>Software Engineer</td>\n",
       "      <td>IT</td>\n",
       "      <td>2019-03-22</td>\n",
       "      <td>Python, Java, C</td>\n",
       "      <td>True</td>\n",
       "    </tr>\n",
       "    <tr>\n",
       "      <th>2</th>\n",
       "      <td>3</td>\n",
       "      <td>Charlie Brown</td>\n",
       "      <td>System Administrator</td>\n",
       "      <td>IT</td>\n",
       "      <td>2021-06-30</td>\n",
       "      <td>Linux, Networking, Security, Python</td>\n",
       "      <td>True</td>\n",
       "    </tr>\n",
       "    <tr>\n",
       "      <th>3</th>\n",
       "      <td>4</td>\n",
       "      <td>David Wilson</td>\n",
       "      <td>Data Scientist</td>\n",
       "      <td>IT</td>\n",
       "      <td>2018-11-12</td>\n",
       "      <td>R, SQL, Machine Learning, Data Visualization, ...</td>\n",
       "      <td>True</td>\n",
       "    </tr>\n",
       "    <tr>\n",
       "      <th>4</th>\n",
       "      <td>5</td>\n",
       "      <td>Eva Green</td>\n",
       "      <td>DevOps Engineer</td>\n",
       "      <td>IT</td>\n",
       "      <td>2022-02-01</td>\n",
       "      <td>Python, Java, R</td>\n",
       "      <td>True</td>\n",
       "    </tr>\n",
       "  </tbody>\n",
       "</table>\n",
       "</div>"
      ],
      "text/plain": [
       "   Staff ID           Name              Position Department  Hire Date  \\\n",
       "0         1    Alice Smith            IT Manager         IT 2020-01-15   \n",
       "1         2    Bob Johnson     Software Engineer         IT 2019-03-22   \n",
       "2         3  Charlie Brown  System Administrator         IT 2021-06-30   \n",
       "3         4   David Wilson        Data Scientist         IT 2018-11-12   \n",
       "4         5      Eva Green       DevOps Engineer         IT 2022-02-01   \n",
       "\n",
       "                                           IT Skills  Has Python Skill  \n",
       "0                            Cloud Computing, Python              True  \n",
       "1                                    Python, Java, C              True  \n",
       "2                Linux, Networking, Security, Python              True  \n",
       "3  R, SQL, Machine Learning, Data Visualization, ...              True  \n",
       "4                                    Python, Java, R              True  "
      ]
     },
     "execution_count": 72,
     "metadata": {},
     "output_type": "execute_result"
    }
   ],
   "source": [
    "# checks if 'Python' is present in the \"IT Skills\" column\n",
    "# case=False - not case-senstive; na fill in False\n",
    "df['Has Python Skill'] = df['IT Skills'].str.contains('Python', case=False, na=False)\n",
    "df"
   ]
  },
  {
   "cell_type": "code",
   "execution_count": 73,
   "metadata": {},
   "outputs": [
    {
     "data": {
      "text/html": [
       "<div>\n",
       "<style scoped>\n",
       "    .dataframe tbody tr th:only-of-type {\n",
       "        vertical-align: middle;\n",
       "    }\n",
       "\n",
       "    .dataframe tbody tr th {\n",
       "        vertical-align: top;\n",
       "    }\n",
       "\n",
       "    .dataframe thead th {\n",
       "        text-align: right;\n",
       "    }\n",
       "</style>\n",
       "<table border=\"1\" class=\"dataframe\">\n",
       "  <thead>\n",
       "    <tr style=\"text-align: right;\">\n",
       "      <th></th>\n",
       "      <th>Staff ID</th>\n",
       "      <th>Name</th>\n",
       "      <th>Position</th>\n",
       "      <th>Department</th>\n",
       "      <th>Hire Date</th>\n",
       "      <th>IT Skills</th>\n",
       "      <th>Has Python Skill</th>\n",
       "      <th>Has Java Skill</th>\n",
       "    </tr>\n",
       "  </thead>\n",
       "  <tbody>\n",
       "    <tr>\n",
       "      <th>0</th>\n",
       "      <td>1</td>\n",
       "      <td>Alice Smith</td>\n",
       "      <td>IT Manager</td>\n",
       "      <td>IT</td>\n",
       "      <td>2020-01-15</td>\n",
       "      <td>Cloud Computing, Python</td>\n",
       "      <td>True</td>\n",
       "      <td>False</td>\n",
       "    </tr>\n",
       "    <tr>\n",
       "      <th>1</th>\n",
       "      <td>2</td>\n",
       "      <td>Bob Johnson</td>\n",
       "      <td>Software Engineer</td>\n",
       "      <td>IT</td>\n",
       "      <td>2019-03-22</td>\n",
       "      <td>Python, Java, C</td>\n",
       "      <td>True</td>\n",
       "      <td>True</td>\n",
       "    </tr>\n",
       "    <tr>\n",
       "      <th>2</th>\n",
       "      <td>3</td>\n",
       "      <td>Charlie Brown</td>\n",
       "      <td>System Administrator</td>\n",
       "      <td>IT</td>\n",
       "      <td>2021-06-30</td>\n",
       "      <td>Linux, Networking, Security, Python</td>\n",
       "      <td>True</td>\n",
       "      <td>False</td>\n",
       "    </tr>\n",
       "    <tr>\n",
       "      <th>3</th>\n",
       "      <td>4</td>\n",
       "      <td>David Wilson</td>\n",
       "      <td>Data Scientist</td>\n",
       "      <td>IT</td>\n",
       "      <td>2018-11-12</td>\n",
       "      <td>R, SQL, Machine Learning, Data Visualization, ...</td>\n",
       "      <td>True</td>\n",
       "      <td>False</td>\n",
       "    </tr>\n",
       "    <tr>\n",
       "      <th>4</th>\n",
       "      <td>5</td>\n",
       "      <td>Eva Green</td>\n",
       "      <td>DevOps Engineer</td>\n",
       "      <td>IT</td>\n",
       "      <td>2022-02-01</td>\n",
       "      <td>Python, Java, R</td>\n",
       "      <td>True</td>\n",
       "      <td>True</td>\n",
       "    </tr>\n",
       "  </tbody>\n",
       "</table>\n",
       "</div>"
      ],
      "text/plain": [
       "   Staff ID           Name              Position Department  Hire Date  \\\n",
       "0         1    Alice Smith            IT Manager         IT 2020-01-15   \n",
       "1         2    Bob Johnson     Software Engineer         IT 2019-03-22   \n",
       "2         3  Charlie Brown  System Administrator         IT 2021-06-30   \n",
       "3         4   David Wilson        Data Scientist         IT 2018-11-12   \n",
       "4         5      Eva Green       DevOps Engineer         IT 2022-02-01   \n",
       "\n",
       "                                           IT Skills  Has Python Skill  \\\n",
       "0                            Cloud Computing, Python              True   \n",
       "1                                    Python, Java, C              True   \n",
       "2                Linux, Networking, Security, Python              True   \n",
       "3  R, SQL, Machine Learning, Data Visualization, ...              True   \n",
       "4                                    Python, Java, R              True   \n",
       "\n",
       "   Has Java Skill  \n",
       "0           False  \n",
       "1            True  \n",
       "2           False  \n",
       "3           False  \n",
       "4            True  "
      ]
     },
     "execution_count": 73,
     "metadata": {},
     "output_type": "execute_result"
    }
   ],
   "source": [
    "\n",
    "df['Has Java Skill'] = df['IT Skills'].str.contains('Java', case=False, na=False)\n",
    "df"
   ]
  },
  {
   "cell_type": "code",
   "execution_count": 74,
   "metadata": {},
   "outputs": [
    {
     "data": {
      "text/html": [
       "<div>\n",
       "<style scoped>\n",
       "    .dataframe tbody tr th:only-of-type {\n",
       "        vertical-align: middle;\n",
       "    }\n",
       "\n",
       "    .dataframe tbody tr th {\n",
       "        vertical-align: top;\n",
       "    }\n",
       "\n",
       "    .dataframe thead th {\n",
       "        text-align: right;\n",
       "    }\n",
       "</style>\n",
       "<table border=\"1\" class=\"dataframe\">\n",
       "  <thead>\n",
       "    <tr style=\"text-align: right;\">\n",
       "      <th></th>\n",
       "      <th>Staff ID</th>\n",
       "      <th>Name</th>\n",
       "      <th>Position</th>\n",
       "      <th>Department</th>\n",
       "      <th>Hire Date</th>\n",
       "      <th>IT Skills</th>\n",
       "      <th>Has Python Skill</th>\n",
       "      <th>Has Java Skill</th>\n",
       "    </tr>\n",
       "  </thead>\n",
       "  <tbody>\n",
       "    <tr>\n",
       "      <th>0</th>\n",
       "      <td>1</td>\n",
       "      <td>Alice Smith</td>\n",
       "      <td>IT Manager</td>\n",
       "      <td>IT</td>\n",
       "      <td>2020-01-15</td>\n",
       "      <td>[Cloud Computing,  Python]</td>\n",
       "      <td>True</td>\n",
       "      <td>False</td>\n",
       "    </tr>\n",
       "    <tr>\n",
       "      <th>1</th>\n",
       "      <td>2</td>\n",
       "      <td>Bob Johnson</td>\n",
       "      <td>Software Engineer</td>\n",
       "      <td>IT</td>\n",
       "      <td>2019-03-22</td>\n",
       "      <td>[Python,  Java,  C]</td>\n",
       "      <td>True</td>\n",
       "      <td>True</td>\n",
       "    </tr>\n",
       "    <tr>\n",
       "      <th>2</th>\n",
       "      <td>3</td>\n",
       "      <td>Charlie Brown</td>\n",
       "      <td>System Administrator</td>\n",
       "      <td>IT</td>\n",
       "      <td>2021-06-30</td>\n",
       "      <td>[Linux,  Networking,  Security,  Python]</td>\n",
       "      <td>True</td>\n",
       "      <td>False</td>\n",
       "    </tr>\n",
       "    <tr>\n",
       "      <th>3</th>\n",
       "      <td>4</td>\n",
       "      <td>David Wilson</td>\n",
       "      <td>Data Scientist</td>\n",
       "      <td>IT</td>\n",
       "      <td>2018-11-12</td>\n",
       "      <td>[R,  SQL,  Machine Learning,  Data Visualizati...</td>\n",
       "      <td>True</td>\n",
       "      <td>False</td>\n",
       "    </tr>\n",
       "    <tr>\n",
       "      <th>4</th>\n",
       "      <td>5</td>\n",
       "      <td>Eva Green</td>\n",
       "      <td>DevOps Engineer</td>\n",
       "      <td>IT</td>\n",
       "      <td>2022-02-01</td>\n",
       "      <td>[Python,  Java,  R]</td>\n",
       "      <td>True</td>\n",
       "      <td>True</td>\n",
       "    </tr>\n",
       "  </tbody>\n",
       "</table>\n",
       "</div>"
      ],
      "text/plain": [
       "   Staff ID           Name              Position Department  Hire Date  \\\n",
       "0         1    Alice Smith            IT Manager         IT 2020-01-15   \n",
       "1         2    Bob Johnson     Software Engineer         IT 2019-03-22   \n",
       "2         3  Charlie Brown  System Administrator         IT 2021-06-30   \n",
       "3         4   David Wilson        Data Scientist         IT 2018-11-12   \n",
       "4         5      Eva Green       DevOps Engineer         IT 2022-02-01   \n",
       "\n",
       "                                           IT Skills  Has Python Skill  \\\n",
       "0                         [Cloud Computing,  Python]              True   \n",
       "1                                [Python,  Java,  C]              True   \n",
       "2           [Linux,  Networking,  Security,  Python]              True   \n",
       "3  [R,  SQL,  Machine Learning,  Data Visualizati...              True   \n",
       "4                                [Python,  Java,  R]              True   \n",
       "\n",
       "   Has Java Skill  \n",
       "0           False  \n",
       "1            True  \n",
       "2           False  \n",
       "3           False  \n",
       "4            True  "
      ]
     },
     "execution_count": 74,
     "metadata": {},
     "output_type": "execute_result"
    }
   ],
   "source": [
    "# Split the 'IT Skills' column into separate categories\n",
    "df['IT Skills'] = df['IT Skills'].str.split(',')\n",
    "df"
   ]
  },
  {
   "cell_type": "code",
   "execution_count": 86,
   "metadata": {},
   "outputs": [
    {
     "data": {
      "text/html": [
       "<div>\n",
       "<style scoped>\n",
       "    .dataframe tbody tr th:only-of-type {\n",
       "        vertical-align: middle;\n",
       "    }\n",
       "\n",
       "    .dataframe tbody tr th {\n",
       "        vertical-align: top;\n",
       "    }\n",
       "\n",
       "    .dataframe thead th {\n",
       "        text-align: right;\n",
       "    }\n",
       "</style>\n",
       "<table border=\"1\" class=\"dataframe\">\n",
       "  <thead>\n",
       "    <tr style=\"text-align: right;\">\n",
       "      <th></th>\n",
       "      <th>Staff ID</th>\n",
       "      <th>Name</th>\n",
       "      <th>Position</th>\n",
       "      <th>Department</th>\n",
       "      <th>Hire Date</th>\n",
       "      <th>IT Skills</th>\n",
       "      <th>Has Python Skill</th>\n",
       "      <th>Has Java Skill</th>\n",
       "    </tr>\n",
       "  </thead>\n",
       "  <tbody>\n",
       "    <tr>\n",
       "      <th>0</th>\n",
       "      <td>1</td>\n",
       "      <td>Alice Smith</td>\n",
       "      <td>IT Manager</td>\n",
       "      <td>IT</td>\n",
       "      <td>2020-01-15</td>\n",
       "      <td>Cloud Computing</td>\n",
       "      <td>True</td>\n",
       "      <td>False</td>\n",
       "    </tr>\n",
       "    <tr>\n",
       "      <th>0</th>\n",
       "      <td>1</td>\n",
       "      <td>Alice Smith</td>\n",
       "      <td>IT Manager</td>\n",
       "      <td>IT</td>\n",
       "      <td>2020-01-15</td>\n",
       "      <td>Python</td>\n",
       "      <td>True</td>\n",
       "      <td>False</td>\n",
       "    </tr>\n",
       "    <tr>\n",
       "      <th>1</th>\n",
       "      <td>2</td>\n",
       "      <td>Bob Johnson</td>\n",
       "      <td>Software Engineer</td>\n",
       "      <td>IT</td>\n",
       "      <td>2019-03-22</td>\n",
       "      <td>Python</td>\n",
       "      <td>True</td>\n",
       "      <td>True</td>\n",
       "    </tr>\n",
       "    <tr>\n",
       "      <th>1</th>\n",
       "      <td>2</td>\n",
       "      <td>Bob Johnson</td>\n",
       "      <td>Software Engineer</td>\n",
       "      <td>IT</td>\n",
       "      <td>2019-03-22</td>\n",
       "      <td>Java</td>\n",
       "      <td>True</td>\n",
       "      <td>True</td>\n",
       "    </tr>\n",
       "    <tr>\n",
       "      <th>1</th>\n",
       "      <td>2</td>\n",
       "      <td>Bob Johnson</td>\n",
       "      <td>Software Engineer</td>\n",
       "      <td>IT</td>\n",
       "      <td>2019-03-22</td>\n",
       "      <td>C</td>\n",
       "      <td>True</td>\n",
       "      <td>True</td>\n",
       "    </tr>\n",
       "    <tr>\n",
       "      <th>2</th>\n",
       "      <td>3</td>\n",
       "      <td>Charlie Brown</td>\n",
       "      <td>System Administrator</td>\n",
       "      <td>IT</td>\n",
       "      <td>2021-06-30</td>\n",
       "      <td>Linux</td>\n",
       "      <td>True</td>\n",
       "      <td>False</td>\n",
       "    </tr>\n",
       "    <tr>\n",
       "      <th>2</th>\n",
       "      <td>3</td>\n",
       "      <td>Charlie Brown</td>\n",
       "      <td>System Administrator</td>\n",
       "      <td>IT</td>\n",
       "      <td>2021-06-30</td>\n",
       "      <td>Networking</td>\n",
       "      <td>True</td>\n",
       "      <td>False</td>\n",
       "    </tr>\n",
       "    <tr>\n",
       "      <th>2</th>\n",
       "      <td>3</td>\n",
       "      <td>Charlie Brown</td>\n",
       "      <td>System Administrator</td>\n",
       "      <td>IT</td>\n",
       "      <td>2021-06-30</td>\n",
       "      <td>Security</td>\n",
       "      <td>True</td>\n",
       "      <td>False</td>\n",
       "    </tr>\n",
       "    <tr>\n",
       "      <th>2</th>\n",
       "      <td>3</td>\n",
       "      <td>Charlie Brown</td>\n",
       "      <td>System Administrator</td>\n",
       "      <td>IT</td>\n",
       "      <td>2021-06-30</td>\n",
       "      <td>Python</td>\n",
       "      <td>True</td>\n",
       "      <td>False</td>\n",
       "    </tr>\n",
       "    <tr>\n",
       "      <th>3</th>\n",
       "      <td>4</td>\n",
       "      <td>David Wilson</td>\n",
       "      <td>Data Scientist</td>\n",
       "      <td>IT</td>\n",
       "      <td>2018-11-12</td>\n",
       "      <td>R</td>\n",
       "      <td>True</td>\n",
       "      <td>False</td>\n",
       "    </tr>\n",
       "    <tr>\n",
       "      <th>3</th>\n",
       "      <td>4</td>\n",
       "      <td>David Wilson</td>\n",
       "      <td>Data Scientist</td>\n",
       "      <td>IT</td>\n",
       "      <td>2018-11-12</td>\n",
       "      <td>SQL</td>\n",
       "      <td>True</td>\n",
       "      <td>False</td>\n",
       "    </tr>\n",
       "    <tr>\n",
       "      <th>3</th>\n",
       "      <td>4</td>\n",
       "      <td>David Wilson</td>\n",
       "      <td>Data Scientist</td>\n",
       "      <td>IT</td>\n",
       "      <td>2018-11-12</td>\n",
       "      <td>Machine Learning</td>\n",
       "      <td>True</td>\n",
       "      <td>False</td>\n",
       "    </tr>\n",
       "    <tr>\n",
       "      <th>3</th>\n",
       "      <td>4</td>\n",
       "      <td>David Wilson</td>\n",
       "      <td>Data Scientist</td>\n",
       "      <td>IT</td>\n",
       "      <td>2018-11-12</td>\n",
       "      <td>Data Visualization</td>\n",
       "      <td>True</td>\n",
       "      <td>False</td>\n",
       "    </tr>\n",
       "    <tr>\n",
       "      <th>3</th>\n",
       "      <td>4</td>\n",
       "      <td>David Wilson</td>\n",
       "      <td>Data Scientist</td>\n",
       "      <td>IT</td>\n",
       "      <td>2018-11-12</td>\n",
       "      <td>Python</td>\n",
       "      <td>True</td>\n",
       "      <td>False</td>\n",
       "    </tr>\n",
       "    <tr>\n",
       "      <th>4</th>\n",
       "      <td>5</td>\n",
       "      <td>Eva Green</td>\n",
       "      <td>DevOps Engineer</td>\n",
       "      <td>IT</td>\n",
       "      <td>2022-02-01</td>\n",
       "      <td>Python</td>\n",
       "      <td>True</td>\n",
       "      <td>True</td>\n",
       "    </tr>\n",
       "    <tr>\n",
       "      <th>4</th>\n",
       "      <td>5</td>\n",
       "      <td>Eva Green</td>\n",
       "      <td>DevOps Engineer</td>\n",
       "      <td>IT</td>\n",
       "      <td>2022-02-01</td>\n",
       "      <td>Java</td>\n",
       "      <td>True</td>\n",
       "      <td>True</td>\n",
       "    </tr>\n",
       "    <tr>\n",
       "      <th>4</th>\n",
       "      <td>5</td>\n",
       "      <td>Eva Green</td>\n",
       "      <td>DevOps Engineer</td>\n",
       "      <td>IT</td>\n",
       "      <td>2022-02-01</td>\n",
       "      <td>R</td>\n",
       "      <td>True</td>\n",
       "      <td>True</td>\n",
       "    </tr>\n",
       "  </tbody>\n",
       "</table>\n",
       "</div>"
      ],
      "text/plain": [
       "   Staff ID           Name              Position Department  Hire Date  \\\n",
       "0         1    Alice Smith            IT Manager         IT 2020-01-15   \n",
       "0         1    Alice Smith            IT Manager         IT 2020-01-15   \n",
       "1         2    Bob Johnson     Software Engineer         IT 2019-03-22   \n",
       "1         2    Bob Johnson     Software Engineer         IT 2019-03-22   \n",
       "1         2    Bob Johnson     Software Engineer         IT 2019-03-22   \n",
       "2         3  Charlie Brown  System Administrator         IT 2021-06-30   \n",
       "2         3  Charlie Brown  System Administrator         IT 2021-06-30   \n",
       "2         3  Charlie Brown  System Administrator         IT 2021-06-30   \n",
       "2         3  Charlie Brown  System Administrator         IT 2021-06-30   \n",
       "3         4   David Wilson        Data Scientist         IT 2018-11-12   \n",
       "3         4   David Wilson        Data Scientist         IT 2018-11-12   \n",
       "3         4   David Wilson        Data Scientist         IT 2018-11-12   \n",
       "3         4   David Wilson        Data Scientist         IT 2018-11-12   \n",
       "3         4   David Wilson        Data Scientist         IT 2018-11-12   \n",
       "4         5      Eva Green       DevOps Engineer         IT 2022-02-01   \n",
       "4         5      Eva Green       DevOps Engineer         IT 2022-02-01   \n",
       "4         5      Eva Green       DevOps Engineer         IT 2022-02-01   \n",
       "\n",
       "            IT Skills  Has Python Skill  Has Java Skill  \n",
       "0     Cloud Computing              True           False  \n",
       "0              Python              True           False  \n",
       "1              Python              True            True  \n",
       "1                Java              True            True  \n",
       "1                   C              True            True  \n",
       "2               Linux              True           False  \n",
       "2          Networking              True           False  \n",
       "2            Security              True           False  \n",
       "2              Python              True           False  \n",
       "3                   R              True           False  \n",
       "3                 SQL              True           False  \n",
       "3    Machine Learning              True           False  \n",
       "3  Data Visualization              True           False  \n",
       "3              Python              True           False  \n",
       "4              Python              True            True  \n",
       "4                Java              True            True  \n",
       "4                   R              True            True  "
      ]
     },
     "execution_count": 86,
     "metadata": {},
     "output_type": "execute_result"
    }
   ],
   "source": [
    "# Explode the lists into separate rows\n",
    "exploded_skills = df.explode('IT Skills')\n",
    "\n",
    "# Strip whitespace\n",
    "exploded_skills['IT Skills'] = exploded_skills['IT Skills'].str.strip()\n",
    "exploded_skills"
   ]
  },
  {
   "cell_type": "code",
   "execution_count": null,
   "metadata": {
    "scrolled": true
   },
   "outputs": [],
   "source": [
    "df"
   ]
  },
  {
   "cell_type": "code",
   "execution_count": null,
   "metadata": {},
   "outputs": [],
   "source": []
  }
 ],
 "metadata": {
  "kernelspec": {
   "display_name": "Python 3",
   "language": "python",
   "name": "python3"
  },
  "language_info": {
   "codemirror_mode": {
    "name": "ipython",
    "version": 3
   },
   "file_extension": ".py",
   "mimetype": "text/x-python",
   "name": "python",
   "nbconvert_exporter": "python",
   "pygments_lexer": "ipython3",
   "version": "3.12.8"
  }
 },
 "nbformat": 4,
 "nbformat_minor": 4
}
