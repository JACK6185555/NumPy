{
 "cells": [
  {
   "cell_type": "code",
   "execution_count": 1,
   "metadata": {},
   "outputs": [],
   "source": [
    "import pandas as pd\n",
    "from pandas import Series"
   ]
  },
  {
   "cell_type": "code",
   "execution_count": 3,
   "metadata": {},
   "outputs": [
    {
     "name": "stdout",
     "output_type": "stream",
     "text": [
      "0    2\n",
      "1    4\n",
      "2    5\n",
      "3    8\n",
      "dtype: int64 \n",
      "\n",
      "[2 4 5 8] \n",
      "\n",
      "RangeIndex(start=0, stop=4, step=1) \n",
      "\n"
     ]
    }
   ],
   "source": [
    "obj=pd.Series([2,4,5,8])\n",
    "\n",
    "print(obj,'\\n')\n",
    "print(obj.values,'\\n')\n",
    "print(obj.index,'\\n')"
   ]
  },
  {
   "cell_type": "code",
   "execution_count": 4,
   "metadata": {},
   "outputs": [
    {
     "name": "stdout",
     "output_type": "stream",
     "text": [
      "dog    2\n",
      "boy    6\n",
      "a      2\n",
      "b      8\n",
      "dtype: int64 \n",
      "\n",
      "Index(['dog', 'boy', 'a', 'b'], dtype='object') \n",
      "\n",
      "2 \n",
      "\n"
     ]
    }
   ],
   "source": [
    "obj2=pd.Series([2,6,2,8],index=['dog','boy','a','b'])\n",
    "\n",
    "print(obj2,'\\n')\n",
    "print(obj2.index,'\\n')\n",
    "print(obj2['a'],'\\n')"
   ]
  },
  {
   "cell_type": "code",
   "execution_count": 6,
   "metadata": {},
   "outputs": [
    {
     "name": "stdout",
     "output_type": "stream",
     "text": [
      "apple     30\n",
      "orange    75\n",
      "lemon     25\n",
      "melon     40\n",
      "dtype: int64 \n",
      "\n",
      "banana     NaN\n",
      "apple     30.0\n",
      "lemon     25.0\n",
      "kiwi       NaN\n",
      "dtype: float64 \n",
      "\n"
     ]
    }
   ],
   "source": [
    "# Series\n",
    "# Arithmetic operation\n",
    "\n",
    "first_price=pd.Series({'apple':30,'orange':75,'lemon':25,'melon':40})\n",
    "print(first_price,'\\n')\n",
    "\n",
    "fruit_label=['banana','apple','lemon','kiwi']\n",
    "obj4=pd.Series(first_price,index=fruit_label)\n",
    "print(obj4,'\\n')"
   ]
  },
  {
   "cell_type": "code",
   "execution_count": 27,
   "metadata": {},
   "outputs": [
    {
     "name": "stdout",
     "output_type": "stream",
     "text": [
      "a    0.0\n",
      "b    1.0\n",
      "c    2.0\n",
      "d    3.0\n",
      "dtype: float64 \n",
      "\n",
      "1.0 \n",
      "\n",
      "0.0 \n",
      "\n",
      "b    1.0\n",
      "c    2.0\n",
      "d    3.0\n",
      "dtype: float64 \n",
      "\n",
      "b    1.0\n",
      "c    2.0\n",
      "d    3.0\n",
      "dtype: float64 \n",
      "\n",
      "b    1.0\n",
      "d    3.0\n",
      "dtype: float64 \n",
      "\n",
      "a    0.0\n",
      "b    1.0\n",
      "dtype: float64 \n",
      "\n",
      "b    1.0\n",
      "c    2.0\n",
      "dtype: float64 \n",
      "\n",
      "a    0.0\n",
      "b    5.0\n",
      "c    5.0\n",
      "d    3.0\n",
      "dtype: float64 \n",
      "\n"
     ]
    },
    {
     "name": "stderr",
     "output_type": "stream",
     "text": [
      "C:\\Users\\kalok\\AppData\\Local\\Temp\\ipykernel_22048\\1444924256.py:11: FutureWarning: Series.__getitem__ treating keys as positions is deprecated. In a future version, integer keys will always be treated as labels (consistent with DataFrame behavior). To access a value by position, use `ser.iloc[pos]`\n",
      "  print(obj[0],'\\n')\n",
      "C:\\Users\\kalok\\AppData\\Local\\Temp\\ipykernel_22048\\1444924256.py:17: FutureWarning: Series.__getitem__ treating keys as positions is deprecated. In a future version, integer keys will always be treated as labels (consistent with DataFrame behavior). To access a value by position, use `ser.iloc[pos]`\n",
      "  print(obj[[1,3]],'\\n')\n"
     ]
    }
   ],
   "source": [
    "# Series - Indexing\n",
    "\n",
    "import numpy as np\n",
    "\n",
    "obj = pd.Series(np.arange(4.), index=['a', 'b', 'c', 'd'])\n",
    "\n",
    "print(obj,'\\n')\n",
    "\n",
    "print(obj['b'],'\\n')\n",
    "\n",
    "print(obj[0],'\\n')\n",
    "\n",
    "print(obj[1:4],'\\n')\n",
    "\n",
    "print(obj[['b','c','d']],'\\n')\n",
    "\n",
    "print(obj[[1,3]],'\\n')\n",
    "\n",
    "print(obj[obj<2],'\\n')\n",
    "\n",
    "print(obj['b':'c'],'\\n')\n",
    "\n",
    "obj[['b','c']]= 5\n",
    "print(obj,'\\n')"
   ]
  },
  {
   "cell_type": "markdown",
   "metadata": {},
   "source": [
    "### Data Structure -- DataFrame"
   ]
  },
  {
   "cell_type": "code",
   "execution_count": 33,
   "metadata": {},
   "outputs": [
    {
     "name": "stdout",
     "output_type": "stream",
     "text": [
      "             item  quantity  price\n",
      "0        facemask         0  280.0\n",
      "1    toilet paper      1000   30.0\n",
      "2  hand sanitizer       580   25.0\n",
      "3          dettol        10   30.5\n",
      "4          bleach         5    8.9\n",
      "5           glove       200   32.5 \n",
      "\n",
      "<bound method NDFrame.head of              item  quantity  price\n",
      "0        facemask         0  280.0\n",
      "1    toilet paper      1000   30.0\n",
      "2  hand sanitizer       580   25.0\n",
      "3          dettol        10   30.5\n",
      "4          bleach         5    8.9\n",
      "5           glove       200   32.5> \n",
      "\n",
      "18 \n",
      "\n",
      "item\n",
      "facemask          1\n",
      "toilet paper      1\n",
      "hand sanitizer    1\n",
      "dettol            1\n",
      "bleach            1\n",
      "glove             1\n",
      "Name: count, dtype: int64\n"
     ]
    }
   ],
   "source": [
    "#DataFrame\n",
    "\n",
    "from pandas import DataFrame\n",
    "data = {'item': ['facemask', 'toilet paper', 'hand sanitizer', 'dettol', 'bleach', 'glove'],\n",
    "'quantity': [0, 1000, 580, 10, 5, 200],\n",
    "'price': [280, 30, 25, 30.5, 8.9, 32.5]}\n",
    "\n",
    "df=pd.DataFrame(data)\n",
    "print(df,'\\n')\n",
    "print(df.head,'\\n')\n",
    "print(df.size,'\\n')\n",
    "print(df['item'].value_counts(dropna=True))"
   ]
  },
  {
   "cell_type": "code",
   "execution_count": 34,
   "metadata": {},
   "outputs": [
    {
     "data": {
      "text/html": [
       "<div>\n",
       "<style scoped>\n",
       "    .dataframe tbody tr th:only-of-type {\n",
       "        vertical-align: middle;\n",
       "    }\n",
       "\n",
       "    .dataframe tbody tr th {\n",
       "        vertical-align: top;\n",
       "    }\n",
       "\n",
       "    .dataframe thead th {\n",
       "        text-align: right;\n",
       "    }\n",
       "</style>\n",
       "<table border=\"1\" class=\"dataframe\">\n",
       "  <thead>\n",
       "    <tr style=\"text-align: right;\">\n",
       "      <th></th>\n",
       "      <th>item</th>\n",
       "      <th>price</th>\n",
       "      <th>quantity</th>\n",
       "      <th>shop</th>\n",
       "    </tr>\n",
       "  </thead>\n",
       "  <tbody>\n",
       "    <tr>\n",
       "      <th>one</th>\n",
       "      <td>facemask</td>\n",
       "      <td>280.0</td>\n",
       "      <td>0</td>\n",
       "      <td>NaN</td>\n",
       "    </tr>\n",
       "    <tr>\n",
       "      <th>two</th>\n",
       "      <td>toilet paper</td>\n",
       "      <td>30.0</td>\n",
       "      <td>1000</td>\n",
       "      <td>NaN</td>\n",
       "    </tr>\n",
       "    <tr>\n",
       "      <th>four</th>\n",
       "      <td>hand sanitizer</td>\n",
       "      <td>25.0</td>\n",
       "      <td>580</td>\n",
       "      <td>NaN</td>\n",
       "    </tr>\n",
       "    <tr>\n",
       "      <th>three</th>\n",
       "      <td>dettol</td>\n",
       "      <td>30.5</td>\n",
       "      <td>10</td>\n",
       "      <td>NaN</td>\n",
       "    </tr>\n",
       "    <tr>\n",
       "      <th>five</th>\n",
       "      <td>bleach</td>\n",
       "      <td>8.9</td>\n",
       "      <td>5</td>\n",
       "      <td>NaN</td>\n",
       "    </tr>\n",
       "    <tr>\n",
       "      <th>six</th>\n",
       "      <td>glove</td>\n",
       "      <td>32.5</td>\n",
       "      <td>200</td>\n",
       "      <td>NaN</td>\n",
       "    </tr>\n",
       "  </tbody>\n",
       "</table>\n",
       "</div>"
      ],
      "text/plain": [
       "                 item  price  quantity shop\n",
       "one          facemask  280.0         0  NaN\n",
       "two      toilet paper   30.0      1000  NaN\n",
       "four   hand sanitizer   25.0       580  NaN\n",
       "three          dettol   30.5        10  NaN\n",
       "five           bleach    8.9         5  NaN\n",
       "six             glove   32.5       200  NaN"
      ]
     },
     "execution_count": 34,
     "metadata": {},
     "output_type": "execute_result"
    }
   ],
   "source": [
    "frame2 = pd.DataFrame(data, \n",
    "                      columns=['item', 'price', 'quantity', 'shop'],\n",
    "                      index=['one', 'two', 'four', 'three','five', 'six'])\n",
    "\n",
    "frame2"
   ]
  },
  {
   "cell_type": "code",
   "execution_count": 45,
   "metadata": {},
   "outputs": [
    {
     "name": "stdout",
     "output_type": "stream",
     "text": [
      "one            facemask\n",
      "two        toilet paper\n",
      "four     hand sanitizer\n",
      "three            dettol\n",
      "five             bleach\n",
      "six               glove\n",
      "Name: item, dtype: object \n",
      "\n",
      "one         0\n",
      "two      1000\n",
      "four      580\n",
      "three      10\n",
      "five        5\n",
      "six       200\n",
      "Name: quantity, dtype: int64 \n",
      "\n",
      "item          dettol\n",
      "price           30.5\n",
      "quantity          10\n",
      "shop        hktvmall\n",
      "Name: three, dtype: object \n",
      "\n",
      "quantity          10\n",
      "shop        hktvmall\n",
      "Name: three, dtype: object \n",
      "\n"
     ]
    }
   ],
   "source": [
    "# DataFrame - Access a particular row / column\n",
    "print(frame2['item'],'\\n') #Get column of item\n",
    "print(frame2.quantity,'\\n')\n",
    "\n",
    "print(frame2.loc['three'],'\\n')\n",
    "\n",
    "frame2['shop']='hktvmall'\n",
    "\n",
    "print(frame2.loc['three',['quantity','shop']],'\\n')"
   ]
  },
  {
   "cell_type": "code",
   "execution_count": 48,
   "metadata": {},
   "outputs": [
    {
     "name": "stdout",
     "output_type": "stream",
     "text": [
      "                 item  price  quantity      shop\n",
      "one          facemask  280.0         0  hktvmall\n",
      "two      toilet paper   30.0      1000  hktvmall\n",
      "four   hand sanitizer   25.0       580  hktvmall\n",
      "three          dettol   30.5        10  hktvmall\n",
      "five           bleach    8.9         5  hktvmall\n",
      "six             glove   32.5       200  hktvmall \n",
      "\n",
      "25.0 \n",
      "\n",
      "5\n"
     ]
    }
   ],
   "source": [
    "#DataFrame - Get a particular entry\n",
    "print(frame2,'\\n')\n",
    "print(frame2.iat[2,1],'\\n') #index\n",
    "print(frame2.at['five','quantity'])"
   ]
  },
  {
   "cell_type": "code",
   "execution_count": null,
   "metadata": {},
   "outputs": [],
   "source": [
    "# Categorical\n",
    "\n",
    "categories = pd.Categorical(['class1', 'class2', 'class3', 'class1', 'class2', 'class4'])\n",
    "categories"
   ]
  },
  {
   "cell_type": "markdown",
   "metadata": {},
   "source": [
    "### Sorting and Ranking"
   ]
  },
  {
   "cell_type": "code",
   "execution_count": 55,
   "metadata": {},
   "outputs": [
    {
     "name": "stdout",
     "output_type": "stream",
     "text": [
      "0    7\n",
      "1   -5\n",
      "2    7\n",
      "3    4\n",
      "4    2\n",
      "5    0\n",
      "6    4\n",
      "dtype: int64 \n",
      "\n",
      "1   -5\n",
      "5    0\n",
      "4    2\n",
      "3    4\n",
      "6    4\n",
      "0    7\n",
      "2    7\n",
      "dtype: int64 \n",
      "\n",
      "0    6.5\n",
      "1    1.0\n",
      "2    6.5\n",
      "3    4.5\n",
      "4    3.0\n",
      "5    2.0\n",
      "6    4.5\n",
      "dtype: float64 \n",
      "\n",
      "0    6.0\n",
      "1    1.0\n",
      "2    6.0\n",
      "3    4.0\n",
      "4    3.0\n",
      "5    2.0\n",
      "6    4.0\n",
      "dtype: float64 \n",
      "\n"
     ]
    }
   ],
   "source": [
    "obj = pd.Series([7,-5,7,4,2,0,4])\n",
    "print(obj,'\\n')\n",
    "\n",
    "print(obj.sort_values(),'\\n')\n",
    "print(obj.rank(),'\\n')\n",
    "\n",
    "print(obj.rank(method='min'),'\\n')\n",
    "print(obj.rank(ascending=False, method='max'),'\\n')"
   ]
  },
  {
   "cell_type": "code",
   "execution_count": 57,
   "metadata": {},
   "outputs": [
    {
     "name": "stdout",
     "output_type": "stream",
     "text": [
      "                 item  price  quantity      shop\n",
      "five           bleach    8.9         5  hktvmall\n",
      "three          dettol   30.5        10  hktvmall\n",
      "one          facemask  280.0         0  hktvmall\n",
      "six             glove   32.5       200  hktvmall\n",
      "four   hand sanitizer   25.0       580  hktvmall\n",
      "two      toilet paper   30.0      1000  hktvmall\n"
     ]
    }
   ],
   "source": [
    "(frame2.sort_values(by='item',inplace=True))\n",
    "print(frame2)"
   ]
  },
  {
   "cell_type": "code",
   "execution_count": 59,
   "metadata": {},
   "outputs": [
    {
     "name": "stdout",
     "output_type": "stream",
     "text": [
      "['c' 'a' 'd' 'b']\n",
      "['a' 'b' 'c' 'd']\n"
     ]
    }
   ],
   "source": [
    "# Unique Values, Value Counts, and Membership\n",
    "\n",
    "obj = pd.Series(['c', 'a', 'd', 'a', 'a', 'b', 'b', 'c', 'c'])\n",
    "uqique=obj.unique()\n",
    "print(uqique)\n",
    "uqique.sort()\n",
    "print(uqique)"
   ]
  },
  {
   "cell_type": "code",
   "execution_count": 66,
   "metadata": {},
   "outputs": [
    {
     "name": "stdout",
     "output_type": "stream",
     "text": [
      "    one  two\n",
      "a  1.40  NaN\n",
      "b  7.10 -4.5\n",
      "c   NaN  NaN\n",
      "d  0.75 -1.3 \n",
      "\n",
      "one    9.25\n",
      "two   -5.80\n",
      "dtype: float64 \n",
      "\n",
      "one    9.25\n",
      "two   -5.80\n",
      "dtype: float64\n",
      "            one       two\n",
      "count  3.000000  2.000000\n",
      "mean   3.083333 -2.900000\n",
      "std    3.493685  2.262742\n",
      "min    0.750000 -4.500000\n",
      "25%    1.075000 -3.700000\n",
      "50%    1.400000 -2.900000\n",
      "75%    4.250000 -2.100000\n",
      "max    7.100000 -1.300000\n"
     ]
    }
   ],
   "source": [
    "# Summarizing and Computing Descriptive Statistics \n",
    "df = pd.DataFrame([[1.4, np.nan], [7.1, -4.5],\n",
    "                   [np.nan, np.nan], [0.75, -1.3]],\n",
    "                  index=['a', 'b', 'c', 'd'],\n",
    "                  columns=['one', 'two'])\n",
    "print(df,'\\n')\n",
    "print(df.sum(),'\\n')\n",
    "print(df.sum(axis=0))\n",
    "print(df.describe())"
   ]
  },
  {
   "cell_type": "markdown",
   "metadata": {},
   "source": [
    "### Basic data visualization with pandas"
   ]
  },
  {
   "cell_type": "code",
   "execution_count": null,
   "metadata": {},
   "outputs": [],
   "source": [
    "arr = pd.Series([1,2,4,5,7,8,6,7,8])\n",
    "arr.plot()"
   ]
  }
 ],
 "metadata": {
  "kernelspec": {
   "display_name": "Python 3",
   "language": "python",
   "name": "python3"
  },
  "language_info": {
   "codemirror_mode": {
    "name": "ipython",
    "version": 3
   },
   "file_extension": ".py",
   "mimetype": "text/x-python",
   "name": "python",
   "nbconvert_exporter": "python",
   "pygments_lexer": "ipython3",
   "version": "3.12.8"
  }
 },
 "nbformat": 4,
 "nbformat_minor": 2
}
