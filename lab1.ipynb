{
 "cells": [
  {
   "cell_type": "markdown",
   "metadata": {},
   "source": [
    "## CCIT4092 Data Visualization\n",
    "## 01-Lab Numpy, Pandas"
   ]
  },
  {
   "cell_type": "markdown",
   "metadata": {},
   "source": [
    "#### Instructions ####\n",
    "<ul>\n",
    "    <li><i>For each task, there are several subquestions that you need to complete. Please ensure that you print the intermediate results after answering each subquestion.</i></li>\n",
    "    <li><i>Add comments and documentation when appropriate.</i></li>\n",
    "    <li><i>You must write your name and student ID in this file.</i></li>\n",
    "    <li><i>You are expected to submit the work in .ipynb format.</i></li>\n",
    "    <li><i>You are required to show your work <b>step by step</b>. Use at least one Jupyter Notebook cell for each part of your answer. </i></li>\n",
    "</ul>    "
   ]
  },
  {
   "cell_type": "markdown",
   "metadata": {},
   "source": [
    "#### Your Name:\n",
    "#### Your Student ID:"
   ]
  },
  {
   "cell_type": "markdown",
   "metadata": {},
   "source": [
    "<p>You are going to work on the \"Rice (Cammeo and Osmancik) Dataset (Rice_Cammeo_Osmancik.arff),\" which can be downloaded at: <a href=\"https://archive.ics.uci.edu/dataset/545/rice+cammeo+and+osmancik\">https://archive.ics.uci.edu/dataset/545/rice+cammeo+and+osmancik</a>. You may need to review the dataset information before answering the following questions.</p>"
   ]
  },
  {
   "cell_type": "markdown",
   "metadata": {},
   "source": [
    "#### Task 1\n",
    "<ol>\n",
    "    <li>Load the data into a DataFrame named <em>df</em>.</li>\n",
    "    <li>Display the summary statistics of the <code>DataFrame</code> <em>df</em>.</li>\n",
    "    <li>Extract the column 'Perimeter' and convert it to <code>numpy</code>. Store the result in <em>data_perimeter</em>.</li>\n",
    "    <li>Print the mean of <em>data_perimeter</em>.</li>\n",
    "    <li>Print the variance of <em>data_perimeter</em>.</li>\n",
    "    <li>Print the 5th and 95th percentiles of <em>data_perimeter</em>.</li>\n",
    "    <li>Print the median of <em>data_perimeter</em>.</li>\n",
    "    <li>Print the index and the value of the sample with the minimum <em>data_perimeter</em>.</li>\n",
    "</ol>\n",
    "\n",
    "<p><i>Note: It is assumed that the Rice_Cammeo_Osmancik.arff file is in the same folder as the Jupyter Notebook.</i>\n",
    "<p>    \n",
    "<i>Hint: Since the dataset is in ARFF format, you can use the <code>arff.loadarff()</code> function provided by <code>scipy.io</code> to load the file and convert it to a DataFrame named <em>df</em>.</i></p>"
   ]
  },
  {
   "cell_type": "code",
   "execution_count": 1,
   "metadata": {
    "scrolled": true
   },
   "outputs": [
    {
     "data": {
      "text/html": [
       "<div>\n",
       "<style scoped>\n",
       "    .dataframe tbody tr th:only-of-type {\n",
       "        vertical-align: middle;\n",
       "    }\n",
       "\n",
       "    .dataframe tbody tr th {\n",
       "        vertical-align: top;\n",
       "    }\n",
       "\n",
       "    .dataframe thead th {\n",
       "        text-align: right;\n",
       "    }\n",
       "</style>\n",
       "<table border=\"1\" class=\"dataframe\">\n",
       "  <thead>\n",
       "    <tr style=\"text-align: right;\">\n",
       "      <th></th>\n",
       "      <th>Area</th>\n",
       "      <th>Perimeter</th>\n",
       "      <th>Major_Axis_Length</th>\n",
       "      <th>Minor_Axis_Length</th>\n",
       "      <th>Eccentricity</th>\n",
       "      <th>Convex_Area</th>\n",
       "      <th>Extent</th>\n",
       "      <th>Class</th>\n",
       "    </tr>\n",
       "  </thead>\n",
       "  <tbody>\n",
       "    <tr>\n",
       "      <th>0</th>\n",
       "      <td>15231.0</td>\n",
       "      <td>525.578979</td>\n",
       "      <td>229.749878</td>\n",
       "      <td>85.093788</td>\n",
       "      <td>0.928882</td>\n",
       "      <td>15617.0</td>\n",
       "      <td>0.572896</td>\n",
       "      <td>b'Cammeo'</td>\n",
       "    </tr>\n",
       "    <tr>\n",
       "      <th>1</th>\n",
       "      <td>14656.0</td>\n",
       "      <td>494.311005</td>\n",
       "      <td>206.020065</td>\n",
       "      <td>91.730972</td>\n",
       "      <td>0.895405</td>\n",
       "      <td>15072.0</td>\n",
       "      <td>0.615436</td>\n",
       "      <td>b'Cammeo'</td>\n",
       "    </tr>\n",
       "    <tr>\n",
       "      <th>2</th>\n",
       "      <td>14634.0</td>\n",
       "      <td>501.122009</td>\n",
       "      <td>214.106781</td>\n",
       "      <td>87.768288</td>\n",
       "      <td>0.912118</td>\n",
       "      <td>14954.0</td>\n",
       "      <td>0.693259</td>\n",
       "      <td>b'Cammeo'</td>\n",
       "    </tr>\n",
       "    <tr>\n",
       "      <th>3</th>\n",
       "      <td>13176.0</td>\n",
       "      <td>458.342987</td>\n",
       "      <td>193.337387</td>\n",
       "      <td>87.448395</td>\n",
       "      <td>0.891861</td>\n",
       "      <td>13368.0</td>\n",
       "      <td>0.640669</td>\n",
       "      <td>b'Cammeo'</td>\n",
       "    </tr>\n",
       "    <tr>\n",
       "      <th>4</th>\n",
       "      <td>14688.0</td>\n",
       "      <td>507.166992</td>\n",
       "      <td>211.743378</td>\n",
       "      <td>89.312454</td>\n",
       "      <td>0.906691</td>\n",
       "      <td>15262.0</td>\n",
       "      <td>0.646024</td>\n",
       "      <td>b'Cammeo'</td>\n",
       "    </tr>\n",
       "    <tr>\n",
       "      <th>...</th>\n",
       "      <td>...</td>\n",
       "      <td>...</td>\n",
       "      <td>...</td>\n",
       "      <td>...</td>\n",
       "      <td>...</td>\n",
       "      <td>...</td>\n",
       "      <td>...</td>\n",
       "      <td>...</td>\n",
       "    </tr>\n",
       "    <tr>\n",
       "      <th>3805</th>\n",
       "      <td>11441.0</td>\n",
       "      <td>415.858002</td>\n",
       "      <td>170.486771</td>\n",
       "      <td>85.756592</td>\n",
       "      <td>0.864280</td>\n",
       "      <td>11628.0</td>\n",
       "      <td>0.681012</td>\n",
       "      <td>b'Osmancik'</td>\n",
       "    </tr>\n",
       "    <tr>\n",
       "      <th>3806</th>\n",
       "      <td>11625.0</td>\n",
       "      <td>421.390015</td>\n",
       "      <td>167.714798</td>\n",
       "      <td>89.462570</td>\n",
       "      <td>0.845850</td>\n",
       "      <td>11904.0</td>\n",
       "      <td>0.694279</td>\n",
       "      <td>b'Osmancik'</td>\n",
       "    </tr>\n",
       "    <tr>\n",
       "      <th>3807</th>\n",
       "      <td>12437.0</td>\n",
       "      <td>442.498993</td>\n",
       "      <td>183.572922</td>\n",
       "      <td>86.801979</td>\n",
       "      <td>0.881144</td>\n",
       "      <td>12645.0</td>\n",
       "      <td>0.626739</td>\n",
       "      <td>b'Osmancik'</td>\n",
       "    </tr>\n",
       "    <tr>\n",
       "      <th>3808</th>\n",
       "      <td>9882.0</td>\n",
       "      <td>392.296997</td>\n",
       "      <td>161.193985</td>\n",
       "      <td>78.210480</td>\n",
       "      <td>0.874406</td>\n",
       "      <td>10097.0</td>\n",
       "      <td>0.659064</td>\n",
       "      <td>b'Osmancik'</td>\n",
       "    </tr>\n",
       "    <tr>\n",
       "      <th>3809</th>\n",
       "      <td>11434.0</td>\n",
       "      <td>404.709991</td>\n",
       "      <td>161.079269</td>\n",
       "      <td>90.868195</td>\n",
       "      <td>0.825692</td>\n",
       "      <td>11591.0</td>\n",
       "      <td>0.802949</td>\n",
       "      <td>b'Osmancik'</td>\n",
       "    </tr>\n",
       "  </tbody>\n",
       "</table>\n",
       "<p>3810 rows × 8 columns</p>\n",
       "</div>"
      ],
      "text/plain": [
       "         Area   Perimeter  Major_Axis_Length  Minor_Axis_Length  Eccentricity  \\\n",
       "0     15231.0  525.578979         229.749878          85.093788      0.928882   \n",
       "1     14656.0  494.311005         206.020065          91.730972      0.895405   \n",
       "2     14634.0  501.122009         214.106781          87.768288      0.912118   \n",
       "3     13176.0  458.342987         193.337387          87.448395      0.891861   \n",
       "4     14688.0  507.166992         211.743378          89.312454      0.906691   \n",
       "...       ...         ...                ...                ...           ...   \n",
       "3805  11441.0  415.858002         170.486771          85.756592      0.864280   \n",
       "3806  11625.0  421.390015         167.714798          89.462570      0.845850   \n",
       "3807  12437.0  442.498993         183.572922          86.801979      0.881144   \n",
       "3808   9882.0  392.296997         161.193985          78.210480      0.874406   \n",
       "3809  11434.0  404.709991         161.079269          90.868195      0.825692   \n",
       "\n",
       "      Convex_Area    Extent        Class  \n",
       "0         15617.0  0.572896    b'Cammeo'  \n",
       "1         15072.0  0.615436    b'Cammeo'  \n",
       "2         14954.0  0.693259    b'Cammeo'  \n",
       "3         13368.0  0.640669    b'Cammeo'  \n",
       "4         15262.0  0.646024    b'Cammeo'  \n",
       "...           ...       ...          ...  \n",
       "3805      11628.0  0.681012  b'Osmancik'  \n",
       "3806      11904.0  0.694279  b'Osmancik'  \n",
       "3807      12645.0  0.626739  b'Osmancik'  \n",
       "3808      10097.0  0.659064  b'Osmancik'  \n",
       "3809      11591.0  0.802949  b'Osmancik'  \n",
       "\n",
       "[3810 rows x 8 columns]"
      ]
     },
     "metadata": {},
     "output_type": "display_data"
    }
   ],
   "source": [
    "#1\n",
    "import pandas as pd\n",
    "from scipy.io import arff\n",
    "import numpy as np\n",
    "\n",
    "arff_file=arff.loadarff('Rice_Cammeo_Osmancik.arff')\n",
    "df = pd.DataFrame(arff_file[0])\n",
    "display(df)"
   ]
  },
  {
   "cell_type": "code",
   "execution_count": 2,
   "metadata": {},
   "outputs": [
    {
     "data": {
      "text/html": [
       "<div>\n",
       "<style scoped>\n",
       "    .dataframe tbody tr th:only-of-type {\n",
       "        vertical-align: middle;\n",
       "    }\n",
       "\n",
       "    .dataframe tbody tr th {\n",
       "        vertical-align: top;\n",
       "    }\n",
       "\n",
       "    .dataframe thead th {\n",
       "        text-align: right;\n",
       "    }\n",
       "</style>\n",
       "<table border=\"1\" class=\"dataframe\">\n",
       "  <thead>\n",
       "    <tr style=\"text-align: right;\">\n",
       "      <th></th>\n",
       "      <th>Area</th>\n",
       "      <th>Perimeter</th>\n",
       "      <th>Major_Axis_Length</th>\n",
       "      <th>Minor_Axis_Length</th>\n",
       "      <th>Eccentricity</th>\n",
       "      <th>Convex_Area</th>\n",
       "      <th>Extent</th>\n",
       "    </tr>\n",
       "  </thead>\n",
       "  <tbody>\n",
       "    <tr>\n",
       "      <th>count</th>\n",
       "      <td>3810.000000</td>\n",
       "      <td>3810.000000</td>\n",
       "      <td>3810.000000</td>\n",
       "      <td>3810.000000</td>\n",
       "      <td>3810.000000</td>\n",
       "      <td>3810.000000</td>\n",
       "      <td>3810.000000</td>\n",
       "    </tr>\n",
       "    <tr>\n",
       "      <th>mean</th>\n",
       "      <td>12667.727559</td>\n",
       "      <td>454.239180</td>\n",
       "      <td>188.776222</td>\n",
       "      <td>86.313750</td>\n",
       "      <td>0.886871</td>\n",
       "      <td>12952.496850</td>\n",
       "      <td>0.661934</td>\n",
       "    </tr>\n",
       "    <tr>\n",
       "      <th>std</th>\n",
       "      <td>1732.367706</td>\n",
       "      <td>35.597081</td>\n",
       "      <td>17.448679</td>\n",
       "      <td>5.729817</td>\n",
       "      <td>0.020818</td>\n",
       "      <td>1776.972042</td>\n",
       "      <td>0.077239</td>\n",
       "    </tr>\n",
       "    <tr>\n",
       "      <th>min</th>\n",
       "      <td>7551.000000</td>\n",
       "      <td>359.100006</td>\n",
       "      <td>145.264465</td>\n",
       "      <td>59.532406</td>\n",
       "      <td>0.777233</td>\n",
       "      <td>7723.000000</td>\n",
       "      <td>0.497413</td>\n",
       "    </tr>\n",
       "    <tr>\n",
       "      <th>25%</th>\n",
       "      <td>11370.500000</td>\n",
       "      <td>426.144753</td>\n",
       "      <td>174.353855</td>\n",
       "      <td>82.731695</td>\n",
       "      <td>0.872402</td>\n",
       "      <td>11626.250000</td>\n",
       "      <td>0.598862</td>\n",
       "    </tr>\n",
       "    <tr>\n",
       "      <th>50%</th>\n",
       "      <td>12421.500000</td>\n",
       "      <td>448.852493</td>\n",
       "      <td>185.810059</td>\n",
       "      <td>86.434647</td>\n",
       "      <td>0.889050</td>\n",
       "      <td>12706.500000</td>\n",
       "      <td>0.645361</td>\n",
       "    </tr>\n",
       "    <tr>\n",
       "      <th>75%</th>\n",
       "      <td>13950.000000</td>\n",
       "      <td>483.683746</td>\n",
       "      <td>203.550438</td>\n",
       "      <td>90.143677</td>\n",
       "      <td>0.902588</td>\n",
       "      <td>14284.000000</td>\n",
       "      <td>0.726562</td>\n",
       "    </tr>\n",
       "    <tr>\n",
       "      <th>max</th>\n",
       "      <td>18913.000000</td>\n",
       "      <td>548.445984</td>\n",
       "      <td>239.010498</td>\n",
       "      <td>107.542450</td>\n",
       "      <td>0.948007</td>\n",
       "      <td>19099.000000</td>\n",
       "      <td>0.861050</td>\n",
       "    </tr>\n",
       "  </tbody>\n",
       "</table>\n",
       "</div>"
      ],
      "text/plain": [
       "               Area    Perimeter  Major_Axis_Length  Minor_Axis_Length  \\\n",
       "count   3810.000000  3810.000000        3810.000000        3810.000000   \n",
       "mean   12667.727559   454.239180         188.776222          86.313750   \n",
       "std     1732.367706    35.597081          17.448679           5.729817   \n",
       "min     7551.000000   359.100006         145.264465          59.532406   \n",
       "25%    11370.500000   426.144753         174.353855          82.731695   \n",
       "50%    12421.500000   448.852493         185.810059          86.434647   \n",
       "75%    13950.000000   483.683746         203.550438          90.143677   \n",
       "max    18913.000000   548.445984         239.010498         107.542450   \n",
       "\n",
       "       Eccentricity   Convex_Area       Extent  \n",
       "count   3810.000000   3810.000000  3810.000000  \n",
       "mean       0.886871  12952.496850     0.661934  \n",
       "std        0.020818   1776.972042     0.077239  \n",
       "min        0.777233   7723.000000     0.497413  \n",
       "25%        0.872402  11626.250000     0.598862  \n",
       "50%        0.889050  12706.500000     0.645361  \n",
       "75%        0.902588  14284.000000     0.726562  \n",
       "max        0.948007  19099.000000     0.861050  "
      ]
     },
     "metadata": {},
     "output_type": "display_data"
    }
   ],
   "source": [
    "#2\n",
    "display(df.describe())"
   ]
  },
  {
   "cell_type": "code",
   "execution_count": 3,
   "metadata": {},
   "outputs": [
    {
     "name": "stdout",
     "output_type": "stream",
     "text": [
      "[525.57897949 494.31100464 501.12200928 ... 442.49899292 392.29699707\n",
      " 404.70999146]\n"
     ]
    }
   ],
   "source": [
    "#3\n",
    "data_perimeter=df['Perimeter'].to_numpy()\n",
    "print(data_perimeter)"
   ]
  },
  {
   "cell_type": "code",
   "execution_count": 4,
   "metadata": {},
   "outputs": [
    {
     "name": "stdout",
     "output_type": "stream",
     "text": [
      "454.2391801488681\n"
     ]
    }
   ],
   "source": [
    "#4\n",
    "print(data_perimeter.mean())"
   ]
  },
  {
   "cell_type": "code",
   "execution_count": 5,
   "metadata": {},
   "outputs": [
    {
     "name": "stdout",
     "output_type": "stream",
     "text": [
      "1266.8196213594385\n"
     ]
    }
   ],
   "source": [
    "#5\n",
    "print(data_perimeter.var())"
   ]
  },
  {
   "cell_type": "code",
   "execution_count": 6,
   "metadata": {},
   "outputs": [
    {
     "data": {
      "text/plain": [
       "array([403.19259186, 513.8030426 ])"
      ]
     },
     "metadata": {},
     "output_type": "display_data"
    }
   ],
   "source": [
    "#6\n",
    "percentiles = [5,95]\n",
    "percentile_values = np.percentile(data_perimeter,percentiles)\n",
    "display(percentile_values)"
   ]
  },
  {
   "cell_type": "code",
   "execution_count": 7,
   "metadata": {},
   "outputs": [
    {
     "name": "stdout",
     "output_type": "stream",
     "text": [
      "448.8524932861328\n"
     ]
    }
   ],
   "source": [
    "#7\n",
    "print(np.median(data_perimeter))"
   ]
  },
  {
   "cell_type": "code",
   "execution_count": 8,
   "metadata": {},
   "outputs": [
    {
     "name": "stdout",
     "output_type": "stream",
     "text": [
      "359.1000061035156\n"
     ]
    }
   ],
   "source": [
    "#8\n",
    "min_data_perimeter=data_perimeter.min()\n",
    "print(min_data_perimeter)"
   ]
  },
  {
   "cell_type": "markdown",
   "metadata": {},
   "source": [
    "#### Task 2\n",
    "\n",
    "<ol>\n",
    "    <li>Extract the column 'Area' and convert it to a <code>Pandas Series</code>. Store the result in <em>data_area</em>.Print the result,</li>\n",
    "    <li>Print the 8th element in the Series <em>data_area</em>.</li>\n",
    "    <li>Calculate the averages of 'Perimeter', 'Major_Axis_Length', and 'Minor_Axis_Length'. Store the result as a <code>DataFrame</code> in a variable <em>averages</em>. Print the result.</li>\n",
    "    <li>Use the <code>Pandas</code> built-in <code>plot()</code> function with <code>kind='barh'</code> to visualize the <code>DataFrame</code> <em>averages</em>.</li>\n",
    "</ol>"
   ]
  },
  {
   "cell_type": "code",
   "execution_count": 9,
   "metadata": {
    "scrolled": true
   },
   "outputs": [
    {
     "data": {
      "text/plain": [
       "0       15231.0\n",
       "1       14656.0\n",
       "2       14634.0\n",
       "3       13176.0\n",
       "4       14688.0\n",
       "         ...   \n",
       "3805    11441.0\n",
       "3806    11625.0\n",
       "3807    12437.0\n",
       "3808     9882.0\n",
       "3809    11434.0\n",
       "Name: Area, Length: 3810, dtype: float64"
      ]
     },
     "metadata": {},
     "output_type": "display_data"
    }
   ],
   "source": [
    "### Your code here\n",
    "#1\n",
    "data_area=pd.Series(df['Area'])\n",
    "display(data_area)"
   ]
  },
  {
   "cell_type": "code",
   "execution_count": 10,
   "metadata": {},
   "outputs": [
    {
     "data": {
      "text/plain": [
       "14534.0"
      ]
     },
     "metadata": {},
     "output_type": "display_data"
    }
   ],
   "source": [
    "#2\n",
    "display(data_area[8])"
   ]
  },
  {
   "cell_type": "code",
   "execution_count": 11,
   "metadata": {},
   "outputs": [
    {
     "data": {
      "text/html": [
       "<div>\n",
       "<style scoped>\n",
       "    .dataframe tbody tr th:only-of-type {\n",
       "        vertical-align: middle;\n",
       "    }\n",
       "\n",
       "    .dataframe tbody tr th {\n",
       "        vertical-align: top;\n",
       "    }\n",
       "\n",
       "    .dataframe thead th {\n",
       "        text-align: right;\n",
       "    }\n",
       "</style>\n",
       "<table border=\"1\" class=\"dataframe\">\n",
       "  <thead>\n",
       "    <tr style=\"text-align: right;\">\n",
       "      <th></th>\n",
       "      <th>Average_value</th>\n",
       "    </tr>\n",
       "  </thead>\n",
       "  <tbody>\n",
       "    <tr>\n",
       "      <th>Perimeter</th>\n",
       "      <td>454.239180</td>\n",
       "    </tr>\n",
       "    <tr>\n",
       "      <th>Major Axis Lengrh</th>\n",
       "      <td>188.776222</td>\n",
       "    </tr>\n",
       "    <tr>\n",
       "      <th>Minor Axis Length</th>\n",
       "      <td>86.313750</td>\n",
       "    </tr>\n",
       "  </tbody>\n",
       "</table>\n",
       "</div>"
      ],
      "text/plain": [
       "                   Average_value\n",
       "Perimeter             454.239180\n",
       "Major Axis Lengrh     188.776222\n",
       "Minor Axis Length      86.313750"
      ]
     },
     "metadata": {},
     "output_type": "display_data"
    }
   ],
   "source": [
    "#3\n",
    "average_perimeter=df['Perimeter'].mean()\n",
    "average_major_axis_length=df['Major_Axis_Length'].mean()\n",
    "average_minor_axis_length=df['Minor_Axis_Length'].mean()\n",
    "\n",
    "data=[average_perimeter,average_major_axis_length,average_minor_axis_length]\n",
    "average=pd.DataFrame(data,columns=['Average_value'],index=['Perimeter','Major Axis Lengrh','Minor Axis Length'])\n",
    "display(average)\n"
   ]
  },
  {
   "cell_type": "code",
   "execution_count": 12,
   "metadata": {},
   "outputs": [
    {
     "data": {
      "text/plain": [
       "<Axes: >"
      ]
     },
     "metadata": {},
     "output_type": "display_data"
    },
    {
     "data": {
      "image/png": "[encoded data removed]",
      "text/plain": [
       "<Figure size 640x480 with 1 Axes>"
      ]
     },
     "metadata": {},
     "output_type": "display_data"
    }
   ],
   "source": [
    "#4\n",
    "display(average.plot.barh())"
   ]
  },
  {
   "cell_type": "markdown",
   "metadata": {},
   "source": [
    "#### Task 3\n",
    "\n",
    "<ol>\n",
    "    <li>Calculate and print the percentage of each 'Class' in the dataset. Stores the result in a variable <em>class_percentage</em>.</li>\n",
    "    <li>Use the <code>Pandas</code> built-in <code>plot()</code> function with <code>kind='pie'</code> to visualize the <em>class_percentage</em>.</li>\n",
    "</ol>"
   ]
  },
  {
   "cell_type": "code",
   "execution_count": 13,
   "metadata": {},
   "outputs": [
    {
     "name": "stdout",
     "output_type": "stream",
     "text": [
      "Class\n",
      "b'Osmancik'    57.217848\n",
      "b'Cammeo'      42.782152\n",
      "Name: proportion, dtype: float64\n"
     ]
    }
   ],
   "source": [
    "### Your code here\n",
    "\n",
    "#1\n",
    "total=df['Class'].sum()\n",
    "class_percentage = df['Class'].value_counts(normalize=True) * 100\n",
    "\n",
    "print(class_percentage)"
   ]
  },
  {
   "cell_type": "code",
   "execution_count": 14,
   "metadata": {},
   "outputs": [
    {
     "data": {
      "text/plain": [
       "<Axes: ylabel='proportion'>"
      ]
     },
     "metadata": {},
     "output_type": "display_data"
    },
    {
     "data": {
      "image/png": "[encoded data removed]",
      "text/plain": [
       "<Figure size 640x480 with 1 Axes>"
      ]
     },
     "metadata": {},
     "output_type": "display_data"
    }
   ],
   "source": [
    "#2\n",
    "display(class_percentage.plot.pie())"
   ]
  }
 ],
 "metadata": {
  "kernelspec": {
   "display_name": "Python 3",
   "language": "python",
   "name": "python3"
  },
  "language_info": {
   "codemirror_mode": {
    "name": "ipython",
    "version": 3
   },
   "file_extension": ".py",
   "mimetype": "text/x-python",
   "name": "python",
   "nbconvert_exporter": "python",
   "pygments_lexer": "ipython3",
   "version": "3.12.8"
  }
 },
 "nbformat": 4,
 "nbformat_minor": 4
}
